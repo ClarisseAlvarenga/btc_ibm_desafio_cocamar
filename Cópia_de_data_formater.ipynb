{
  "nbformat": 4,
  "nbformat_minor": 0,
  "metadata": {
    "colab": {
      "name": "Cópia de data_formater.ipynb",
      "provenance": [],
      "collapsed_sections": [],
      "include_colab_link": true
    },
    "kernelspec": {
      "name": "python3",
      "display_name": "Python 3"
    }
  },
  "cells": [
    {
      "cell_type": "markdown",
      "metadata": {
        "id": "view-in-github",
        "colab_type": "text"
      },
      "source": [
        "<a href=\"https://colab.research.google.com/github/ClarisseAlvarenga/btc_ibm_desafio_cocamar/blob/master/C%C3%B3pia_de_data_formater.ipynb\" target=\"_parent\"><img src=\"https://colab.research.google.com/assets/colab-badge.svg\" alt=\"Open In Colab\"/></a>"
      ]
    },
    {
      "cell_type": "markdown",
      "metadata": {
        "id": "ZWengv_0TXYV",
        "colab_type": "text"
      },
      "source": [
        "## Crawler"
      ]
    },
    {
      "cell_type": "code",
      "metadata": {
        "id": "gaDt7GJ3S3xK",
        "colab_type": "code",
        "colab": {}
      },
      "source": [
        "#importando as biblioteca\n",
        "import requests #manipula requisições HTTP curl - não tem motor javascript\n",
        "#opção selenium\n",
        "from bs4 import BeautifulSoup #parser HTML - estrutura em árvore de relacionamento "
      ],
      "execution_count": 2,
      "outputs": []
    },
    {
      "cell_type": "markdown",
      "metadata": {
        "id": "yY-zsQ70FhbY",
        "colab_type": "text"
      },
      "source": [
        "#### Exemplo de HTML"
      ]
    },
    {
      "cell_type": "markdown",
      "metadata": {
        "id": "pOBpYqtdFABV",
        "colab_type": "text"
      },
      "source": [
        "\n",
        "```\n",
        "  <html>\n",
        "  <body>\n",
        "    <h1>\n",
        "      <div></div>\n",
        "        <span>\n",
        "          <img>\n",
        "  </body>\n",
        "  </html>\n",
        "```\n",
        "\n",
        "\n"
      ]
    },
    {
      "cell_type": "code",
      "metadata": {
        "id": "gH4El8SsiHFn",
        "colab_type": "code",
        "colab": {}
      },
      "source": [
        "import re #regras para extrações - uma linguagem à parte"
      ],
      "execution_count": 3,
      "outputs": []
    },
    {
      "cell_type": "code",
      "metadata": {
        "id": "Msvqk394TwvU",
        "colab_type": "code",
        "colab": {}
      },
      "source": [
        "# links - lista python\n",
        "links = [\n",
        "         \n",
        "    \"https://www.ted.com/talks/helen_czerski_the_fascinating_physics_of_everyday_life/transcript?language=pt-br#t-81674\",\n",
        "    \"https://www.ted.com/talks/kevin_kelly_how_ai_can_bring_on_a_second_industrial_revolution/transcript?language=pt-br\",\n",
        "    \"https://www.ted.com/talks/sarah_parcak_help_discover_ancient_ruins_before_it_s_too_late/transcript?language=pt-br\",\n",
        "    \"https://www.ted.com/talks/sylvain_duranton_how_humans_and_ai_can_work_together_to_create_better_businesses/transcript?language=pt-br\",\n",
        "    \"https://www.ted.com/talks/chieko_asakawa_how_new_technology_helps_blind_people_explore_the_world/transcript?language=pt-br\",\n",
        "    \"https://www.ted.com/talks/pierre_barreau_how_ai_could_compose_a_personalized_soundtrack_to_your_life/transcript?language=pt-br\",\n",
        "    \"https://www.ted.com/talks/tom_gruber_how_ai_can_enhance_our_memory_work_and_social_lives/transcript?language=pt-br\",\n",
        "    \"https://olhardigital.com.br/colunistas/wagner_sanchez/post/o_futuro_cada_vez_mais_perto/78972\",\n",
        "    \"https://olhardigital.com.br/colunistas/wagner_sanchez/post/os_riscos_do_machine_learning/80584\",\n",
        "    \"https://olhardigital.com.br/ciencia-e-espaco/noticia/nova-teoria-diz-que-passado-presente-e-futuro-coexistem/97786\",\n",
        "    \"https://olhardigital.com.br/noticia/inteligencia-artificial-da-ibm-consegue-prever-cancer-de-mama/87030\",\n",
        "    \"https://olhardigital.com.br/ciencia-e-espaco/noticia/inteligencia-artificial-ajuda-a-nasa-a-projetar-novos-trajes-espaciais/102772\",\n",
        "    \"https://olhardigital.com.br/colunistas/jorge_vargas_neto/post/como_a_inteligencia_artificial_pode_mudar_o_cenario_de_oferta_de_credito/78999\",\n",
        "    \"https://olhardigital.com.br/ciencia-e-espaco/noticia/cientistas-criam-programa-poderoso-que-aprimora-deteccao-de-galaxias/100683\",\n",
        "    \"https://www.startse.com/noticia/startups/mobtech/deep-learning-o-cerebro-dos-carros-autonomos\",\n",
        "\n",
        "]"
      ],
      "execution_count": 4,
      "outputs": []
    },
    {
      "cell_type": "markdown",
      "metadata": {
        "id": "9jlWFS6TTtFP",
        "colab_type": "text"
      },
      "source": [
        "### TEDTALKS\n"
      ]
    },
    {
      "cell_type": "code",
      "metadata": {
        "id": "_stt-3oZjrSL",
        "colab_type": "code",
        "colab": {}
      },
      "source": [
        "#criando uma função em python para extrair os dados do djeizon - parâmetro é a url\n",
        "def get_transcript_ted(url):\n",
        "  if \"ted\" not in str(url):\n",
        "    raise Exception(\"URL Inválida\")\n",
        "\n",
        "  response = requests.get(url)\n",
        "  #captura o html\n",
        "  soup = BeautifulSoup(response.content) #html\n",
        "  #consulta pela div com a classe Grid Grid--with-gutter d:f@md p-b:4\n",
        "  transcript = soup(\"div\", {\"class\":\"Grid Grid--with-gutter d:f@md p-b:4\"})\n",
        "  #cria uma lista\n",
        "  texts = []\n",
        "  #criando o laço, pesquisando todos os ps\n",
        "  for div in transcript:\n",
        "    text = div(\"p\")[0].text #pega o primeiro p da lista e pegou o texto\n",
        "    text = text.strip() #retira os espaços no começo e no final do texto\n",
        "    text = text.replace(\"\\n\", \" \") #troca nova linha por espaço\n",
        "    text = text.replace(\"\\t\", \" \") #troca tabulação por espaço\n",
        "    text = text.replace('\"', \" \") #troca as aspas por espaço\n",
        "    #aqui usamos expressão regular\n",
        "    text = re.sub(' +', ' ', text) #se tiver mais de um espaço substitui por um espaço só\n",
        "    #inclui na lista texts\n",
        "    texts.append(text)\n",
        "  \n",
        "  _ = soup.title.text\n",
        "  #separando a string por :\n",
        "  author = _.split(\":\")[0].strip() #o que vem antes dos dois pontos\n",
        "  title = _.split(\":\")[1].split(\"|\")[0].strip() # o que vem depois até o |\n",
        "  #saída da função, um dicionário com o padrao definido pela IBM\n",
        "  return {\n",
        "    \"author\": author,\n",
        "    \"body\": \" \".join(texts), #transforma a lista texts em um texto contínuo separado por espaços\n",
        "    \"title\": title,\n",
        "    \"type\": \"video\",\n",
        "    \"url\": url\n",
        "  }"
      ],
      "execution_count": 5,
      "outputs": []
    },
    {
      "cell_type": "code",
      "metadata": {
        "id": "98ldMZkCkfuA",
        "colab_type": "code",
        "colab": {
          "base_uri": "https://localhost:8080/",
          "height": 122
        },
        "outputId": "370c8a2f-119b-4304-87a0-1930b1fc006d"
      },
      "source": [
        "#visualizando o resultado do primeiro link\n",
        "get_transcript_ted(links[0])"
      ],
      "execution_count": 6,
      "outputs": [
        {
          "output_type": "execute_result",
          "data": {
            "text/plain": [
              "{'author': 'Helen Czerski',\n",
              " 'body': 'Como ouviram, sou uma física. E penso que temos de mudar a forma como falamos sobre a física. Sou daqui de perto de Manchester, mas não moro mais aqui. Mas ser dessas redondezas significa que tenho uma avó do norte, a mãe da minha mãe. A vovó é muito inteligente e, apesar de não ter tido muita educação formal, ela é bem perspicaz. Quando eu estava no segundo ano de Física, em Cambridge, me lembro de passar uma tarde na casa da vovó, em Urmston, estudando mecânica quântica. Havia umas pastas abertas na minha frente com alguns, para ser bem honesta, hieróglifos. Vovó chegou, olhou aquilo e perguntou: O que é isto? Eu falei: É mecânica quântica, vó . E tentei explicar um pouco o que estava na página. Tinha a ver com o núcleo e os Coeficientes A e B de Einstein. E vovó pareceu bem impressionada. De repente ela disse: Ah... e o que gente faz quando sabe isso?  (Risos)  Não sei, vó.  (Risos) Acho que falei alguma coisa sobre computadores, porque foi tudo o que consegui pensar na hora. Mas podemos ampliar essa questão, porque ela é muito boa: O que podemos fazer sabendo isso? quando isso é a física? E percebi que, quando falamos sobre a física com as pessoas, a imagem que fazemos dela não inclui coisas que podemos fazer quando sabemos física. Nossa percepção do que é a física precisa mudar um pouco. Não só precisa mudar, mas é importante para nossa sociedade compartilhar essa perspectiva, e não digo isso por ser física, e ser suspeita pra falar, achando que somos as pessoas mais importantes no mundo, sério. Assim, precisamos admitir que há um problema com a imagem da física, que não mudou muito disto aqui. Esta é uma foto muito famosa da Conferência de Solvay, em 1927. Foi quando as grandes mentes da física ficavam se debatendo com a natureza do determinismo, e a probabilidade de uma partícula estar em algum lugar e de algum deles ser real. E era tudo muito difícil. E vejam só como eles parecem sisudos em seus ternos. Marie Curie, que insisto em chamar de Maria Antonieta , o que seria uma reviravolta na história, a terceira da esquerda para direita, na frente, foi autorizada a participar, mas tinha de se vestir como eles. (Risos) Então, é assim que é a física: todos esses hieróglifos, esses têm a ver com ondas e partículas. Essa é a visão, de um artista, de dois buracos negros colidindo, algo que sinceramente vale a pena assistir. Que alívio não ter de avaliar os riscos disso aí. Mas é essa a imagem da física, não é? Algo estranho e difícil, feita por pessoas estranhas vestidas de um jeito estranho. É inacessível, distante e, honestamente, por que eu me importo? O problema é que eu sou uma física e estudo isto aqui. Isto é o meu trabalho, tá? Estudo a interface entre a atmosfera e o oceano. A atmosfera é enorme, o oceano é enorme e a fina camada que os une é extremamente importante, porque é onde as coisas vão de um enorme reservatório a outro. Vocês podem ver a superfície do mar neste vídeo que fiz, e a altura média dessas ondas aliás era de uns 10 metros. Então, sem dúvida, a física está acontecendo aqui, há muitas coisas, e isso definitivamente é física. E, mesmo assim, isso não se inclui em nossa percepção cultural da física, e isso me incomoda. Assim, o que faz parte da nossa percepção cultural da física? Sendo física, um gráfico não podia faltar, né? Na parte de baixo, temos o tempo, de coisas bem rápidas até coisas que levam muito tempo. Coisas pequenas embaixo, coisas grandes lá em cima. Assim, nossa imagem atual cultural da física é assim. Existe a mecânica quântica naquele canto, é muito pequena, muito estranha, acontece muito depressa, tudo muito distante da escala de qualquer coisa que lidamos no dia a dia. Tem também a cosmologia, que está aqui em cima; muito grande, muito longe, também muito estranha. E se pensarmos em buracos negros, no começo do universo, sabemos que essas são fronteiras da física, certo? Há muito trabalho sendo feito para descobrir nova física nesses lugares. Mas o fato é que vocês vão notar que há uma grande lacuna no meio. E, nessa lacuna, há muitas coisas. Há planetas, torradas, vulcões, nuvens, clarinetes, bolhas, golfinhos, e todo tipo de coisas que fazem parte da nossa vida. E elas também são regidas pela física, vocês nem imaginam, mas há física em tudo isso, só que ninguém fala disso. E o interessante é que todas essas coisas são regidas por um número relativamente pequeno de leis da física, como leis do movimento de Newton, termodinâmica, alguma dinâmica rotacional. A física se aplica aí a um enorme leque, desde coisas muito pequenas até coisas muito grandes. Teríamos de tentar muito para fugir disso. E há também uma fronteira na pesquisa física aqui. Só que ninguém fala sobre isso: é a complexidade de mundo. Quando essas leis funcionam juntas, elas resultam no mundo lindo, confuso e complexo em que vivemos. E é justamente essa parte que importa pra mim no dia a dia. Justamente a parte de que não falamos, e há muita pesquisa física aqui. Mas como ela não envolve pesquisar as estrelas, as pessoas, por alguma razão, pensam que não é. Bem, o legal disso é que há tantas coisas nessa parte do meio, todas obedecendo às mesmas leis da física, que podemos ver essas leis funcionando quase o tempo todo ao nosso redor. Tenho um vídeo curtinho aqui. A brincadeira é: um desses ovos está cru, e o outro está cozido. E quero que me digam qual é qual. Qual está cru? (A plateia responde) O da esquerda, isso mesmo! E mesmo que nunca tenham feito isso antes, todos sabiam. A explicação é que, ao colocá-los para girar, quando paramos o ovo cozido, que está completamente sólido, paramos o ovo todo. Quando paramos o outro, paramos apenas a casca; o líquido de dentro ainda fica girando, pois nada o fez parar. E então ele empurra a casca de novo, fazendo o ovo girar novamente. Isso é genial, não é? É a demonstração de algo da física que chamamos de lei da Conservação do Momento Angular, que basicamente diz que, ao colocarmos algo para rodar sobre um eixo fixo, ele vai continuar girando, a não ser que o obriguemos a parar. E isso é realmente fundamental no funcionamento do universo. E não se aplica apenas a ovos, apesar de ser bastante útil se forem o tipo de pessoa, e aparentemente tais pessoas existem, que cozinham ovos e depois os colocam na geladeira. Quem faz isso? Não precisam falar, tudo bem. Não vamos te julgar. Mas isso também tem muitas outras aplicações. Este é o telescópio espacial Hubble. E o Hubble Ultra Deep Field, que é uma parte minúscula do céu. O Hubble flutua no espaço há 25 anos, sem encostar em nada. Ainda assim consegue apontar para uma minúscula região celeste. Por 11 dias e meio, ele fez isso em seções, de forma tão precisa que enviou imagens impressionantes como esta. Então, a pergunta é: como algo que não está encostado em nada sabe onde está? A resposta é que tem algo bem no meio dele que, para minha grande decepção, não é um ovo cru, mas que faz a mesma coisa. Ele tem giroscópios rodando e, por causa da lei da Conservação do Momento Angular, permanecem rodando sobre o mesmo eixo indefinidamente. O Hubble meio que roda ao redor deles, e assim pode se orientar. Assim, a mesma leizinha da física com que brincamos e usamos na cozinha também explica o que torna possível algumas das tecnologias mais avançadas de nosso tempo. E essa é a graça da física, pois podemos aprender esses padrões para então aplicá-los indefinidamente. E é muito gratificante quando os detectamos em novos lugares. Essa é a graça da física. Uma vez, mostrei esse vídeo para uma plateia de executivos, e lá estavam eles todos bem-vestidos e tentando impressionar o chefe. Como o tempo estava acabando, mostrei o vídeo do ovo e falei: Bem, vocês podem tentar descobrir e depois checar comigo . Aí, saí do palco, e tive, literalmente, homens de meia-idade me puxando pela manga, perguntando: É este? É este? E quando eu dizia Sim , eles: Yes!  (Risos) A alegria que ficamos ao notar esses padrões não vai embora quando ficamos adultos. E isso é realmente importante, porque a física tem a ver com padrões, e um pequeno número de padrões nos dá acesso a quase toda a física do nosso mundo cotidiano. A melhor coisa sobre tudo isso é que envolve poder brincar. Um ovo não deveria ser descartado como algo banal, que damos às crianças para brincar num sábado à tarde para mantê-las quietas. São essas coisas que realmente importam, porque são as leis do universo, e elas se aplicam aos ovos e à torrada que cai com a manteiga pra baixo, e esse tipo de coisa, tanto quanto se aplica à tecnologia moderna e tudo o mais que ocorre no mundo. Então, acho que devíamos brincar com esses padrões. Basicamente, há um pequeno número de conceitos que podemos aprender usando coisas da nossa cozinha, que são muito úteis para a nossa vida. Se quiserem aprender sobre termodinâmica, um pato é um bom começo, nos perguntando por que suas patas não ficam frias. Após aprenderem um pouco de termodinâmica com o pato, vão entender também a geladeira. Os ímãs com que brincamos na cozinha fazem girar as turbinas e gerar a energia moderna. Colocar passas numa bebida gasosa é sempre divertido. Se estiverem numa festa chata, catem algumas passas no bufê e joguem dentro de uma bebida com gás. Vai haver três consequências. Primeira, é muito bom de olhar; tentem. Segunda, afasta os chatos. Terceira, atrai pessoas interessantes; sempre saímos ganhando. E depois há a rotação, os gases e a viscosidade. Existem esses padrões, que estão por toda parte ao nosso redor. E é algo bem democrático, né? Todos têm acesso à mesma física, sem necessidade dum laboratório chique. Quando escrevi o livro, tinha um capítulo sobre rotação. Falei um pouco da torrada cair com a manteiga pra baixo. Dei o capítulo para um amigo, que não era cientista, ler e me dar a opinião dele, e ele levou o capítulo com ele para o exterior, onde estava trabalhando. Algumas semanas depois, recebi uma mensagem dele dizendo: Estou tomando café num hotel chique na Suíça, e queria muito derrubar a torrada da mesa, pois não acredito no que você escreveu . E o legal é que ele não precisava acreditar. Ele podia empurrar a torrada da mesa e tentar ele mesmo. Então, há duas coisas importantes para se saber sobre a ciência: as leis fundamentais que aprendemos através da experiência e experimentação funcionam, certo? O dia que jogarmos uma maçã e ela for pra cima, vamos ter de discutir a gravidade. Até isso acontecer, sabemos como a gravidade funciona, e podemos aprender o arcabouço. E existe o processo da experimentação: confiar nas coisas, tentar fazer coisas, pensamento crítico, como avançar com a ciência, e podemos aprender tudo isso brincando com as coisas do dia a dia. E isso é muito importante, pois tem todo esse papo sobre tecnologia, palestras sobre computação quântica e essas coisas misteriosas tão distantes, mas, basicamente, ainda vivemos em corpos mais ou menos deste tamanho, andamos, sentamos em cadeiras mais ou menos deste tamanho, ainda vivemos num mundo físico. E nos familiarizar com esses conceitos significa que não somos impotentes. E é realmente importante não nos sentirmos impotentes, as pessoas sentirem que podem olhar para as coisas, porque não se trata de saber todas as respostas, mas se trata de ter o arcabouço para fazermos as perguntas certas. E, brincando com todas essas coisinhas fundamentais no dia a dia, adquirimos confiança para fazer as perguntas certas. Então, existe algo maior. Ao responder àquela pergunta da vovó, há muita coisa no dia a dia que podemos fazer sabendo isso, especialmente se tivermos ovos em casa, mas existe uma resposta muito mais profunda. Além de toda a diversão e curiosidade quando brincamos com as coisas, pois, afinal, não é só criança que pode brincar, certo? Todos podemos nos divertir brincando, sem ficarmos constrangidos por isso. Podem pôr a culpa em mim, tá? Assim, quando se trata das razões para estudarmos a física, por exemplo, eis a melhor delas, na minha opinião: penso que cada um de nós possui três sistemas de apoio na vida. Temos nosso próprio corpo, nosso planeta e nossa civilização. Cada um é um sistema de apoio independente, cada um nos mantendo vivos à sua maneira. E todos eles são regidos pelas leis fundamentais da física que podemos aprender na cozinha com ovos, xícaras e limonada, e tudo com que podemos brincar. E essa é a razão, por exemplo, de algo como a mudança climática ser um problema tão sério, por se tratar de dois desses sistemas de apoio: nosso planeta e civilização, que estão se estranhando, que estão em conflito, e precisamos negociar esses limites. E as leis fundamentais da física que podemos aprender, a forma como o mundo funciona, são as ferramentas na base de tudo; elas são a fundação. Há muito o que aprender na vida, mas conhecer as fundações vai nos levar longe. E penso que, caso não estejam interessados em se divertir com a física ou algo nesse sentido... estranho, mas aparentemente pessoas assim existem... certamente vocês devem estar interessados em se manter vivos e em como os sistemas de apoio à vida funcionam. O arcabouço da física é tremendamente constante; é o mesmo em muitas das coisas que medimos. E não vai mudar tão cedo. Mesmo que se descubram novas mecânicas quânticas, as maçãs vão continuar caindo. Então, às vezes as pessoas me perguntam: Como começar? Por onde começar quem estiver interessado no mundo físico, não quiser se sentir impotente e quiser brincar? Eis minha sugestão: um bom momento para começar, e adultos costumam fazer isso, é quando estiverem em algum lugar, virem algo e o cérebro disser: Ué... que estranho . E então sua consciência disser: Você é um adulto, vamos embora . E aí é que está: preste atenção quando seu cérebro disser: Puxa! Está meio estranho , pois há algo ali com que brincar, e vale a pena brincar com aquilo, então esse é um bom começo. Mas, se não costumam ter esses momentos, ao sair daqui, no caminho de casa, podem começar com coisas tipo: colocar passas em bebida gasosa é muito divertido. Observem uma mancha de café secar. Sei que se parece com ficar vendo tinta secar, mas coisas estranhas vão acontecer; vale a pena assistir. Viro uma figura em festas se houver xícaras por perto. Há tantas brincadeiras para se fazer com xícaras, é genial. A mais óbvia é pegar uma xícara e uma colher, tocar a xícara perto da borda, para ouvir algo estranho. Uma outra é jogar a torrada no chão, porque vocês podem, e vão aprender com isso. E, se estiverem se sentindo audaciosos, tentem jogá-la de modo que ela não caia com a manteiga pra baixo, o que é possível. A questão é que, primeiro, todos deveríamos brincar com as coisas. Não deveríamos ter medo de investigar o mundo físico por nós mesmos com as ferramentas ao nosso redor, porque todos temos acesso a elas. Isso é importante, pois, se quisermos entender a sociedade e ser bons cidadãos, precisamos entender o arcabouço em que tudo o mais tem de se basear. Brincar é ótimo. Manter nossos sistemas de apoio na vida funcionando é ótimo. Mas o que realmente precisamos mudar no modo como falamos sobre a física é que precisamos entender que física não é coisa de gente esquisita e de hieróglifos estranhos, e de alguém num laboratório chique. A física está bem aqui; é para nós, e podemos todos brincar com ela. Muito obrigada. (Aplausos) (Vivas)',\n",
              " 'title': 'A fascinante física do dia a dia',\n",
              " 'type': 'video',\n",
              " 'url': 'https://www.ted.com/talks/helen_czerski_the_fascinating_physics_of_everyday_life/transcript?language=pt-br#t-81674'}"
            ]
          },
          "metadata": {
            "tags": []
          },
          "execution_count": 6
        }
      ]
    },
    {
      "cell_type": "markdown",
      "metadata": {
        "id": "qdwq_oOjnF73",
        "colab_type": "text"
      },
      "source": [
        "### OLHAR DIGITAL"
      ]
    },
    {
      "cell_type": "code",
      "metadata": {
        "id": "rthK2zg-nQ4o",
        "colab_type": "code",
        "colab": {}
      },
      "source": [
        "response = requests.get(links[7])"
      ],
      "execution_count": null,
      "outputs": []
    },
    {
      "cell_type": "code",
      "metadata": {
        "id": "c-eiDpjYpJEs",
        "colab_type": "code",
        "colab": {}
      },
      "source": [
        "def get_text_olhar_digital(url):\n",
        "  if \"olhardigital\" not in str(url):\n",
        "    raise Exception(\"URL Inválida\")\n",
        "\n",
        "  response = requests.get(url)\n",
        "  soup = BeautifulSoup(response.content)\n",
        "  transcript = soup(\"article\", {\"class\":\"mat-container\"})[0](\"div\", {\"class\":\"mat-txt\"})\n",
        "  texts = []\n",
        "  for div in transcript:\n",
        "    _ = div(\"p\")\n",
        "    for p in _:\n",
        "      text = p.text\n",
        "      text = text.strip()\n",
        "      text = text.replace(\"\\n\", \" \")\n",
        "      text = text.replace(\"\\t\", \" \")\n",
        "      text = text.replace('\"', \" \")\n",
        "      text = re.sub(' +', ' ', text)\n",
        "      texts.append(text)\n",
        "  \n",
        "  try:\n",
        "    author = soup(\"h1\", {\"class\":\"cln-nom\"})[0].text\n",
        "  except IndexError:\n",
        "    author = soup(\"span\",{\"class\":\"meta-item meta-aut\"})[0].text\n",
        "    if \",\" in author:\n",
        "      author = author.split(\",\")[0]\n",
        "  except:\n",
        "    raise Exception(\"Verifique o codigo\")\n",
        "\n",
        "  title = soup(\"h1\", {\"class\":\"mat-tit\"})[0].text\n",
        "  return {\n",
        "    \"author\": author,\n",
        "    \"body\": \" \".join(texts),\n",
        "    \"title\": title,\n",
        "    \"type\": \"article\",\n",
        "    \"url\": url\n",
        "  }"
      ],
      "execution_count": null,
      "outputs": []
    },
    {
      "cell_type": "code",
      "metadata": {
        "id": "nBsCJ5QqpsBC",
        "colab_type": "code",
        "colab": {
          "base_uri": "https://localhost:8080/",
          "height": 129
        },
        "outputId": "4f025365-1516-48f5-cae6-3bf5a0f10b92"
      },
      "source": [
        "get_text_olhar_digital(\"https://olhardigital.com.br/ciencia-e-espaco/noticia/nova-teoria-diz-que-passado-presente-e-futuro-coexistem/97786\")"
      ],
      "execution_count": null,
      "outputs": [
        {
          "output_type": "execute_result",
          "data": {
            "text/plain": [
              "{'author': 'Renato Mota',\n",
              " 'body': 'Diferente de um rio que corre , o tempo não se comporta da forma como o percebemos. Passado, presente e futuro existem simultaneamente, mas em dimensões diferentes. Esse é o fundamento por trás do conceito do Bloco universal , defendido pelo professor associado de filosofia do Instituto de Tecnologia de Massachusetts (MIT), Bradford Skow. Em seu livro Objective Becoming , Skow detalha essa visão, que defende que tempo deve ser considerado como uma dimensão do espaço-tempo, como sustenta a teoria da relatividade. Dessa maneira, ele não “passa” por nós, mas faz parte do tecido maior do universo – ao invés de ser algo que se move dentro dele.  A teoria do universo em bloco diz que você se espalha pelo tempo, da mesma maneira como se espalha no espaço , explica Skow. Não estamos localizados em um único momento . Ou sejam, eventos ocorrem, pessoas envelhecem e assim por diante. As coisas mudam , afirma o professor de filosofia. Mas o passado não “desaparece”, ele simplesmente existe em diferentes partes do espaço-tempo. Esse pensamento possui uma base na teoria do espaço e do tempo unificados, proposta por Albert Einstein em 1915. Em sua teoria geral da relatividade, o físico alemão propõe que o espaço-tempo toma forma de maneira múltipla ou contínua, que podem ser visualizados como um espaço vetorial quadridimensional. A distinção entre passado, presente e futuro é apenas uma ilusão teimosamente persistente , afirmou Einstein. No livro, Skow considera diversas explicações alternativas para como o tempo se comporta, mas se diz mais impressionado com a teoria dos holofotes em movimento , que coloca passado e o futuro em pé de igualdade com o presente. No entanto, a teoria sustenta que apenas um momento de cada vez está absolutamente presente, e esse momento continua mudando, como se um holofote estivesse se movendo sobre ela. As experiências que você teve há um ou dez anos ainda são igualmente reais, afirma Skow; eles são apenas inacessíveis porque agora você está em uma parte diferente do espaço-tempo (o que inviabiliza, infelizmente, viagens no tempo). Via: MIT News',\n",
              " 'title': 'Nova teoria diz que passado, presente e futuro coexistem',\n",
              " 'type': 'article',\n",
              " 'url': 'https://olhardigital.com.br/ciencia-e-espaco/noticia/nova-teoria-diz-que-passado-presente-e-futuro-coexistem/97786'}"
            ]
          },
          "metadata": {
            "tags": []
          },
          "execution_count": 86
        }
      ]
    },
    {
      "cell_type": "markdown",
      "metadata": {
        "id": "uQDSb0MRqcWk",
        "colab_type": "text"
      },
      "source": [
        "### StartSe"
      ]
    },
    {
      "cell_type": "code",
      "metadata": {
        "id": "Uif6y5dRr7RX",
        "colab_type": "code",
        "colab": {}
      },
      "source": [
        "def get_text_startse(url):\n",
        "  if \"startse\" not in str(url):\n",
        "    raise Exception(\"URL Inválida\")\n",
        "\n",
        "  response = requests.get(url)\n",
        "  soup = BeautifulSoup(response.content)\n",
        "  transcript = soup(\"span\", {\"style\":\"font-weight: 400;\"})\n",
        "  texts = []\n",
        "  for span in transcript:\n",
        "    text = span.text\n",
        "    text = text.strip()\n",
        "    text = text.replace(\"\\n\", \" \")\n",
        "    text = text.replace(\"\\t\", \" \")\n",
        "    text = text.replace('\"', \" \")\n",
        "    text = re.sub(' +', ' ', text)\n",
        "    texts.append(text)\n",
        "  \n",
        "  author = soup(\"div\", {\"class\":\"title-single__info\"})[0](\"h4\")[0](\"a\")[0].text\n",
        "  title = soup(\"div\", {\"class\":\"title-single__title\"})[0](\"h2\")[0].text\n",
        "  return {\n",
        "    \"author\": author,\n",
        "    \"body\": \" \".join(texts),\n",
        "    \"title\": title,\n",
        "    \"type\": \"article\",\n",
        "    \"url\": url\n",
        "  }"
      ],
      "execution_count": null,
      "outputs": []
    },
    {
      "cell_type": "code",
      "metadata": {
        "id": "lIuketLgsLIV",
        "colab_type": "code",
        "colab": {
          "base_uri": "https://localhost:8080/",
          "height": 129
        },
        "outputId": "356df196-af16-41b3-8c6f-c1328c04f376"
      },
      "source": [
        "get_text_startse(links[-1])"
      ],
      "execution_count": null,
      "outputs": [
        {
          "output_type": "execute_result",
          "data": {
            "text/plain": [
              "{'author': 'Isabella Câmara',\n",
              " 'body': 'Atualmente, os carros autônomos são alvo de muita curiosidade e, de acordo com João Paulo Navarro, arquiteto de soluções com foco em Deep Learning e computação de alto-desempenho da NVIDIA, suas vantagens falam por si só. Diferente dos humanos, o carro autônomo é capaz de pensar com mais agilidade e tomar decisões de forma rápida, enxerga de modo periférico e não enfrenta os principais obstáculos do trânsito – cansaço, distração, imprudência e consumo de álcool causam a morte de cerca de 1,25 milhão de pessoas todos os anos no mundo, de acordo com a Organização Mundial da Saúde. Frente a esse cenário, João Paulo acredita que o carro autônomo é a resposta para resolver o problema do trânsito. Porém, antes de colocar os veículos para rodarem nas ruas, é necessário treinar a máquina com base no mais novo programa de rede neural, o deep learning, que se assemelha a um cérebro humano. A ideia dessa nova tecnologia é fazer com que o carro visualiza o mundo real e reconhece obstáculos no meio do caminho antes de tomar qualquer decisão. “Mas não é somente ver, é entender o que está por trás daquilo para tomar decisões mais seguras. Uma imagem é composta de reflexos de luz, representados no computador em forma de número, mas, se eu quero identificar que determinado objeto é uma pessoa eu preciso extrair o sentido por trás da imagem, e o número não é o suficiente”, explica Navarro no Mobility Day 2018. “Se queremos máquinas para pensar, precisamos ensiná-las a ver”, disse Fei-Fei Li, uma das principais cientistas da Universidade de Stanford – e João Paulo revela que é nesta frase que está a verdadeira essência do deep learning. Diferente de uma tecnologia de reconhecimento visual tradicional, a deep learning permite que a máquina aprenda novos objetos a partir de um treinamento, o que a faz realmente enxergar. “Algoritmos baseados em regra não são a solução para os carros autônomos”, afirma. Para ele, “não basta identificar itens classificados por uma forma padrão de cachorro”, por exemplo, porque no mundo real eles não estarão visíveis de uma forma padronizada, “são infinitas combinações de cachorros que a máquina precisa reconhecer”, explica. Por outro lado, com a deep learning, os engenheiros não precisaram descrever todas as características de um cachorro. “Eles passarão imagens para a máquina e ela aprenderá quais são os padrões fundamentais da imagem para, futuramente, identificá-los em outras situações de uma maneira curada”, explica. Dessa forma, os carros autônomos serão dotados de um “cérebro”, o que os tornará capazes de discernir se será necessário diminuir a velocidade devido a um cachorro em potencial no meio da rua ou seguir seu caminho caso o animal esteja fora de sua rota. Carros autônomos e deep learning no Brasil Atualmente, já existem diversos projetos no Brasil envolvendo a construção de carros autônomos – a maioria das iniciativas, apesar dos cortes que o governo fez em verbas para pesquisa e ciência, acontecem dentro das próprias universidades, diz Navarro. O Iara (Intelligent Autonomous Robotic Automobile) nasceu de um projeto da Universidade Federal do Espírito Santo e, hoje, é um dos primeiros veículos autônomos brasileiros a trafegar em vias urbanas e em rodovias. De acordo com o arquiteto da NVIDIA, apesar dos projetos brasileiros estarem se tornando realidade, ainda serão necessários de 5 a 10 anos para que um carro autônomo saia do meio acadêmico e seja implantado em larga escala no país. Um dos grandes obstáculos – e causadores dessa demora relativa -, segundo ele, é em relação às especificidades do mercado brasileiro. “Trazer fabricantes e empresas com interesse em desenvolver carros autônomos aqui é o grande desafio. Um veículo autônomo treinado para as estradas da Califórnia, não é o ideal para o Brasil. Precisamos desenvolver a tecnologia aqui, trazendo o mercado ou gerando empresas no próprio país para montar um modelo adequado a nossa realidade”, conclui.',\n",
              " 'title': 'Deep Learning: conheça o cérebro dos carros autônomos',\n",
              " 'type': 'article',\n",
              " 'url': 'https://www.startse.com/noticia/startups/mobtech/deep-learning-o-cerebro-dos-carros-autonomos'}"
            ]
          },
          "metadata": {
            "tags": []
          },
          "execution_count": 88
        }
      ]
    },
    {
      "cell_type": "markdown",
      "metadata": {
        "id": "zZ1p-oeTshUL",
        "colab_type": "text"
      },
      "source": [
        "## Extração"
      ]
    },
    {
      "cell_type": "code",
      "metadata": {
        "id": "WpnCT-vEsoK8",
        "colab_type": "code",
        "colab": {}
      },
      "source": [
        "#importando bibliotecas\n",
        "\n",
        "#os = Sistema Operacional\n",
        "#uuid = gerador de Ids\n",
        "#json = manipula json\n",
        "import os, uuid, json "
      ],
      "execution_count": null,
      "outputs": []
    },
    {
      "cell_type": "code",
      "metadata": {
        "id": "rV0qaja1tSMU",
        "colab_type": "code",
        "colab": {}
      },
      "source": [
        "#criando a pasta data\n",
        "os.mkdir(\"./data\")"
      ],
      "execution_count": null,
      "outputs": []
    },
    {
      "cell_type": "code",
      "metadata": {
        "id": "EDkXeap6sifp",
        "colab_type": "code",
        "colab": {}
      },
      "source": [
        "#criando um laço\n",
        "for link in links:\n",
        "  if \"ted\" in link:\n",
        "    response = get_transcript_ted(link)\n",
        "    with open(\"./data/ted_{0}.json\".format(str(uuid.uuid4())), \"w\") as f:\n",
        "      json.dump(response, f, indent=4, ensure_ascii=False) #ensure_ascii ignora erro de codificação\n",
        "  if \"olhardigital\" in link:\n",
        "    try:\n",
        "      response = get_text_olhar_digital(link)\n",
        "      with open(\"./data/olhardigital_{0}.json\".format(str(uuid.uuid4())), \"w\") as f:\n",
        "        json.dump(response, f, indent=4, ensure_ascii=False)\n",
        "\n",
        "    except:\n",
        "        print(link)\n",
        "  if \"startse\" in link:\n",
        "    response = get_text_startse(link)\n",
        "    with open(\"./data/startse_{0}.json\".format(str(uuid.uuid4())), \"w\") as f:\n",
        "      json.dump(response, f, indent=4, ensure_ascii=False)\n"
      ],
      "execution_count": null,
      "outputs": []
    },
    {
      "cell_type": "markdown",
      "metadata": {
        "id": "7XXSSO4GuA_h",
        "colab_type": "text"
      },
      "source": [
        "## Zip\n"
      ]
    },
    {
      "cell_type": "code",
      "metadata": {
        "id": "UDY0OduGr3GV",
        "colab_type": "code",
        "colab": {
          "base_uri": "https://localhost:8080/",
          "height": 331
        },
        "outputId": "4a1293d9-ebb3-4fc4-bf05-8297eb163c2e"
      },
      "source": [
        "#zip da pasta criada - comando do linux\n",
        "!zip -r data.zip ./data"
      ],
      "execution_count": null,
      "outputs": [
        {
          "output_type": "stream",
          "text": [
            "updating: data/ (stored 0%)\n",
            "  adding: data/ted_28355e37-2d9a-4db8-b81f-f9c2419639e2.json (deflated 58%)\n",
            "  adding: data/ted_c04ef0e1-3039-4c8e-8b0e-5a8d2302871e.json (deflated 59%)\n",
            "  adding: data/olhardigital_ea4a50b5-a9f0-45d9-8fe5-28023b070716.json (deflated 50%)\n",
            "  adding: data/olhardigital_224eaa27-f59b-47bf-bdb0-b98490cfa710.json (deflated 54%)\n",
            "  adding: data/ted_9599fb1f-f992-4273-bf2b-83987a55982e.json (deflated 57%)\n",
            "  adding: data/olhardigital_6f749876-057a-4940-97eb-a11e4672913b.json (deflated 48%)\n",
            "  adding: data/olhardigital_5d74da33-2138-4170-a55d-15815dc11c6b.json (deflated 55%)\n",
            "  adding: data/ted_7428bec8-fa99-491b-8afb-a7299604ddb1.json (deflated 55%)\n",
            "  adding: data/olhardigital_94da6001-dcac-482b-850f-aab52f555f3b.json (deflated 50%)\n",
            "  adding: data/olhardigital_9dff85c0-694d-433c-973a-851178bb6908.json (deflated 55%)\n",
            "  adding: data/ted_a98e4784-8ca0-4cff-9873-f56d133ce244.json (deflated 56%)\n",
            "  adding: data/ted_50b55fd8-b1b7-462e-9a48-3cbaf3e29ec4.json (deflated 55%)\n",
            "  adding: data/startse_606c00ee-f44e-4226-aab1-fa48d446e34d.json (deflated 53%)\n",
            "  adding: data/olhardigital_9c40fe9f-2512-4dec-a0e9-cce65f8bbbe9.json (deflated 54%)\n",
            "  adding: data/ted_94e89c12-d5b4-44bf-a7b9-6c8626334010.json (deflated 60%)\n"
          ],
          "name": "stdout"
        }
      ]
    },
    {
      "cell_type": "code",
      "metadata": {
        "id": "F-8AdENUw-iN",
        "colab_type": "code",
        "colab": {}
      },
      "source": [
        "#deleta a pasta\n",
        "! rm -rf ./data"
      ],
      "execution_count": null,
      "outputs": []
    }
  ]
}