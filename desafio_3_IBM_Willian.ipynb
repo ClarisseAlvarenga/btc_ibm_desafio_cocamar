{
  "nbformat": 4,
  "nbformat_minor": 0,
  "metadata": {
    "colab": {
      "name": "desafio_3_IBM_Willian",
      "provenance": [],
      "include_colab_link": true
    },
    "kernelspec": {
      "name": "python3",
      "display_name": "Python 3"
    }
  },
  "cells": [
    {
      "cell_type": "markdown",
      "metadata": {
        "id": "view-in-github",
        "colab_type": "text"
      },
      "source": [
        "<a href=\"https://colab.research.google.com/github/ClarisseAlvarenga/btc_ibm_desafio_cocamar/blob/master/desafio_3_IBM_Willian.ipynb\" target=\"_parent\"><img src=\"https://colab.research.google.com/assets/colab-badge.svg\" alt=\"Open In Colab\"/></a>"
      ]
    },
    {
      "cell_type": "code",
      "metadata": {
        "id": "Dw_DfIUbnW9l",
        "colab_type": "code",
        "colab": {}
      },
      "source": [
        "from bs4 import BeautifulSoup\n",
        "import requests \n",
        "import re\n",
        "import json"
      ],
      "execution_count": null,
      "outputs": []
    },
    {
      "cell_type": "code",
      "metadata": {
        "id": "YEps25aunaXx",
        "colab_type": "code",
        "colab": {}
      },
      "source": [
        "def get_transcript_ted(url):\n",
        "  if \"ted\" not in str(url):\n",
        "    raise Exception(\"URL Inválida\")\n",
        "\n",
        "  response = requests.get(url)\n",
        "  soup = BeautifulSoup(response.content)\n",
        "  transcript = soup(\"div\", {\"class\":\"Grid Grid--with-gutter d:f@md p-b:4\"})\n",
        "  texts = []\n",
        "  for div in transcript:\n",
        "    text = div(\"p\")[0].text\n",
        "    text = text.strip()\n",
        "    text = text.replace(\"\\n\", \" \")\n",
        "    text = text.replace(\"\\t\", \" \")\n",
        "    text = re.sub(' +', ' ', text)\n",
        "    texts.append(text)\n",
        "  \n",
        "  _ = soup.title.text\n",
        "  author = _.split(\":\")[0].strip()\n",
        "  title = _.split(\":\")[1].split(\"|\")[0].strip()\n",
        "  return {\n",
        "    \"author\": author,\n",
        "    \"body\": \" \".join(texts), \n",
        "    \"title\": title,\n",
        "    \"type\": \"video\",\n",
        "    \"url\": url\n",
        "  }"
      ],
      "execution_count": null,
      "outputs": []
    },
    {
      "cell_type": "code",
      "metadata": {
        "id": "0tRlrRLQCMXJ",
        "colab_type": "code",
        "colab": {}
      },
      "source": [
        "links_ted = [\"https://www.ted.com/talks/helen_czerski_the_fascinating_physics_of_everyday_life/transcript?language=pt-br#t-81674\",\n",
        "\"https://www.ted.com/talks/kevin_kelly_how_ai_can_bring_on_a_second_industrial_revolution/transcript?language=pt-br\",\n",
        "\"https://www.ted.com/talks/sarah_parcak_help_discover_ancient_ruins_before_it_s_too_late/transcript?language=pt-br\",\n",
        "\"https://www.ted.com/talks/sylvain_duranton_how_humans_and_ai_can_work_together_to_create_better_businesses/transcript?language=pt-br\",\n",
        "\"https://www.ted.com/talks/chieko_asakawa_how_new_technology_helps_blind_people_explore_the_world/transcript?language=pt-br\",\n",
        "\"https://www.ted.com/talks/pierre_barreau_how_ai_could_compose_a_personalized_soundtrack_to_your_life/transcript?language=pt-br\",\n",
        "\"https://www.ted.com/talks/tom_gruber_how_ai_can_enhance_our_memory_work_and_social_lives/transcript?language=pt-br\"]"
      ],
      "execution_count": null,
      "outputs": []
    },
    {
      "cell_type": "code",
      "metadata": {
        "id": "dzunV3S-nc22",
        "colab_type": "code",
        "colab": {}
      },
      "source": [
        "for link in links_ted:\n",
        "  dados = get_transcript_ted(link)\n",
        "  title = dados[\"title\"]\n",
        "  title = title.replace(\" \", \"_\")\n",
        "  title = title.replace(\".\", \"\")\n",
        "  title\n",
        "  with open(\"/content/\" + title + \".json\", 'w', encoding='utf-8') as fp:\n",
        "      json.dump(dados, fp, ensure_ascii=False, indent=0)"
      ],
      "execution_count": null,
      "outputs": []
    },
    {
      "cell_type": "code",
      "metadata": {
        "id": "f2HUkk_Bn5Z4",
        "colab_type": "code",
        "colab": {}
      },
      "source": [
        "def get_text_olhar_digital(url):\n",
        "  if \"olhardigital\" not in str(url):\n",
        "    raise Exception(\"URL Inválida\")\n",
        "\n",
        "  response = requests.get(url)\n",
        "  soup = BeautifulSoup(response.content)\n",
        "  transcript = soup(\"article\", {\"class\":\"mat-container\"})[0](\"div\", {\"class\":\"mat-txt\"})\n",
        "  texts = []\n",
        "  for div in transcript:\n",
        "    _ = div(\"p\")\n",
        "    for p in _:\n",
        "      text = p.text\n",
        "      text = text.strip()\n",
        "      text = text.replace(\"\\n\", \" \")\n",
        "      text = text.replace(\"\\t\", \" \")\n",
        "      text = re.sub(' +', ' ', text)\n",
        "      texts.append(text)\n",
        "  \n",
        "  author = soup(\"span\",{\"class\":\"meta-item meta-aut\"})[0].text\n",
        "  title = soup(\"h1\", {\"class\":\"mat-tit\"})[0].text\n",
        "  return {\n",
        "    \"author\": author,\n",
        "    \"body\": \" \".join(texts),\n",
        "    \"title\": title,\n",
        "    \"type\": \"article\",\n",
        "    \"url\": url\n",
        "  }"
      ],
      "execution_count": null,
      "outputs": []
    },
    {
      "cell_type": "code",
      "metadata": {
        "id": "RVAOcPW6EPwO",
        "colab_type": "code",
        "colab": {}
      },
      "source": [
        "links_olhar_digital = [\"https://olhardigital.com.br/colunistas/wagner_sanchez/post/o_futuro_cada_vez_mais_perto/78972\",\n",
        "\"https://olhardigital.com.br/colunistas/wagner_sanchez/post/os_riscos_do_machine_learning/80584\",\n",
        "\"https://olhardigital.com.br/ciencia-e-espaco/noticia/nova-teoria-diz-que-passado-presente-e-futuro-coexistem/97786\",\n",
        "\"https://olhardigital.com.br/noticia/inteligencia-artificial-da-ibm-consegue-prever-cancer-de-mama/87030\",\n",
        "\"https://olhardigital.com.br/ciencia-e-espaco/noticia/inteligencia-artificial-ajuda-a-nasa-a-projetar-novos-trajes-espaciais/102772\",\n",
        "\"https://olhardigital.com.br/colunistas/jorge_vargas_neto/post/como_a_inteligencia_artificial_pode_mudar_o_cenario_de_oferta_de_credito/78999\",\n",
        "\"https://olhardigital.com.br/ciencia-e-espaco/noticia/cientistas-criam-programa-poderoso-que-aprimora-deteccao-de-galaxias/100683\"]"
      ],
      "execution_count": null,
      "outputs": []
    },
    {
      "cell_type": "code",
      "metadata": {
        "id": "jMQ5_I9dElNV",
        "colab_type": "code",
        "colab": {}
      },
      "source": [
        "for link in links_olhar_digital:\n",
        " dados = get_text_olhar_digital(link)\n",
        " title = dados[\"title\"]\n",
        " title = title.replace(\" \", \"_\")\n",
        " title = title.replace(\".\", \"\")\n",
        " title\n",
        " with open(\"/content/drive/My Drive/Colab Notebooks/desafio_3_IBM_arquivosJson/\" + title + \".json\", 'w', encoding='utf-8') as fp:\n",
        "   json.dump(dados, fp, ensure_ascii=False, indent=0)"
      ],
      "execution_count": null,
      "outputs": []
    },
    {
      "cell_type": "code",
      "metadata": {
        "id": "d1o41lnEqFBv",
        "colab_type": "code",
        "colab": {}
      },
      "source": [
        "def get_text_startse(url):\n",
        "  if \"startse\" not in str(url):\n",
        "    raise Exception(\"URL Inválida\")\n",
        "\n",
        "  response = requests.get(url)\n",
        "  soup = BeautifulSoup(response.content)\n",
        "  transcript = soup(\"span\", {\"style\":\"font-weight: 400;\"})\n",
        "  texts = []\n",
        "  for span in transcript:\n",
        "    text = span.text\n",
        "    text = text.strip()\n",
        "    text = text.replace(\"\\n\", \" \")\n",
        "    text = text.replace(\"\\t\", \" \")\n",
        "    text = re.sub(' +', ' ', text)\n",
        "    texts.append(text)\n",
        "  \n",
        "  author = soup(\"div\", {\"class\":\"title-single__info\"})[0](\"h4\")[0](\"a\")[0].text\n",
        "  title = soup(\"div\", {\"class\":\"title-single__title\"})[0](\"h2\")[0].text\n",
        "  return {\n",
        "    \"author\": author,\n",
        "    \"body\": \" \".join(texts),\n",
        "    \"title\": title,\n",
        "    \"type\": \"article\",\n",
        "    \"url\": url\n",
        "  }"
      ],
      "execution_count": null,
      "outputs": []
    },
    {
      "cell_type": "code",
      "metadata": {
        "id": "hzYWXr73sbCe",
        "colab_type": "code",
        "colab": {}
      },
      "source": [
        "dados = get_text_startse(\"https://www.startse.com/noticia/startups/mobtech/deep-learning-o-cerebro-dos-carros-autonomos\")\n",
        "title = dados[\"title\"]\n",
        "title = title.replace(\" \", \"_\")\n",
        "title = title.replace(\".\", \"\")\n",
        "title\n",
        "with open(\"/content/drive/My Drive/Colab Notebooks/desafio_3_IBM_arquivosJson/\" + title + \".json\", 'w', encoding='utf-8') as fp:\n",
        "      json.dump(dados, fp, ensure_ascii=False, indent=0)"
      ],
      "execution_count": null,
      "outputs": []
    },
    {
      "cell_type": "markdown",
      "metadata": {
        "id": "wke_SVq133eL",
        "colab_type": "text"
      },
      "source": [
        "### Créditos: Participantes IBM - Willian e Domingues"
      ]
    },
    {
      "cell_type": "code",
      "metadata": {
        "id": "3ykc6F8S39BN",
        "colab_type": "code",
        "colab": {}
      },
      "source": [
        ""
      ],
      "execution_count": null,
      "outputs": []
    }
  ]
}