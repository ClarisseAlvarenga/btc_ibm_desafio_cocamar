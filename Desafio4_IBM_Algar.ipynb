{
  "nbformat": 4,
  "nbformat_minor": 0,
  "metadata": {
    "colab": {
      "name": "Desafio4 - IBM-Algar.ipynb",
      "provenance": [],
      "toc_visible": true,
      "authorship_tag": "ABX9TyOjZxgtor7I5A7RoMHktFNW",
      "include_colab_link": true
    },
    "kernelspec": {
      "name": "python3",
      "display_name": "Python 3"
    }
  },
  "cells": [
    {
      "cell_type": "markdown",
      "metadata": {
        "id": "view-in-github",
        "colab_type": "text"
      },
      "source": [
        "<a href=\"https://colab.research.google.com/github/ClarisseAlvarenga/btc_ibm_desafio_cocamar/blob/master/Desafio4_IBM_Algar.ipynb\" target=\"_parent\"><img src=\"https://colab.research.google.com/assets/colab-badge.svg\" alt=\"Open In Colab\"/></a>"
      ]
    },
    {
      "cell_type": "markdown",
      "metadata": {
        "id": "ozE52Ae74qjZ",
        "colab_type": "text"
      },
      "source": [
        "# CONHECER E EXPLORAR O DATASET DA ALGAR"
      ]
    },
    {
      "cell_type": "code",
      "metadata": {
        "id": "6y2aWYzL4hAI",
        "colab_type": "code",
        "colab": {}
      },
      "source": [
        "import pandas as pd\n",
        "import numpy as np\n",
        "import matplotlib.pyplot as plt\n",
        "import seaborn as sns\n",
        "#para setar o número de linhas e colunas visíveis no dataset\n",
        "pd.set_option('display.max_rows', 200)"
      ],
      "execution_count": 21,
      "outputs": []
    },
    {
      "cell_type": "code",
      "metadata": {
        "id": "Ii3XqSPU5Kn0",
        "colab_type": "code",
        "colab": {}
      },
      "source": [
        "algar = pd.read_csv('algar-dataset-treino.csv')"
      ],
      "execution_count": 22,
      "outputs": []
    },
    {
      "cell_type": "code",
      "metadata": {
        "id": "YW8A0ocF5WKI",
        "colab_type": "code",
        "colab": {
          "base_uri": "https://localhost:8080/",
          "height": 428
        },
        "outputId": "6cfe15d3-335c-4683-d1a8-f23e7b53452f"
      },
      "source": [
        "algar.head()"
      ],
      "execution_count": 23,
      "outputs": [
        {
          "output_type": "execute_result",
          "data": {
            "text/html": [
              "<div>\n",
              "<style scoped>\n",
              "    .dataframe tbody tr th:only-of-type {\n",
              "        vertical-align: middle;\n",
              "    }\n",
              "\n",
              "    .dataframe tbody tr th {\n",
              "        vertical-align: top;\n",
              "    }\n",
              "\n",
              "    .dataframe thead th {\n",
              "        text-align: right;\n",
              "    }\n",
              "</style>\n",
              "<table border=\"1\" class=\"dataframe\">\n",
              "  <thead>\n",
              "    <tr style=\"text-align: right;\">\n",
              "      <th></th>\n",
              "      <th>Idade</th>\n",
              "      <th>Local de trabalho</th>\n",
              "      <th>Pontuação teste</th>\n",
              "      <th>Departmento</th>\n",
              "      <th>Distancia casa-trabalho</th>\n",
              "      <th>Educacao</th>\n",
              "      <th>Area</th>\n",
              "      <th>Possui carro</th>\n",
              "      <th>Subordinado</th>\n",
              "      <th>Satisfação com o ambiente no emprego atual</th>\n",
              "      <th>Genero</th>\n",
              "      <th>Horas voluntariado</th>\n",
              "      <th>Envolvimento com trabalho</th>\n",
              "      <th>Posicao</th>\n",
              "      <th>Cargo</th>\n",
              "      <th>Satisfação com emprego</th>\n",
              "      <th>Estado civil</th>\n",
              "      <th>Renda</th>\n",
              "      <th>Bonus de performance</th>\n",
              "      <th>Quantidade de empresas que trabalho</th>\n",
              "      <th>Maior de idade</th>\n",
              "      <th>Necessita de hora extra</th>\n",
              "      <th>Aumento de salario%</th>\n",
              "      <th>Performance na entrevista</th>\n",
              "      <th>Satisfação com a relação</th>\n",
              "      <th>Horas de trabalho padrão</th>\n",
              "      <th>Beneficios</th>\n",
              "      <th>Anos de experiencia</th>\n",
              "      <th>Horas de treinamento ultimo ano</th>\n",
              "      <th>Estilo de vida</th>\n",
              "      <th>Anos na última empresa</th>\n",
              "      <th>Anos na posição atual</th>\n",
              "      <th>Anos desde última promoção</th>\n",
              "      <th>Anos com a mesma gerência</th>\n",
              "      <th>Contratar</th>\n",
              "    </tr>\n",
              "  </thead>\n",
              "  <tbody>\n",
              "    <tr>\n",
              "      <th>0</th>\n",
              "      <td>49</td>\n",
              "      <td>Cliente</td>\n",
              "      <td>279</td>\n",
              "      <td>Engenharia</td>\n",
              "      <td>8</td>\n",
              "      <td>Médio completo</td>\n",
              "      <td>Ciências das natureza</td>\n",
              "      <td>1</td>\n",
              "      <td>2</td>\n",
              "      <td>3</td>\n",
              "      <td>M</td>\n",
              "      <td>61</td>\n",
              "      <td>2</td>\n",
              "      <td>2</td>\n",
              "      <td>Engenheiro</td>\n",
              "      <td>2</td>\n",
              "      <td>Casado</td>\n",
              "      <td>5130</td>\n",
              "      <td>24907</td>\n",
              "      <td>1</td>\n",
              "      <td>1</td>\n",
              "      <td>Não</td>\n",
              "      <td>23</td>\n",
              "      <td>4</td>\n",
              "      <td>4</td>\n",
              "      <td>80</td>\n",
              "      <td>1</td>\n",
              "      <td>10</td>\n",
              "      <td>3</td>\n",
              "      <td>3</td>\n",
              "      <td>10</td>\n",
              "      <td>7</td>\n",
              "      <td>1</td>\n",
              "      <td>7</td>\n",
              "      <td>Não</td>\n",
              "    </tr>\n",
              "    <tr>\n",
              "      <th>1</th>\n",
              "      <td>33</td>\n",
              "      <td>Misto</td>\n",
              "      <td>1392</td>\n",
              "      <td>Engenharia</td>\n",
              "      <td>3</td>\n",
              "      <td>Superior incompleto - cursando</td>\n",
              "      <td>Ciências das natureza</td>\n",
              "      <td>1</td>\n",
              "      <td>5</td>\n",
              "      <td>4</td>\n",
              "      <td>F</td>\n",
              "      <td>56</td>\n",
              "      <td>3</td>\n",
              "      <td>1</td>\n",
              "      <td>Engenheiro</td>\n",
              "      <td>3</td>\n",
              "      <td>Casado</td>\n",
              "      <td>2909</td>\n",
              "      <td>23159</td>\n",
              "      <td>1</td>\n",
              "      <td>1</td>\n",
              "      <td>Sim</td>\n",
              "      <td>11</td>\n",
              "      <td>3</td>\n",
              "      <td>3</td>\n",
              "      <td>80</td>\n",
              "      <td>0</td>\n",
              "      <td>8</td>\n",
              "      <td>3</td>\n",
              "      <td>3</td>\n",
              "      <td>8</td>\n",
              "      <td>7</td>\n",
              "      <td>3</td>\n",
              "      <td>0</td>\n",
              "      <td>Não</td>\n",
              "    </tr>\n",
              "    <tr>\n",
              "      <th>2</th>\n",
              "      <td>27</td>\n",
              "      <td>Cliente</td>\n",
              "      <td>591</td>\n",
              "      <td>Engenharia</td>\n",
              "      <td>2</td>\n",
              "      <td>Médio completo</td>\n",
              "      <td>Medicina</td>\n",
              "      <td>1</td>\n",
              "      <td>7</td>\n",
              "      <td>1</td>\n",
              "      <td>M</td>\n",
              "      <td>40</td>\n",
              "      <td>3</td>\n",
              "      <td>1</td>\n",
              "      <td>Tecnico</td>\n",
              "      <td>2</td>\n",
              "      <td>Casado</td>\n",
              "      <td>3468</td>\n",
              "      <td>16632</td>\n",
              "      <td>9</td>\n",
              "      <td>1</td>\n",
              "      <td>Não</td>\n",
              "      <td>12</td>\n",
              "      <td>3</td>\n",
              "      <td>4</td>\n",
              "      <td>80</td>\n",
              "      <td>1</td>\n",
              "      <td>6</td>\n",
              "      <td>3</td>\n",
              "      <td>3</td>\n",
              "      <td>2</td>\n",
              "      <td>2</td>\n",
              "      <td>2</td>\n",
              "      <td>2</td>\n",
              "      <td>Não</td>\n",
              "    </tr>\n",
              "    <tr>\n",
              "      <th>3</th>\n",
              "      <td>32</td>\n",
              "      <td>Misto</td>\n",
              "      <td>1005</td>\n",
              "      <td>Engenharia</td>\n",
              "      <td>2</td>\n",
              "      <td>Superior incompleto</td>\n",
              "      <td>Ciências das natureza</td>\n",
              "      <td>1</td>\n",
              "      <td>8</td>\n",
              "      <td>4</td>\n",
              "      <td>M</td>\n",
              "      <td>79</td>\n",
              "      <td>3</td>\n",
              "      <td>1</td>\n",
              "      <td>Tecnico</td>\n",
              "      <td>4</td>\n",
              "      <td>Solteiro</td>\n",
              "      <td>3068</td>\n",
              "      <td>11864</td>\n",
              "      <td>0</td>\n",
              "      <td>1</td>\n",
              "      <td>Não</td>\n",
              "      <td>13</td>\n",
              "      <td>3</td>\n",
              "      <td>3</td>\n",
              "      <td>80</td>\n",
              "      <td>0</td>\n",
              "      <td>8</td>\n",
              "      <td>2</td>\n",
              "      <td>2</td>\n",
              "      <td>7</td>\n",
              "      <td>7</td>\n",
              "      <td>3</td>\n",
              "      <td>6</td>\n",
              "      <td>Não</td>\n",
              "    </tr>\n",
              "    <tr>\n",
              "      <th>4</th>\n",
              "      <td>59</td>\n",
              "      <td>Misto</td>\n",
              "      <td>1324</td>\n",
              "      <td>Engenharia</td>\n",
              "      <td>3</td>\n",
              "      <td>Superior completo</td>\n",
              "      <td>Medicina</td>\n",
              "      <td>1</td>\n",
              "      <td>10</td>\n",
              "      <td>3</td>\n",
              "      <td>F</td>\n",
              "      <td>81</td>\n",
              "      <td>4</td>\n",
              "      <td>1</td>\n",
              "      <td>Tecnico</td>\n",
              "      <td>1</td>\n",
              "      <td>Casado</td>\n",
              "      <td>2670</td>\n",
              "      <td>9964</td>\n",
              "      <td>4</td>\n",
              "      <td>1</td>\n",
              "      <td>Sim</td>\n",
              "      <td>20</td>\n",
              "      <td>4</td>\n",
              "      <td>1</td>\n",
              "      <td>80</td>\n",
              "      <td>3</td>\n",
              "      <td>12</td>\n",
              "      <td>3</td>\n",
              "      <td>2</td>\n",
              "      <td>1</td>\n",
              "      <td>0</td>\n",
              "      <td>0</td>\n",
              "      <td>0</td>\n",
              "      <td>Não</td>\n",
              "    </tr>\n",
              "  </tbody>\n",
              "</table>\n",
              "</div>"
            ],
            "text/plain": [
              "   Idade Local de trabalho  ...  Anos com a mesma gerência Contratar\n",
              "0     49           Cliente  ...                          7       Não\n",
              "1     33             Misto  ...                          0       Não\n",
              "2     27           Cliente  ...                          2       Não\n",
              "3     32             Misto  ...                          6       Não\n",
              "4     59             Misto  ...                          0       Não\n",
              "\n",
              "[5 rows x 35 columns]"
            ]
          },
          "metadata": {
            "tags": []
          },
          "execution_count": 23
        }
      ]
    },
    {
      "cell_type": "code",
      "metadata": {
        "id": "DnFuXVe55XJP",
        "colab_type": "code",
        "colab": {
          "base_uri": "https://localhost:8080/",
          "height": 68
        },
        "outputId": "a97e17f6-fa94-491e-dfc5-e7446cb3b99e"
      },
      "source": [
        "algar.Contratar.value_counts(normalize=True)"
      ],
      "execution_count": 24,
      "outputs": [
        {
          "output_type": "execute_result",
          "data": {
            "text/plain": [
              "Não    0.859854\n",
              "Sim    0.140146\n",
              "Name: Contratar, dtype: float64"
            ]
          },
          "metadata": {
            "tags": []
          },
          "execution_count": 24
        }
      ]
    },
    {
      "cell_type": "code",
      "metadata": {
        "id": "BROscir85v1X",
        "colab_type": "code",
        "colab": {
          "base_uri": "https://localhost:8080/",
          "height": 731
        },
        "outputId": "4d1dd340-e045-481f-efe8-657121a85aa9"
      },
      "source": [
        "algar.info()"
      ],
      "execution_count": 25,
      "outputs": [
        {
          "output_type": "stream",
          "text": [
            "<class 'pandas.core.frame.DataFrame'>\n",
            "RangeIndex: 1370 entries, 0 to 1369\n",
            "Data columns (total 35 columns):\n",
            " #   Column                                      Non-Null Count  Dtype \n",
            "---  ------                                      --------------  ----- \n",
            " 0   Idade                                       1370 non-null   int64 \n",
            " 1   Local de trabalho                           1370 non-null   object\n",
            " 2   Pontuação teste                             1370 non-null   int64 \n",
            " 3   Departmento                                 1370 non-null   object\n",
            " 4   Distancia casa-trabalho                     1370 non-null   int64 \n",
            " 5   Educacao                                    1370 non-null   object\n",
            " 6   Area                                        1370 non-null   object\n",
            " 7   Possui carro                                1370 non-null   int64 \n",
            " 8   Subordinado                                 1370 non-null   int64 \n",
            " 9   Satisfação com o ambiente no emprego atual  1370 non-null   int64 \n",
            " 10  Genero                                      1370 non-null   object\n",
            " 11  Horas voluntariado                          1370 non-null   int64 \n",
            " 12  Envolvimento com trabalho                   1370 non-null   int64 \n",
            " 13  Posicao                                     1370 non-null   int64 \n",
            " 14  Cargo                                       1370 non-null   object\n",
            " 15  Satisfação com emprego                      1370 non-null   int64 \n",
            " 16  Estado civil                                1370 non-null   object\n",
            " 17  Renda                                       1370 non-null   int64 \n",
            " 18  Bonus de performance                        1370 non-null   int64 \n",
            " 19  Quantidade de empresas que trabalho         1370 non-null   int64 \n",
            " 20  Maior de idade                              1370 non-null   int64 \n",
            " 21  Necessita de hora extra                     1370 non-null   object\n",
            " 22  Aumento de salario%                         1370 non-null   int64 \n",
            " 23  Performance na entrevista                   1370 non-null   int64 \n",
            " 24  Satisfação com a relação                    1370 non-null   int64 \n",
            " 25  Horas de trabalho padrão                    1370 non-null   int64 \n",
            " 26  Beneficios                                  1370 non-null   int64 \n",
            " 27  Anos de experiencia                         1370 non-null   int64 \n",
            " 28  Horas de treinamento ultimo ano             1370 non-null   int64 \n",
            " 29  Estilo de vida                              1370 non-null   int64 \n",
            " 30  Anos na última empresa                      1370 non-null   int64 \n",
            " 31  Anos na posição atual                       1370 non-null   int64 \n",
            " 32  Anos desde última promoção                  1370 non-null   int64 \n",
            " 33  Anos com a mesma gerência                   1370 non-null   int64 \n",
            " 34  Contratar                                   1370 non-null   object\n",
            "dtypes: int64(26), object(9)\n",
            "memory usage: 374.7+ KB\n"
          ],
          "name": "stdout"
        }
      ]
    },
    {
      "cell_type": "code",
      "metadata": {
        "id": "9LCTQ2E-55VH",
        "colab_type": "code",
        "colab": {
          "base_uri": "https://localhost:8080/",
          "height": 142
        },
        "outputId": "0700b506-2b43-4693-87e0-d9b450bfed94"
      },
      "source": [
        "#vendo porcentagem contratação por gênero\n",
        "pd.crosstab(algar.Genero, algar.Contratar)"
      ],
      "execution_count": 26,
      "outputs": [
        {
          "output_type": "execute_result",
          "data": {
            "text/html": [
              "<div>\n",
              "<style scoped>\n",
              "    .dataframe tbody tr th:only-of-type {\n",
              "        vertical-align: middle;\n",
              "    }\n",
              "\n",
              "    .dataframe tbody tr th {\n",
              "        vertical-align: top;\n",
              "    }\n",
              "\n",
              "    .dataframe thead th {\n",
              "        text-align: right;\n",
              "    }\n",
              "</style>\n",
              "<table border=\"1\" class=\"dataframe\">\n",
              "  <thead>\n",
              "    <tr style=\"text-align: right;\">\n",
              "      <th>Contratar</th>\n",
              "      <th>Não</th>\n",
              "      <th>Sim</th>\n",
              "    </tr>\n",
              "    <tr>\n",
              "      <th>Genero</th>\n",
              "      <th></th>\n",
              "      <th></th>\n",
              "    </tr>\n",
              "  </thead>\n",
              "  <tbody>\n",
              "    <tr>\n",
              "      <th>F</th>\n",
              "      <td>479</td>\n",
              "      <td>73</td>\n",
              "    </tr>\n",
              "    <tr>\n",
              "      <th>M</th>\n",
              "      <td>699</td>\n",
              "      <td>119</td>\n",
              "    </tr>\n",
              "  </tbody>\n",
              "</table>\n",
              "</div>"
            ],
            "text/plain": [
              "Contratar  Não  Sim\n",
              "Genero             \n",
              "F          479   73\n",
              "M          699  119"
            ]
          },
          "metadata": {
            "tags": []
          },
          "execution_count": 26
        }
      ]
    },
    {
      "cell_type": "code",
      "metadata": {
        "id": "MBdARaZs6M-P",
        "colab_type": "code",
        "colab": {
          "base_uri": "https://localhost:8080/",
          "height": 34
        },
        "outputId": "2458297e-a9d6-409d-caec-4d86b2881d77"
      },
      "source": [
        "119/699"
      ],
      "execution_count": 27,
      "outputs": [
        {
          "output_type": "execute_result",
          "data": {
            "text/plain": [
              "0.17024320457796852"
            ]
          },
          "metadata": {
            "tags": []
          },
          "execution_count": 27
        }
      ]
    },
    {
      "cell_type": "code",
      "metadata": {
        "id": "Dx3AHkVz6XE2",
        "colab_type": "code",
        "colab": {
          "base_uri": "https://localhost:8080/",
          "height": 34
        },
        "outputId": "bb35f543-3fd0-4921-c7ef-3c87970320d6"
      },
      "source": [
        "73/479"
      ],
      "execution_count": 28,
      "outputs": [
        {
          "output_type": "execute_result",
          "data": {
            "text/plain": [
              "0.1524008350730689"
            ]
          },
          "metadata": {
            "tags": []
          },
          "execution_count": 28
        }
      ]
    },
    {
      "cell_type": "code",
      "metadata": {
        "id": "xsxdtlK16bz2",
        "colab_type": "code",
        "colab": {}
      },
      "source": [
        "idade_contratados = algar[algar['Contratar'] == 'Sim']['Idade']\n",
        "idade_nao_contratados = algar[algar['Contratar'] == 'Não']['Idade']\n"
      ],
      "execution_count": 29,
      "outputs": []
    },
    {
      "cell_type": "code",
      "metadata": {
        "id": "NnAnVFk862QX",
        "colab_type": "code",
        "colab": {
          "base_uri": "https://localhost:8080/",
          "height": 280
        },
        "outputId": "581d3aaa-23de-4805-fba1-23901196bcdb"
      },
      "source": [
        "sns.distplot(idade_contratados, bins=20);"
      ],
      "execution_count": 30,
      "outputs": [
        {
          "output_type": "display_data",
          "data": {
            "image/png": "[encoded data removed]",
            "text/plain": [
              "<Figure size 432x288 with 1 Axes>"
            ]
          },
          "metadata": {
            "tags": [],
            "needs_background": "light"
          }
        }
      ]
    },
    {
      "cell_type": "code",
      "metadata": {
        "id": "skjdLdpp63YE",
        "colab_type": "code",
        "colab": {
          "base_uri": "https://localhost:8080/",
          "height": 296
        },
        "outputId": "46c98d3a-ea19-4ac1-bb3d-a723f8f5c52b"
      },
      "source": [
        "sns.distplot(idade_nao_contratados, bins=20)"
      ],
      "execution_count": 31,
      "outputs": [
        {
          "output_type": "execute_result",
          "data": {
            "text/plain": [
              "<matplotlib.axes._subplots.AxesSubplot at 0x7fd9f8d0e1d0>"
            ]
          },
          "metadata": {
            "tags": []
          },
          "execution_count": 31
        },
        {
          "output_type": "display_data",
          "data": {
            "image/png": "[encoded data removed]",
            "text/plain": [
              "<Figure size 432x288 with 1 Axes>"
            ]
          },
          "metadata": {
            "tags": [],
            "needs_background": "light"
          }
        }
      ]
    },
    {
      "cell_type": "code",
      "metadata": {
        "id": "Xs836HOG6409",
        "colab_type": "code",
        "colab": {
          "base_uri": "https://localhost:8080/",
          "height": 34
        },
        "outputId": "17d07f80-d9b1-427c-f8bb-6415ba56aad6"
      },
      "source": [
        "len(idade_contratados)"
      ],
      "execution_count": 16,
      "outputs": [
        {
          "output_type": "execute_result",
          "data": {
            "text/plain": [
              "192"
            ]
          },
          "metadata": {
            "tags": []
          },
          "execution_count": 16
        }
      ]
    },
    {
      "cell_type": "code",
      "metadata": {
        "id": "dt56DFoW7SkE",
        "colab_type": "code",
        "colab": {
          "base_uri": "https://localhost:8080/",
          "height": 34
        },
        "outputId": "6aa20a4a-7438-412e-db30-85ace32039c8"
      },
      "source": [
        "len(idade_nao_contratados)"
      ],
      "execution_count": 17,
      "outputs": [
        {
          "output_type": "execute_result",
          "data": {
            "text/plain": [
              "1178"
            ]
          },
          "metadata": {
            "tags": []
          },
          "execution_count": 17
        }
      ]
    },
    {
      "cell_type": "code",
      "metadata": {
        "id": "nVU2ljsG7VGL",
        "colab_type": "code",
        "colab": {
          "base_uri": "https://localhost:8080/",
          "height": 1000
        },
        "outputId": "f782e195-f3be-4214-c87b-7ec2fe697a8c"
      },
      "source": [
        "pd.crosstab(algar['Idade'],algar.Contratar)"
      ],
      "execution_count": 33,
      "outputs": [
        {
          "output_type": "execute_result",
          "data": {
            "text/html": [
              "<div>\n",
              "<style scoped>\n",
              "    .dataframe tbody tr th:only-of-type {\n",
              "        vertical-align: middle;\n",
              "    }\n",
              "\n",
              "    .dataframe tbody tr th {\n",
              "        vertical-align: top;\n",
              "    }\n",
              "\n",
              "    .dataframe thead th {\n",
              "        text-align: right;\n",
              "    }\n",
              "</style>\n",
              "<table border=\"1\" class=\"dataframe\">\n",
              "  <thead>\n",
              "    <tr style=\"text-align: right;\">\n",
              "      <th>Contratar</th>\n",
              "      <th>Não</th>\n",
              "      <th>Sim</th>\n",
              "    </tr>\n",
              "    <tr>\n",
              "      <th>Idade</th>\n",
              "      <th></th>\n",
              "      <th></th>\n",
              "    </tr>\n",
              "  </thead>\n",
              "  <tbody>\n",
              "    <tr>\n",
              "      <th>18</th>\n",
              "      <td>4</td>\n",
              "      <td>4</td>\n",
              "    </tr>\n",
              "    <tr>\n",
              "      <th>19</th>\n",
              "      <td>3</td>\n",
              "      <td>3</td>\n",
              "    </tr>\n",
              "    <tr>\n",
              "      <th>20</th>\n",
              "      <td>5</td>\n",
              "      <td>5</td>\n",
              "    </tr>\n",
              "    <tr>\n",
              "      <th>21</th>\n",
              "      <td>6</td>\n",
              "      <td>6</td>\n",
              "    </tr>\n",
              "    <tr>\n",
              "      <th>22</th>\n",
              "      <td>10</td>\n",
              "      <td>5</td>\n",
              "    </tr>\n",
              "    <tr>\n",
              "      <th>23</th>\n",
              "      <td>10</td>\n",
              "      <td>4</td>\n",
              "    </tr>\n",
              "    <tr>\n",
              "      <th>24</th>\n",
              "      <td>19</td>\n",
              "      <td>6</td>\n",
              "    </tr>\n",
              "    <tr>\n",
              "      <th>25</th>\n",
              "      <td>17</td>\n",
              "      <td>5</td>\n",
              "    </tr>\n",
              "    <tr>\n",
              "      <th>26</th>\n",
              "      <td>26</td>\n",
              "      <td>11</td>\n",
              "    </tr>\n",
              "    <tr>\n",
              "      <th>27</th>\n",
              "      <td>44</td>\n",
              "      <td>3</td>\n",
              "    </tr>\n",
              "    <tr>\n",
              "      <th>28</th>\n",
              "      <td>34</td>\n",
              "      <td>11</td>\n",
              "    </tr>\n",
              "    <tr>\n",
              "      <th>29</th>\n",
              "      <td>48</td>\n",
              "      <td>15</td>\n",
              "    </tr>\n",
              "    <tr>\n",
              "      <th>30</th>\n",
              "      <td>50</td>\n",
              "      <td>7</td>\n",
              "    </tr>\n",
              "    <tr>\n",
              "      <th>31</th>\n",
              "      <td>49</td>\n",
              "      <td>15</td>\n",
              "    </tr>\n",
              "    <tr>\n",
              "      <th>32</th>\n",
              "      <td>46</td>\n",
              "      <td>7</td>\n",
              "    </tr>\n",
              "    <tr>\n",
              "      <th>33</th>\n",
              "      <td>44</td>\n",
              "      <td>10</td>\n",
              "    </tr>\n",
              "    <tr>\n",
              "      <th>34</th>\n",
              "      <td>66</td>\n",
              "      <td>7</td>\n",
              "    </tr>\n",
              "    <tr>\n",
              "      <th>35</th>\n",
              "      <td>63</td>\n",
              "      <td>9</td>\n",
              "    </tr>\n",
              "    <tr>\n",
              "      <th>36</th>\n",
              "      <td>58</td>\n",
              "      <td>4</td>\n",
              "    </tr>\n",
              "    <tr>\n",
              "      <th>37</th>\n",
              "      <td>43</td>\n",
              "      <td>3</td>\n",
              "    </tr>\n",
              "    <tr>\n",
              "      <th>38</th>\n",
              "      <td>52</td>\n",
              "      <td>1</td>\n",
              "    </tr>\n",
              "    <tr>\n",
              "      <th>39</th>\n",
              "      <td>32</td>\n",
              "      <td>5</td>\n",
              "    </tr>\n",
              "    <tr>\n",
              "      <th>40</th>\n",
              "      <td>48</td>\n",
              "      <td>5</td>\n",
              "    </tr>\n",
              "    <tr>\n",
              "      <th>41</th>\n",
              "      <td>31</td>\n",
              "      <td>3</td>\n",
              "    </tr>\n",
              "    <tr>\n",
              "      <th>42</th>\n",
              "      <td>42</td>\n",
              "      <td>2</td>\n",
              "    </tr>\n",
              "    <tr>\n",
              "      <th>43</th>\n",
              "      <td>30</td>\n",
              "      <td>2</td>\n",
              "    </tr>\n",
              "    <tr>\n",
              "      <th>44</th>\n",
              "      <td>26</td>\n",
              "      <td>5</td>\n",
              "    </tr>\n",
              "    <tr>\n",
              "      <th>45</th>\n",
              "      <td>38</td>\n",
              "      <td>2</td>\n",
              "    </tr>\n",
              "    <tr>\n",
              "      <th>46</th>\n",
              "      <td>29</td>\n",
              "      <td>3</td>\n",
              "    </tr>\n",
              "    <tr>\n",
              "      <th>47</th>\n",
              "      <td>19</td>\n",
              "      <td>2</td>\n",
              "    </tr>\n",
              "    <tr>\n",
              "      <th>48</th>\n",
              "      <td>17</td>\n",
              "      <td>1</td>\n",
              "    </tr>\n",
              "    <tr>\n",
              "      <th>49</th>\n",
              "      <td>21</td>\n",
              "      <td>2</td>\n",
              "    </tr>\n",
              "    <tr>\n",
              "      <th>50</th>\n",
              "      <td>25</td>\n",
              "      <td>4</td>\n",
              "    </tr>\n",
              "    <tr>\n",
              "      <th>51</th>\n",
              "      <td>17</td>\n",
              "      <td>1</td>\n",
              "    </tr>\n",
              "    <tr>\n",
              "      <th>52</th>\n",
              "      <td>14</td>\n",
              "      <td>3</td>\n",
              "    </tr>\n",
              "    <tr>\n",
              "      <th>53</th>\n",
              "      <td>17</td>\n",
              "      <td>2</td>\n",
              "    </tr>\n",
              "    <tr>\n",
              "      <th>54</th>\n",
              "      <td>18</td>\n",
              "      <td>0</td>\n",
              "    </tr>\n",
              "    <tr>\n",
              "      <th>55</th>\n",
              "      <td>19</td>\n",
              "      <td>3</td>\n",
              "    </tr>\n",
              "    <tr>\n",
              "      <th>56</th>\n",
              "      <td>10</td>\n",
              "      <td>2</td>\n",
              "    </tr>\n",
              "    <tr>\n",
              "      <th>57</th>\n",
              "      <td>4</td>\n",
              "      <td>0</td>\n",
              "    </tr>\n",
              "    <tr>\n",
              "      <th>58</th>\n",
              "      <td>9</td>\n",
              "      <td>4</td>\n",
              "    </tr>\n",
              "    <tr>\n",
              "      <th>59</th>\n",
              "      <td>10</td>\n",
              "      <td>0</td>\n",
              "    </tr>\n",
              "    <tr>\n",
              "      <th>60</th>\n",
              "      <td>5</td>\n",
              "      <td>0</td>\n",
              "    </tr>\n",
              "  </tbody>\n",
              "</table>\n",
              "</div>"
            ],
            "text/plain": [
              "Contratar  Não  Sim\n",
              "Idade              \n",
              "18           4    4\n",
              "19           3    3\n",
              "20           5    5\n",
              "21           6    6\n",
              "22          10    5\n",
              "23          10    4\n",
              "24          19    6\n",
              "25          17    5\n",
              "26          26   11\n",
              "27          44    3\n",
              "28          34   11\n",
              "29          48   15\n",
              "30          50    7\n",
              "31          49   15\n",
              "32          46    7\n",
              "33          44   10\n",
              "34          66    7\n",
              "35          63    9\n",
              "36          58    4\n",
              "37          43    3\n",
              "38          52    1\n",
              "39          32    5\n",
              "40          48    5\n",
              "41          31    3\n",
              "42          42    2\n",
              "43          30    2\n",
              "44          26    5\n",
              "45          38    2\n",
              "46          29    3\n",
              "47          19    2\n",
              "48          17    1\n",
              "49          21    2\n",
              "50          25    4\n",
              "51          17    1\n",
              "52          14    3\n",
              "53          17    2\n",
              "54          18    0\n",
              "55          19    3\n",
              "56          10    2\n",
              "57           4    0\n",
              "58           9    4\n",
              "59          10    0\n",
              "60           5    0"
            ]
          },
          "metadata": {
            "tags": []
          },
          "execution_count": 33
        }
      ]
    },
    {
      "cell_type": "code",
      "metadata": {
        "id": "wFm1r89N7uAU",
        "colab_type": "code",
        "colab": {
          "base_uri": "https://localhost:8080/",
          "height": 238
        },
        "outputId": "b99b10e4-6191-4113-dc4a-df0158402351"
      },
      "source": [
        "algar.columns"
      ],
      "execution_count": 34,
      "outputs": [
        {
          "output_type": "execute_result",
          "data": {
            "text/plain": [
              "Index(['Idade', 'Local de trabalho', 'Pontuação teste', 'Departmento',\n",
              "       'Distancia casa-trabalho', 'Educacao', 'Area', 'Possui carro',\n",
              "       'Subordinado', 'Satisfação com o ambiente no emprego atual', 'Genero',\n",
              "       'Horas voluntariado', 'Envolvimento com trabalho', 'Posicao', 'Cargo',\n",
              "       'Satisfação com emprego', 'Estado civil', 'Renda',\n",
              "       'Bonus de performance', 'Quantidade de empresas que trabalho',\n",
              "       'Maior de idade', 'Necessita de hora extra', 'Aumento de salario%',\n",
              "       'Performance na entrevista', 'Satisfação com a relação',\n",
              "       'Horas de trabalho padrão', 'Beneficios', 'Anos de experiencia',\n",
              "       'Horas de treinamento ultimo ano', 'Estilo de vida',\n",
              "       'Anos na última empresa', 'Anos na posição atual',\n",
              "       'Anos desde última promoção', 'Anos com a mesma gerência', 'Contratar'],\n",
              "      dtype='object')"
            ]
          },
          "metadata": {
            "tags": []
          },
          "execution_count": 34
        }
      ]
    },
    {
      "cell_type": "code",
      "metadata": {
        "id": "aMqsLm1P88Mc",
        "colab_type": "code",
        "colab": {
          "base_uri": "https://localhost:8080/",
          "height": 142
        },
        "outputId": "3847afb9-602d-40bd-ac07-c9d2f32ce89a"
      },
      "source": [
        "pd.crosstab(algar['Necessita de hora extra'], algar.Contratar)"
      ],
      "execution_count": 36,
      "outputs": [
        {
          "output_type": "execute_result",
          "data": {
            "text/html": [
              "<div>\n",
              "<style scoped>\n",
              "    .dataframe tbody tr th:only-of-type {\n",
              "        vertical-align: middle;\n",
              "    }\n",
              "\n",
              "    .dataframe tbody tr th {\n",
              "        vertical-align: top;\n",
              "    }\n",
              "\n",
              "    .dataframe thead th {\n",
              "        text-align: right;\n",
              "    }\n",
              "</style>\n",
              "<table border=\"1\" class=\"dataframe\">\n",
              "  <thead>\n",
              "    <tr style=\"text-align: right;\">\n",
              "      <th>Contratar</th>\n",
              "      <th>Não</th>\n",
              "      <th>Sim</th>\n",
              "    </tr>\n",
              "    <tr>\n",
              "      <th>Necessita de hora extra</th>\n",
              "      <th></th>\n",
              "      <th></th>\n",
              "    </tr>\n",
              "  </thead>\n",
              "  <tbody>\n",
              "    <tr>\n",
              "      <th>Não</th>\n",
              "      <td>901</td>\n",
              "      <td>91</td>\n",
              "    </tr>\n",
              "    <tr>\n",
              "      <th>Sim</th>\n",
              "      <td>277</td>\n",
              "      <td>101</td>\n",
              "    </tr>\n",
              "  </tbody>\n",
              "</table>\n",
              "</div>"
            ],
            "text/plain": [
              "Contratar                Não  Sim\n",
              "Necessita de hora extra          \n",
              "Não                      901   91\n",
              "Sim                      277  101"
            ]
          },
          "metadata": {
            "tags": []
          },
          "execution_count": 36
        }
      ]
    },
    {
      "cell_type": "code",
      "metadata": {
        "id": "rotIj4qw9JFs",
        "colab_type": "code",
        "colab": {}
      },
      "source": [
        "#busca só as variáveis numéricas\n",
        "numericas = algar.select_dtypes(include='number')\n",
        "#só as categóricas\n",
        "categoricas_puras = algar.select_dtypes(exclude='number')"
      ],
      "execution_count": 38,
      "outputs": []
    },
    {
      "cell_type": "code",
      "metadata": {
        "id": "4YaAw5Mx9n2n",
        "colab_type": "code",
        "colab": {
          "base_uri": "https://localhost:8080/",
          "height": 469
        },
        "outputId": "42d79175-04e7-4827-a17e-70ed15fafc34"
      },
      "source": [
        "#correlações\n",
        "numericas.corr()\n",
        "sns.heatmap(numericas.corr())"
      ],
      "execution_count": 40,
      "outputs": [
        {
          "output_type": "execute_result",
          "data": {
            "text/plain": [
              "<matplotlib.axes._subplots.AxesSubplot at 0x7fd9f8bd7f98>"
            ]
          },
          "metadata": {
            "tags": []
          },
          "execution_count": 40
        },
        {
          "output_type": "display_data",
          "data": {
            "image/png": "[encoded data removed]",
            "text/plain": [
              "<Figure size 432x288 with 2 Axes>"
            ]
          },
          "metadata": {
            "tags": [],
            "needs_background": "light"
          }
        }
      ]
    },
    {
      "cell_type": "code",
      "metadata": {
        "id": "tJ5_KzkP98mv",
        "colab_type": "code",
        "colab": {}
      },
      "source": [
        "#função para criar heatmap\n",
        "def criar_heatmap(corr):\n",
        "  # Generate a mask for the upper triangle\n",
        "  mask = np.triu(np.ones_like(corr, dtype=np.bool))\n",
        "\n",
        "  # Set up the matplotlib figure\n",
        "  f, ax = plt.subplots(figsize=(18, 11))\n",
        "\n",
        "  # Generate a custom diverging colormap\n",
        "  cmap = sns.diverging_palette(220, 10, as_cmap=True)\n",
        "\n",
        "  # Draw the heatmap with the mask and correct aspect ratio\n",
        "  sns.heatmap(corr, mask=mask, cmap=cmap, vmax=.3, center=0,\n",
        "            square=True, linewidths=.5, cbar_kws={\"shrink\": .5}, annot=False)"
      ],
      "execution_count": 45,
      "outputs": []
    },
    {
      "cell_type": "code",
      "metadata": {
        "id": "biGt9LwC-d82",
        "colab_type": "code",
        "colab": {
          "base_uri": "https://localhost:8080/",
          "height": 863
        },
        "outputId": "7d6a2978-e9ec-41b8-92e7-75b2f216e597"
      },
      "source": [
        "criar_heatmap(numericas.corr())"
      ],
      "execution_count": 46,
      "outputs": [
        {
          "output_type": "display_data",
          "data": {
            "image/png": "[encoded data removed]",
            "text/plain": [
              "<Figure size 1296x792 with 2 Axes>"
            ]
          },
          "metadata": {
            "tags": [],
            "needs_background": "light"
          }
        }
      ]
    },
    {
      "cell_type": "code",
      "metadata": {
        "id": "AyCmEvDY-gFA",
        "colab_type": "code",
        "colab": {}
      },
      "source": [
        "contratados = algar[algar['Contratar'] == 'Sim']\n",
        "nao_contratados = algar[algar['Contratar'] == 'Não']"
      ],
      "execution_count": 47,
      "outputs": []
    },
    {
      "cell_type": "code",
      "metadata": {
        "id": "Sfm8Z6ufAhGs",
        "colab_type": "code",
        "colab": {
          "base_uri": "https://localhost:8080/",
          "height": 624
        },
        "outputId": "ab2bfcd9-65c9-44fe-9d7e-6c8361f43e6e"
      },
      "source": [
        "#criando uma área de plotagem\n",
        "fig = plt.figure(figsize=(15,8))\n",
        "#declarando os eixos\n",
        "eixo = fig.add_axes([0,0,1,1]) #lista que cria o eixo\n",
        "eixo2 = fig.add_axes([0.7,0.65,0.3,0.3]) #alterando a posição para o canto\n",
        "\n",
        "eixo.hist(nao_contratados['Anos de experiencia'], bins=20)\n",
        "eixo2.hist(contratados['Anos de experiencia'], bins=20);"
      ],
      "execution_count": 61,
      "outputs": [
        {
          "output_type": "display_data",
          "data": {
            "image/png": "[encoded data removed]",
            "text/plain": [
              "<Figure size 1080x576 with 2 Axes>"
            ]
          },
          "metadata": {
            "tags": [],
            "needs_background": "light"
          }
        }
      ]
    },
    {
      "cell_type": "code",
      "metadata": {
        "id": "1jxzpv4QBIbu",
        "colab_type": "code",
        "colab": {
          "base_uri": "https://localhost:8080/",
          "height": 404
        },
        "outputId": "7d4aad43-e2eb-43b9-f955-1309bcb9e1ec"
      },
      "source": [
        "plt.figure(figsize=(12,6))\n",
        "plt.title('Distribuição entre contratados e não contratados, por anos de experiência')\n",
        "eixo1 = sns.distplot(contratados['Anos de experiencia'], bins = 20)\n",
        "eixo2 = sns.distplot(nao_contratados['Anos de experiencia'], bins=20)\n"
      ],
      "execution_count": 65,
      "outputs": [
        {
          "output_type": "display_data",
          "data": {
            "image/png": "[encoded data removed]",
            "text/plain": [
              "<Figure size 864x432 with 1 Axes>"
            ]
          },
          "metadata": {
            "tags": [],
            "needs_background": "light"
          }
        }
      ]
    },
    {
      "cell_type": "code",
      "metadata": {
        "id": "ZR77Om7DBt42",
        "colab_type": "code",
        "colab": {
          "base_uri": "https://localhost:8080/",
          "height": 405
        },
        "outputId": "9bf6dcee-4b10-48fa-f3b0-214f0380c98b"
      },
      "source": [
        "plt.figure(figsize=(12,6))\n",
        "plt.title('Distribuição entre contratados e não contratados, por anos com a mesma gerência')\n",
        "eixo1 = sns.distplot(contratados['Anos com a mesma gerência'], bins = 20)\n",
        "eixo2 = sns.distplot(nao_contratados['Anos com a mesma gerência'], bins=20)\n"
      ],
      "execution_count": 66,
      "outputs": [
        {
          "output_type": "display_data",
          "data": {
            "image/png": "[encoded data removed]",
            "text/plain": [
              "<Figure size 864x432 with 1 Axes>"
            ]
          },
          "metadata": {
            "tags": [],
            "needs_background": "light"
          }
        }
      ]
    },
    {
      "cell_type": "code",
      "metadata": {
        "id": "qnUU9TIvFTKR",
        "colab_type": "code",
        "colab": {
          "base_uri": "https://localhost:8080/",
          "height": 238
        },
        "outputId": "28cb638d-250d-4262-be50-1b99a2fc9848"
      },
      "source": [
        "algar.columns"
      ],
      "execution_count": 67,
      "outputs": [
        {
          "output_type": "execute_result",
          "data": {
            "text/plain": [
              "Index(['Idade', 'Local de trabalho', 'Pontuação teste', 'Departmento',\n",
              "       'Distancia casa-trabalho', 'Educacao', 'Area', 'Possui carro',\n",
              "       'Subordinado', 'Satisfação com o ambiente no emprego atual', 'Genero',\n",
              "       'Horas voluntariado', 'Envolvimento com trabalho', 'Posicao', 'Cargo',\n",
              "       'Satisfação com emprego', 'Estado civil', 'Renda',\n",
              "       'Bonus de performance', 'Quantidade de empresas que trabalho',\n",
              "       'Maior de idade', 'Necessita de hora extra', 'Aumento de salario%',\n",
              "       'Performance na entrevista', 'Satisfação com a relação',\n",
              "       'Horas de trabalho padrão', 'Beneficios', 'Anos de experiencia',\n",
              "       'Horas de treinamento ultimo ano', 'Estilo de vida',\n",
              "       'Anos na última empresa', 'Anos na posição atual',\n",
              "       'Anos desde última promoção', 'Anos com a mesma gerência', 'Contratar'],\n",
              "      dtype='object')"
            ]
          },
          "metadata": {
            "tags": []
          },
          "execution_count": 67
        }
      ]
    },
    {
      "cell_type": "code",
      "metadata": {
        "id": "z0TzXXQWEcU9",
        "colab_type": "code",
        "colab": {
          "base_uri": "https://localhost:8080/",
          "height": 404
        },
        "outputId": "4602c7d9-04a7-4648-fdea-72445372145f"
      },
      "source": [
        "plt.figure(figsize=(12,6))\n",
        "plt.title('Distribuição entre contratados e não contratados, por anos com a mesma gerência')\n",
        "eixo1 = sns.distplot(contratados['Pontuação teste'], bins = 20)\n",
        "eixo2 = sns.distplot(nao_contratados['Pontuação teste'], bins=20)\n",
        "eixo1.axvline(nao_contratados['Pontuação teste'].mean(), color= 'k', linestyle='--')\n",
        "eixo1.axvline(contratados['Pontuação teste'].mean(), color= 'r', linestyle='--');\n"
      ],
      "execution_count": 78,
      "outputs": [
        {
          "output_type": "display_data",
          "data": {
            "image/png": "[encoded data removed]",
            "text/plain": [
              "<Figure size 864x432 with 1 Axes>"
            ]
          },
          "metadata": {
            "tags": [],
            "needs_background": "light"
          }
        }
      ]
    },
    {
      "cell_type": "code",
      "metadata": {
        "id": "aMT2sO0bGzM_",
        "colab_type": "code",
        "colab": {
          "base_uri": "https://localhost:8080/",
          "height": 34
        },
        "outputId": "a74063bc-aa45-4971-b4b1-d07838a90522"
      },
      "source": [
        "algar['Performance na entrevista'].nunique()"
      ],
      "execution_count": 80,
      "outputs": [
        {
          "output_type": "execute_result",
          "data": {
            "text/plain": [
              "2"
            ]
          },
          "metadata": {
            "tags": []
          },
          "execution_count": 80
        }
      ]
    },
    {
      "cell_type": "code",
      "metadata": {
        "id": "wT6dcNaBFjLA",
        "colab_type": "code",
        "colab": {
          "base_uri": "https://localhost:8080/",
          "height": 279
        },
        "outputId": "00b705cc-c360-450f-f724-2692f66d834d"
      },
      "source": [
        "#geral\n",
        "sns.countplot(algar['Performance na entrevista']);"
      ],
      "execution_count": 82,
      "outputs": [
        {
          "output_type": "display_data",
          "data": {
            "image/png": "[encoded data removed]",
            "text/plain": [
              "<Figure size 432x288 with 1 Axes>"
            ]
          },
          "metadata": {
            "tags": [],
            "needs_background": "light"
          }
        }
      ]
    },
    {
      "cell_type": "code",
      "metadata": {
        "id": "tIlEvsb0HRbW",
        "colab_type": "code",
        "colab": {
          "base_uri": "https://localhost:8080/",
          "height": 279
        },
        "outputId": "0a1aad36-3f47-4ee8-f1ee-307bd099a8b9"
      },
      "source": [
        "#contratados\n",
        "sns.countplot(contratados['Performance na entrevista']);"
      ],
      "execution_count": 83,
      "outputs": [
        {
          "output_type": "display_data",
          "data": {
            "image/png": "[encoded data removed]",
            "text/plain": [
              "<Figure size 432x288 with 1 Axes>"
            ]
          },
          "metadata": {
            "tags": [],
            "needs_background": "light"
          }
        }
      ]
    },
    {
      "cell_type": "code",
      "metadata": {
        "id": "x3PRaWp6HaWM",
        "colab_type": "code",
        "colab": {
          "base_uri": "https://localhost:8080/",
          "height": 279
        },
        "outputId": "16757b5a-d88e-4b8c-f652-f8d1d941df8d"
      },
      "source": [
        "#não contratados\n",
        "sns.countplot(nao_contratados['Performance na entrevista']);"
      ],
      "execution_count": 84,
      "outputs": [
        {
          "output_type": "display_data",
          "data": {
            "image/png": "[encoded data removed]",
            "text/plain": [
              "<Figure size 432x288 with 1 Axes>"
            ]
          },
          "metadata": {
            "tags": [],
            "needs_background": "light"
          }
        }
      ]
    },
    {
      "cell_type": "code",
      "metadata": {
        "id": "gGEfi-uPHg5c",
        "colab_type": "code",
        "colab": {
          "base_uri": "https://localhost:8080/",
          "height": 68
        },
        "outputId": "6074b967-8606-461c-87f4-01dd489b89ec"
      },
      "source": [
        "contratados['Performance na entrevista'].value_counts(normalize=True)"
      ],
      "execution_count": 85,
      "outputs": [
        {
          "output_type": "execute_result",
          "data": {
            "text/plain": [
              "3    0.864583\n",
              "4    0.135417\n",
              "Name: Performance na entrevista, dtype: float64"
            ]
          },
          "metadata": {
            "tags": []
          },
          "execution_count": 85
        }
      ]
    },
    {
      "cell_type": "code",
      "metadata": {
        "id": "h7bCEn0AHp4V",
        "colab_type": "code",
        "colab": {
          "base_uri": "https://localhost:8080/",
          "height": 68
        },
        "outputId": "040012f9-c240-452a-880b-bf48ac4cb50d"
      },
      "source": [
        "nao_contratados['Performance na entrevista'].value_counts(normalize=True)"
      ],
      "execution_count": 86,
      "outputs": [
        {
          "output_type": "execute_result",
          "data": {
            "text/plain": [
              "3    0.847199\n",
              "4    0.152801\n",
              "Name: Performance na entrevista, dtype: float64"
            ]
          },
          "metadata": {
            "tags": []
          },
          "execution_count": 86
        }
      ]
    },
    {
      "cell_type": "code",
      "metadata": {
        "id": "Dy4plrLaHwhN",
        "colab_type": "code",
        "colab": {
          "base_uri": "https://localhost:8080/",
          "height": 204
        },
        "outputId": "8bdef03e-3bf2-4634-b381-d5e46b64a9f4"
      },
      "source": [
        "categoricas_puras.head()"
      ],
      "execution_count": 87,
      "outputs": [
        {
          "output_type": "execute_result",
          "data": {
            "text/html": [
              "<div>\n",
              "<style scoped>\n",
              "    .dataframe tbody tr th:only-of-type {\n",
              "        vertical-align: middle;\n",
              "    }\n",
              "\n",
              "    .dataframe tbody tr th {\n",
              "        vertical-align: top;\n",
              "    }\n",
              "\n",
              "    .dataframe thead th {\n",
              "        text-align: right;\n",
              "    }\n",
              "</style>\n",
              "<table border=\"1\" class=\"dataframe\">\n",
              "  <thead>\n",
              "    <tr style=\"text-align: right;\">\n",
              "      <th></th>\n",
              "      <th>Local de trabalho</th>\n",
              "      <th>Departmento</th>\n",
              "      <th>Educacao</th>\n",
              "      <th>Area</th>\n",
              "      <th>Genero</th>\n",
              "      <th>Cargo</th>\n",
              "      <th>Estado civil</th>\n",
              "      <th>Necessita de hora extra</th>\n",
              "      <th>Contratar</th>\n",
              "    </tr>\n",
              "  </thead>\n",
              "  <tbody>\n",
              "    <tr>\n",
              "      <th>0</th>\n",
              "      <td>Cliente</td>\n",
              "      <td>Engenharia</td>\n",
              "      <td>Médio completo</td>\n",
              "      <td>Ciências das natureza</td>\n",
              "      <td>M</td>\n",
              "      <td>Engenheiro</td>\n",
              "      <td>Casado</td>\n",
              "      <td>Não</td>\n",
              "      <td>Não</td>\n",
              "    </tr>\n",
              "    <tr>\n",
              "      <th>1</th>\n",
              "      <td>Misto</td>\n",
              "      <td>Engenharia</td>\n",
              "      <td>Superior incompleto - cursando</td>\n",
              "      <td>Ciências das natureza</td>\n",
              "      <td>F</td>\n",
              "      <td>Engenheiro</td>\n",
              "      <td>Casado</td>\n",
              "      <td>Sim</td>\n",
              "      <td>Não</td>\n",
              "    </tr>\n",
              "    <tr>\n",
              "      <th>2</th>\n",
              "      <td>Cliente</td>\n",
              "      <td>Engenharia</td>\n",
              "      <td>Médio completo</td>\n",
              "      <td>Medicina</td>\n",
              "      <td>M</td>\n",
              "      <td>Tecnico</td>\n",
              "      <td>Casado</td>\n",
              "      <td>Não</td>\n",
              "      <td>Não</td>\n",
              "    </tr>\n",
              "    <tr>\n",
              "      <th>3</th>\n",
              "      <td>Misto</td>\n",
              "      <td>Engenharia</td>\n",
              "      <td>Superior incompleto</td>\n",
              "      <td>Ciências das natureza</td>\n",
              "      <td>M</td>\n",
              "      <td>Tecnico</td>\n",
              "      <td>Solteiro</td>\n",
              "      <td>Não</td>\n",
              "      <td>Não</td>\n",
              "    </tr>\n",
              "    <tr>\n",
              "      <th>4</th>\n",
              "      <td>Misto</td>\n",
              "      <td>Engenharia</td>\n",
              "      <td>Superior completo</td>\n",
              "      <td>Medicina</td>\n",
              "      <td>F</td>\n",
              "      <td>Tecnico</td>\n",
              "      <td>Casado</td>\n",
              "      <td>Sim</td>\n",
              "      <td>Não</td>\n",
              "    </tr>\n",
              "  </tbody>\n",
              "</table>\n",
              "</div>"
            ],
            "text/plain": [
              "  Local de trabalho Departmento  ... Necessita de hora extra Contratar\n",
              "0           Cliente  Engenharia  ...                     Não       Não\n",
              "1             Misto  Engenharia  ...                     Sim       Não\n",
              "2           Cliente  Engenharia  ...                     Não       Não\n",
              "3             Misto  Engenharia  ...                     Não       Não\n",
              "4             Misto  Engenharia  ...                     Sim       Não\n",
              "\n",
              "[5 rows x 9 columns]"
            ]
          },
          "metadata": {
            "tags": []
          },
          "execution_count": 87
        }
      ]
    },
    {
      "cell_type": "code",
      "metadata": {
        "id": "GlJT4v9wIRLj",
        "colab_type": "code",
        "colab": {
          "base_uri": "https://localhost:8080/",
          "height": 279
        },
        "outputId": "f43da652-7141-4cb2-dd6c-d305b260ae84"
      },
      "source": [
        "sns.countplot(contratados['Local de trabalho'].sort_values());"
      ],
      "execution_count": 93,
      "outputs": [
        {
          "output_type": "display_data",
          "data": {
            "image/png": "[encoded data removed]",
            "text/plain": [
              "<Figure size 432x288 with 1 Axes>"
            ]
          },
          "metadata": {
            "tags": [],
            "needs_background": "light"
          }
        }
      ]
    },
    {
      "cell_type": "code",
      "metadata": {
        "id": "68mE1vmnIcg7",
        "colab_type": "code",
        "colab": {
          "base_uri": "https://localhost:8080/",
          "height": 279
        },
        "outputId": "f7db8bed-aabf-4359-e2ce-e7293e0a43b8"
      },
      "source": [
        "sns.countplot(nao_contratados['Local de trabalho'].sort_values());"
      ],
      "execution_count": 95,
      "outputs": [
        {
          "output_type": "display_data",
          "data": {
            "image/png": "[encoded data removed]",
            "text/plain": [
              "<Figure size 432x288 with 1 Axes>"
            ]
          },
          "metadata": {
            "tags": [],
            "needs_background": "light"
          }
        }
      ]
    },
    {
      "cell_type": "code",
      "metadata": {
        "id": "PA2bpwBFIliU",
        "colab_type": "code",
        "colab": {
          "base_uri": "https://localhost:8080/",
          "height": 507
        },
        "outputId": "3cd7a8a7-6b07-4cc4-b552-446786e7c53b"
      },
      "source": [
        "numericas"
      ],
      "execution_count": 96,
      "outputs": [
        {
          "output_type": "execute_result",
          "data": {
            "text/html": [
              "<div>\n",
              "<style scoped>\n",
              "    .dataframe tbody tr th:only-of-type {\n",
              "        vertical-align: middle;\n",
              "    }\n",
              "\n",
              "    .dataframe tbody tr th {\n",
              "        vertical-align: top;\n",
              "    }\n",
              "\n",
              "    .dataframe thead th {\n",
              "        text-align: right;\n",
              "    }\n",
              "</style>\n",
              "<table border=\"1\" class=\"dataframe\">\n",
              "  <thead>\n",
              "    <tr style=\"text-align: right;\">\n",
              "      <th></th>\n",
              "      <th>Idade</th>\n",
              "      <th>Pontuação teste</th>\n",
              "      <th>Distancia casa-trabalho</th>\n",
              "      <th>Possui carro</th>\n",
              "      <th>Subordinado</th>\n",
              "      <th>Satisfação com o ambiente no emprego atual</th>\n",
              "      <th>Horas voluntariado</th>\n",
              "      <th>Envolvimento com trabalho</th>\n",
              "      <th>Posicao</th>\n",
              "      <th>Satisfação com emprego</th>\n",
              "      <th>Renda</th>\n",
              "      <th>Bonus de performance</th>\n",
              "      <th>Quantidade de empresas que trabalho</th>\n",
              "      <th>Maior de idade</th>\n",
              "      <th>Aumento de salario%</th>\n",
              "      <th>Performance na entrevista</th>\n",
              "      <th>Satisfação com a relação</th>\n",
              "      <th>Horas de trabalho padrão</th>\n",
              "      <th>Beneficios</th>\n",
              "      <th>Anos de experiencia</th>\n",
              "      <th>Horas de treinamento ultimo ano</th>\n",
              "      <th>Estilo de vida</th>\n",
              "      <th>Anos na última empresa</th>\n",
              "      <th>Anos na posição atual</th>\n",
              "      <th>Anos desde última promoção</th>\n",
              "      <th>Anos com a mesma gerência</th>\n",
              "    </tr>\n",
              "  </thead>\n",
              "  <tbody>\n",
              "    <tr>\n",
              "      <th>0</th>\n",
              "      <td>49</td>\n",
              "      <td>279</td>\n",
              "      <td>8</td>\n",
              "      <td>1</td>\n",
              "      <td>2</td>\n",
              "      <td>3</td>\n",
              "      <td>61</td>\n",
              "      <td>2</td>\n",
              "      <td>2</td>\n",
              "      <td>2</td>\n",
              "      <td>5130</td>\n",
              "      <td>24907</td>\n",
              "      <td>1</td>\n",
              "      <td>1</td>\n",
              "      <td>23</td>\n",
              "      <td>4</td>\n",
              "      <td>4</td>\n",
              "      <td>80</td>\n",
              "      <td>1</td>\n",
              "      <td>10</td>\n",
              "      <td>3</td>\n",
              "      <td>3</td>\n",
              "      <td>10</td>\n",
              "      <td>7</td>\n",
              "      <td>1</td>\n",
              "      <td>7</td>\n",
              "    </tr>\n",
              "    <tr>\n",
              "      <th>1</th>\n",
              "      <td>33</td>\n",
              "      <td>1392</td>\n",
              "      <td>3</td>\n",
              "      <td>1</td>\n",
              "      <td>5</td>\n",
              "      <td>4</td>\n",
              "      <td>56</td>\n",
              "      <td>3</td>\n",
              "      <td>1</td>\n",
              "      <td>3</td>\n",
              "      <td>2909</td>\n",
              "      <td>23159</td>\n",
              "      <td>1</td>\n",
              "      <td>1</td>\n",
              "      <td>11</td>\n",
              "      <td>3</td>\n",
              "      <td>3</td>\n",
              "      <td>80</td>\n",
              "      <td>0</td>\n",
              "      <td>8</td>\n",
              "      <td>3</td>\n",
              "      <td>3</td>\n",
              "      <td>8</td>\n",
              "      <td>7</td>\n",
              "      <td>3</td>\n",
              "      <td>0</td>\n",
              "    </tr>\n",
              "    <tr>\n",
              "      <th>2</th>\n",
              "      <td>27</td>\n",
              "      <td>591</td>\n",
              "      <td>2</td>\n",
              "      <td>1</td>\n",
              "      <td>7</td>\n",
              "      <td>1</td>\n",
              "      <td>40</td>\n",
              "      <td>3</td>\n",
              "      <td>1</td>\n",
              "      <td>2</td>\n",
              "      <td>3468</td>\n",
              "      <td>16632</td>\n",
              "      <td>9</td>\n",
              "      <td>1</td>\n",
              "      <td>12</td>\n",
              "      <td>3</td>\n",
              "      <td>4</td>\n",
              "      <td>80</td>\n",
              "      <td>1</td>\n",
              "      <td>6</td>\n",
              "      <td>3</td>\n",
              "      <td>3</td>\n",
              "      <td>2</td>\n",
              "      <td>2</td>\n",
              "      <td>2</td>\n",
              "      <td>2</td>\n",
              "    </tr>\n",
              "    <tr>\n",
              "      <th>3</th>\n",
              "      <td>32</td>\n",
              "      <td>1005</td>\n",
              "      <td>2</td>\n",
              "      <td>1</td>\n",
              "      <td>8</td>\n",
              "      <td>4</td>\n",
              "      <td>79</td>\n",
              "      <td>3</td>\n",
              "      <td>1</td>\n",
              "      <td>4</td>\n",
              "      <td>3068</td>\n",
              "      <td>11864</td>\n",
              "      <td>0</td>\n",
              "      <td>1</td>\n",
              "      <td>13</td>\n",
              "      <td>3</td>\n",
              "      <td>3</td>\n",
              "      <td>80</td>\n",
              "      <td>0</td>\n",
              "      <td>8</td>\n",
              "      <td>2</td>\n",
              "      <td>2</td>\n",
              "      <td>7</td>\n",
              "      <td>7</td>\n",
              "      <td>3</td>\n",
              "      <td>6</td>\n",
              "    </tr>\n",
              "    <tr>\n",
              "      <th>4</th>\n",
              "      <td>59</td>\n",
              "      <td>1324</td>\n",
              "      <td>3</td>\n",
              "      <td>1</td>\n",
              "      <td>10</td>\n",
              "      <td>3</td>\n",
              "      <td>81</td>\n",
              "      <td>4</td>\n",
              "      <td>1</td>\n",
              "      <td>1</td>\n",
              "      <td>2670</td>\n",
              "      <td>9964</td>\n",
              "      <td>4</td>\n",
              "      <td>1</td>\n",
              "      <td>20</td>\n",
              "      <td>4</td>\n",
              "      <td>1</td>\n",
              "      <td>80</td>\n",
              "      <td>3</td>\n",
              "      <td>12</td>\n",
              "      <td>3</td>\n",
              "      <td>2</td>\n",
              "      <td>1</td>\n",
              "      <td>0</td>\n",
              "      <td>0</td>\n",
              "      <td>0</td>\n",
              "    </tr>\n",
              "    <tr>\n",
              "      <th>...</th>\n",
              "      <td>...</td>\n",
              "      <td>...</td>\n",
              "      <td>...</td>\n",
              "      <td>...</td>\n",
              "      <td>...</td>\n",
              "      <td>...</td>\n",
              "      <td>...</td>\n",
              "      <td>...</td>\n",
              "      <td>...</td>\n",
              "      <td>...</td>\n",
              "      <td>...</td>\n",
              "      <td>...</td>\n",
              "      <td>...</td>\n",
              "      <td>...</td>\n",
              "      <td>...</td>\n",
              "      <td>...</td>\n",
              "      <td>...</td>\n",
              "      <td>...</td>\n",
              "      <td>...</td>\n",
              "      <td>...</td>\n",
              "      <td>...</td>\n",
              "      <td>...</td>\n",
              "      <td>...</td>\n",
              "      <td>...</td>\n",
              "      <td>...</td>\n",
              "      <td>...</td>\n",
              "    </tr>\n",
              "    <tr>\n",
              "      <th>1365</th>\n",
              "      <td>23</td>\n",
              "      <td>638</td>\n",
              "      <td>9</td>\n",
              "      <td>1</td>\n",
              "      <td>2023</td>\n",
              "      <td>4</td>\n",
              "      <td>33</td>\n",
              "      <td>3</td>\n",
              "      <td>1</td>\n",
              "      <td>1</td>\n",
              "      <td>1790</td>\n",
              "      <td>26956</td>\n",
              "      <td>1</td>\n",
              "      <td>1</td>\n",
              "      <td>19</td>\n",
              "      <td>3</td>\n",
              "      <td>1</td>\n",
              "      <td>80</td>\n",
              "      <td>1</td>\n",
              "      <td>1</td>\n",
              "      <td>3</td>\n",
              "      <td>2</td>\n",
              "      <td>1</td>\n",
              "      <td>0</td>\n",
              "      <td>1</td>\n",
              "      <td>0</td>\n",
              "    </tr>\n",
              "    <tr>\n",
              "      <th>1366</th>\n",
              "      <td>29</td>\n",
              "      <td>1092</td>\n",
              "      <td>1</td>\n",
              "      <td>1</td>\n",
              "      <td>2027</td>\n",
              "      <td>1</td>\n",
              "      <td>36</td>\n",
              "      <td>3</td>\n",
              "      <td>1</td>\n",
              "      <td>4</td>\n",
              "      <td>4787</td>\n",
              "      <td>26124</td>\n",
              "      <td>9</td>\n",
              "      <td>1</td>\n",
              "      <td>14</td>\n",
              "      <td>3</td>\n",
              "      <td>2</td>\n",
              "      <td>80</td>\n",
              "      <td>3</td>\n",
              "      <td>4</td>\n",
              "      <td>3</td>\n",
              "      <td>4</td>\n",
              "      <td>2</td>\n",
              "      <td>2</td>\n",
              "      <td>2</td>\n",
              "      <td>2</td>\n",
              "    </tr>\n",
              "    <tr>\n",
              "      <th>1367</th>\n",
              "      <td>56</td>\n",
              "      <td>310</td>\n",
              "      <td>7</td>\n",
              "      <td>1</td>\n",
              "      <td>2032</td>\n",
              "      <td>4</td>\n",
              "      <td>72</td>\n",
              "      <td>3</td>\n",
              "      <td>1</td>\n",
              "      <td>3</td>\n",
              "      <td>2339</td>\n",
              "      <td>3666</td>\n",
              "      <td>8</td>\n",
              "      <td>1</td>\n",
              "      <td>11</td>\n",
              "      <td>3</td>\n",
              "      <td>4</td>\n",
              "      <td>80</td>\n",
              "      <td>1</td>\n",
              "      <td>14</td>\n",
              "      <td>4</td>\n",
              "      <td>1</td>\n",
              "      <td>10</td>\n",
              "      <td>9</td>\n",
              "      <td>9</td>\n",
              "      <td>8</td>\n",
              "    </tr>\n",
              "    <tr>\n",
              "      <th>1368</th>\n",
              "      <td>50</td>\n",
              "      <td>878</td>\n",
              "      <td>1</td>\n",
              "      <td>1</td>\n",
              "      <td>2044</td>\n",
              "      <td>2</td>\n",
              "      <td>94</td>\n",
              "      <td>3</td>\n",
              "      <td>2</td>\n",
              "      <td>3</td>\n",
              "      <td>6728</td>\n",
              "      <td>14255</td>\n",
              "      <td>7</td>\n",
              "      <td>1</td>\n",
              "      <td>12</td>\n",
              "      <td>3</td>\n",
              "      <td>4</td>\n",
              "      <td>80</td>\n",
              "      <td>2</td>\n",
              "      <td>12</td>\n",
              "      <td>3</td>\n",
              "      <td>3</td>\n",
              "      <td>6</td>\n",
              "      <td>3</td>\n",
              "      <td>0</td>\n",
              "      <td>1</td>\n",
              "    </tr>\n",
              "    <tr>\n",
              "      <th>1369</th>\n",
              "      <td>50</td>\n",
              "      <td>410</td>\n",
              "      <td>28</td>\n",
              "      <td>1</td>\n",
              "      <td>2055</td>\n",
              "      <td>4</td>\n",
              "      <td>39</td>\n",
              "      <td>2</td>\n",
              "      <td>3</td>\n",
              "      <td>1</td>\n",
              "      <td>10854</td>\n",
              "      <td>16586</td>\n",
              "      <td>4</td>\n",
              "      <td>1</td>\n",
              "      <td>13</td>\n",
              "      <td>3</td>\n",
              "      <td>2</td>\n",
              "      <td>80</td>\n",
              "      <td>1</td>\n",
              "      <td>20</td>\n",
              "      <td>3</td>\n",
              "      <td>3</td>\n",
              "      <td>3</td>\n",
              "      <td>2</td>\n",
              "      <td>2</td>\n",
              "      <td>0</td>\n",
              "    </tr>\n",
              "  </tbody>\n",
              "</table>\n",
              "<p>1370 rows × 26 columns</p>\n",
              "</div>"
            ],
            "text/plain": [
              "      Idade  ...  Anos com a mesma gerência\n",
              "0        49  ...                          7\n",
              "1        33  ...                          0\n",
              "2        27  ...                          2\n",
              "3        32  ...                          6\n",
              "4        59  ...                          0\n",
              "...     ...  ...                        ...\n",
              "1365     23  ...                          0\n",
              "1366     29  ...                          2\n",
              "1367     56  ...                          8\n",
              "1368     50  ...                          1\n",
              "1369     50  ...                          0\n",
              "\n",
              "[1370 rows x 26 columns]"
            ]
          },
          "metadata": {
            "tags": []
          },
          "execution_count": 96
        }
      ]
    },
    {
      "cell_type": "code",
      "metadata": {
        "id": "onSxN-eUOF_e",
        "colab_type": "code",
        "colab": {
          "base_uri": "https://localhost:8080/",
          "height": 34
        },
        "outputId": "54638954-7a18-432e-d399-279825e07449"
      },
      "source": [
        "numericas['Satisfação com emprego'].unique()"
      ],
      "execution_count": 108,
      "outputs": [
        {
          "output_type": "execute_result",
          "data": {
            "text/plain": [
              "array([2, 3, 4, 1])"
            ]
          },
          "metadata": {
            "tags": []
          },
          "execution_count": 108
        }
      ]
    },
    {
      "cell_type": "code",
      "metadata": {
        "id": "JZLoeEscOQW5",
        "colab_type": "code",
        "colab": {
          "base_uri": "https://localhost:8080/",
          "height": 279
        },
        "outputId": "4ec4f719-d482-4e15-a603-d910b69dbfc6"
      },
      "source": [
        "sns.countplot(algar['Posicao']);\n"
      ],
      "execution_count": 103,
      "outputs": [
        {
          "output_type": "display_data",
          "data": {
            "image/png": "[encoded data removed]",
            "text/plain": [
              "<Figure size 432x288 with 1 Axes>"
            ]
          },
          "metadata": {
            "tags": [],
            "needs_background": "light"
          }
        }
      ]
    },
    {
      "cell_type": "code",
      "metadata": {
        "id": "Uvp1SZzqOySS",
        "colab_type": "code",
        "colab": {
          "base_uri": "https://localhost:8080/",
          "height": 280
        },
        "outputId": "49b24ad2-b809-4339-f0fc-ac96b833dcf3"
      },
      "source": [
        "sns.countplot(contratados['Posicao']);"
      ],
      "execution_count": 104,
      "outputs": [
        {
          "output_type": "display_data",
          "data": {
            "image/png": "[encoded data removed]",
            "text/plain": [
              "<Figure size 432x288 with 1 Axes>"
            ]
          },
          "metadata": {
            "tags": [],
            "needs_background": "light"
          }
        }
      ]
    },
    {
      "cell_type": "code",
      "metadata": {
        "id": "FyXkQ-3wO8o-",
        "colab_type": "code",
        "colab": {
          "base_uri": "https://localhost:8080/",
          "height": 279
        },
        "outputId": "03e4445e-8f58-46dc-c069-dc1db76ef4e8"
      },
      "source": [
        "sns.countplot(nao_contratados['Posicao']);"
      ],
      "execution_count": 105,
      "outputs": [
        {
          "output_type": "display_data",
          "data": {
            "image/png": "[encoded data removed]",
            "text/plain": [
              "<Figure size 432x288 with 1 Axes>"
            ]
          },
          "metadata": {
            "tags": [],
            "needs_background": "light"
          }
        }
      ]
    },
    {
      "cell_type": "code",
      "metadata": {
        "id": "yxOA-UOuO__v",
        "colab_type": "code",
        "colab": {
          "base_uri": "https://localhost:8080/",
          "height": 279
        },
        "outputId": "fb4cd81d-0963-4793-c124-eba0a505f24a"
      },
      "source": [
        "sns.distplot(contratados['Distancia casa-trabalho'], bins=20);"
      ],
      "execution_count": 113,
      "outputs": [
        {
          "output_type": "display_data",
          "data": {
            "image/png": "[encoded data removed]",
            "text/plain": [
              "<Figure size 432x288 with 1 Axes>"
            ]
          },
          "metadata": {
            "tags": [],
            "needs_background": "light"
          }
        }
      ]
    },
    {
      "cell_type": "code",
      "metadata": {
        "id": "a2e6e__WREKv",
        "colab_type": "code",
        "colab": {
          "base_uri": "https://localhost:8080/",
          "height": 279
        },
        "outputId": "b5a181c3-15e3-4dc3-9304-019c111b19f6"
      },
      "source": [
        "sns.distplot(nao_contratados['Distancia casa-trabalho'].sample(contratados.shape[0]), bins=20);"
      ],
      "execution_count": 114,
      "outputs": [
        {
          "output_type": "display_data",
          "data": {
            "image/png": "[encoded data removed]",
            "text/plain": [
              "<Figure size 432x288 with 1 Axes>"
            ]
          },
          "metadata": {
            "tags": [],
            "needs_background": "light"
          }
        }
      ]
    },
    {
      "cell_type": "code",
      "metadata": {
        "id": "BBCX39HyRQJD",
        "colab_type": "code",
        "colab": {
          "base_uri": "https://localhost:8080/",
          "height": 34
        },
        "outputId": "8fbdefae-cf48-43c8-8647-3c455016f457"
      },
      "source": [
        "algar.Departmento.unique()"
      ],
      "execution_count": 115,
      "outputs": [
        {
          "output_type": "execute_result",
          "data": {
            "text/plain": [
              "array(['Engenharia', 'Vendas', 'RH'], dtype=object)"
            ]
          },
          "metadata": {
            "tags": []
          },
          "execution_count": 115
        }
      ]
    },
    {
      "cell_type": "code",
      "metadata": {
        "id": "vRtKNhXmR6N7",
        "colab_type": "code",
        "colab": {
          "base_uri": "https://localhost:8080/",
          "height": 68
        },
        "outputId": "1f95758d-e05f-451b-93ed-9677e6d63c7d"
      },
      "source": [
        "algar.Educacao.unique()"
      ],
      "execution_count": 116,
      "outputs": [
        {
          "output_type": "execute_result",
          "data": {
            "text/plain": [
              "array(['Médio completo', 'Superior incompleto - cursando',\n",
              "       'Superior incompleto', 'Superior completo', 'Pós-gradução'],\n",
              "      dtype=object)"
            ]
          },
          "metadata": {
            "tags": []
          },
          "execution_count": 116
        }
      ]
    },
    {
      "cell_type": "code",
      "metadata": {
        "id": "Ax--IUH_ShnH",
        "colab_type": "code",
        "colab": {
          "base_uri": "https://localhost:8080/",
          "height": 34
        },
        "outputId": "3d4f22c5-7239-4644-f2b1-8cc13dcd35a9"
      },
      "source": [
        "algar.shape"
      ],
      "execution_count": 117,
      "outputs": [
        {
          "output_type": "execute_result",
          "data": {
            "text/plain": [
              "(1370, 35)"
            ]
          },
          "metadata": {
            "tags": []
          },
          "execution_count": 117
        }
      ]
    },
    {
      "cell_type": "code",
      "metadata": {
        "id": "QKtR8t-5Tsm9",
        "colab_type": "code",
        "colab": {
          "base_uri": "https://localhost:8080/",
          "height": 34
        },
        "outputId": "5c4ed076-4bb0-4537-ddb7-de211b8141cf"
      },
      "source": [
        "contratados.shape"
      ],
      "execution_count": 118,
      "outputs": [
        {
          "output_type": "execute_result",
          "data": {
            "text/plain": [
              "(192, 35)"
            ]
          },
          "metadata": {
            "tags": []
          },
          "execution_count": 118
        }
      ]
    },
    {
      "cell_type": "code",
      "metadata": {
        "id": "VxZoJf4ATvin",
        "colab_type": "code",
        "colab": {
          "base_uri": "https://localhost:8080/",
          "height": 238
        },
        "outputId": "202042b1-b6cf-4d2b-ce70-026c250e0086"
      },
      "source": [
        "algar.columns"
      ],
      "execution_count": 119,
      "outputs": [
        {
          "output_type": "execute_result",
          "data": {
            "text/plain": [
              "Index(['Idade', 'Local de trabalho', 'Pontuação teste', 'Departmento',\n",
              "       'Distancia casa-trabalho', 'Educacao', 'Area', 'Possui carro',\n",
              "       'Subordinado', 'Satisfação com o ambiente no emprego atual', 'Genero',\n",
              "       'Horas voluntariado', 'Envolvimento com trabalho', 'Posicao', 'Cargo',\n",
              "       'Satisfação com emprego', 'Estado civil', 'Renda',\n",
              "       'Bonus de performance', 'Quantidade de empresas que trabalho',\n",
              "       'Maior de idade', 'Necessita de hora extra', 'Aumento de salario%',\n",
              "       'Performance na entrevista', 'Satisfação com a relação',\n",
              "       'Horas de trabalho padrão', 'Beneficios', 'Anos de experiencia',\n",
              "       'Horas de treinamento ultimo ano', 'Estilo de vida',\n",
              "       'Anos na última empresa', 'Anos na posição atual',\n",
              "       'Anos desde última promoção', 'Anos com a mesma gerência', 'Contratar'],\n",
              "      dtype='object')"
            ]
          },
          "metadata": {
            "tags": []
          },
          "execution_count": 119
        }
      ]
    },
    {
      "cell_type": "markdown",
      "metadata": {
        "id": "WstIG0-iVuVQ",
        "colab_type": "text"
      },
      "source": [
        "### Variáveis"
      ]
    },
    {
      "cell_type": "code",
      "metadata": {
        "id": "6X2S31yoVaYS",
        "colab_type": "code",
        "colab": {}
      },
      "source": [
        "flag = []\n",
        "continuas = []\n",
        "nominais = []\n",
        "ordinais = []\n",
        "categoricas = []\n",
        "typeless = []\n",
        "\n"
      ],
      "execution_count": 120,
      "outputs": []
    },
    {
      "cell_type": "code",
      "metadata": {
        "id": "FJal9rlqWsf7",
        "colab_type": "code",
        "colab": {
          "base_uri": "https://localhost:8080/",
          "height": 34
        },
        "outputId": "7b494582-d913-471c-80e2-d33e62a558c8"
      },
      "source": [
        "#colocando valores numa lista\n",
        "continuas.pop()"
      ],
      "execution_count": 126,
      "outputs": [
        {
          "output_type": "execute_result",
          "data": {
            "text/plain": [
              "['Distancia casa-trabalho', 'Idade']"
            ]
          },
          "metadata": {
            "tags": []
          },
          "execution_count": 126
        }
      ]
    },
    {
      "cell_type": "code",
      "metadata": {
        "id": "8klCG-ncX8_c",
        "colab_type": "code",
        "colab": {
          "base_uri": "https://localhost:8080/",
          "height": 34
        },
        "outputId": "278743f1-7cb6-474c-d65c-5b946e6647d2"
      },
      "source": [
        "continuas"
      ],
      "execution_count": 127,
      "outputs": [
        {
          "output_type": "execute_result",
          "data": {
            "text/plain": [
              "['Distancia casa-trabalho']"
            ]
          },
          "metadata": {
            "tags": []
          },
          "execution_count": 127
        }
      ]
    },
    {
      "cell_type": "code",
      "metadata": {
        "id": "7gS3v2arX-Vu",
        "colab_type": "code",
        "colab": {}
      },
      "source": [
        "continuas.append('Idade')"
      ],
      "execution_count": 130,
      "outputs": []
    },
    {
      "cell_type": "code",
      "metadata": {
        "id": "SozMRufkZPzN",
        "colab_type": "code",
        "colab": {}
      },
      "source": [
        "nominais.append('Local de trabalho')"
      ],
      "execution_count": 132,
      "outputs": []
    },
    {
      "cell_type": "code",
      "metadata": {
        "id": "Rz8e2q3rZYmi",
        "colab_type": "code",
        "colab": {}
      },
      "source": [
        "continuas.append('Pontuação teste')"
      ],
      "execution_count": 133,
      "outputs": []
    },
    {
      "cell_type": "code",
      "metadata": {
        "id": "vMkK1BCXZxup",
        "colab_type": "code",
        "colab": {}
      },
      "source": [
        "nominais.append('Departamento')"
      ],
      "execution_count": 134,
      "outputs": []
    },
    {
      "cell_type": "code",
      "metadata": {
        "id": "RgNMVSC6Z3Tz",
        "colab_type": "code",
        "colab": {
          "base_uri": "https://localhost:8080/",
          "height": 238
        },
        "outputId": "3862fd59-8adf-4c14-ea4c-039cfc73408c"
      },
      "source": [
        "algar.columns"
      ],
      "execution_count": 135,
      "outputs": [
        {
          "output_type": "execute_result",
          "data": {
            "text/plain": [
              "Index(['Idade', 'Local de trabalho', 'Pontuação teste', 'Departmento',\n",
              "       'Distancia casa-trabalho', 'Educacao', 'Area', 'Possui carro',\n",
              "       'Subordinado', 'Satisfação com o ambiente no emprego atual', 'Genero',\n",
              "       'Horas voluntariado', 'Envolvimento com trabalho', 'Posicao', 'Cargo',\n",
              "       'Satisfação com emprego', 'Estado civil', 'Renda',\n",
              "       'Bonus de performance', 'Quantidade de empresas que trabalho',\n",
              "       'Maior de idade', 'Necessita de hora extra', 'Aumento de salario%',\n",
              "       'Performance na entrevista', 'Satisfação com a relação',\n",
              "       'Horas de trabalho padrão', 'Beneficios', 'Anos de experiencia',\n",
              "       'Horas de treinamento ultimo ano', 'Estilo de vida',\n",
              "       'Anos na última empresa', 'Anos na posição atual',\n",
              "       'Anos desde última promoção', 'Anos com a mesma gerência', 'Contratar'],\n",
              "      dtype='object')"
            ]
          },
          "metadata": {
            "tags": []
          },
          "execution_count": 135
        }
      ]
    },
    {
      "cell_type": "code",
      "metadata": {
        "id": "EuFbl0PIZ5_a",
        "colab_type": "code",
        "colab": {}
      },
      "source": [
        "colunas_faltantes = ['Educacao', 'Area', 'Possui carro',\n",
        "       'Subordinado', 'Satisfação com o ambiente no emprego atual', 'Genero',\n",
        "       'Horas voluntariado', 'Envolvimento com trabalho', 'Posicao', 'Cargo',\n",
        "       'Satisfação com emprego', 'Estado civil', 'Renda',\n",
        "       'Bonus de performance', 'Quantidade de empresas que trabalho',\n",
        "       'Maior de idade', 'Necessita de hora extra', 'Aumento de salario%',\n",
        "       'Performance na entrevista', 'Satisfação com a relação',\n",
        "       'Horas de trabalho padrão', 'Beneficios', 'Anos de experiencia',\n",
        "       'Horas de treinamento ultimo ano', 'Estilo de vida',\n",
        "       'Anos na última empresa', 'Anos na posição atual',\n",
        "       'Anos desde última promoção', 'Anos com a mesma gerência', 'Contratar']"
      ],
      "execution_count": 136,
      "outputs": []
    },
    {
      "cell_type": "code",
      "metadata": {
        "id": "jA1VahBRaBwp",
        "colab_type": "code",
        "colab": {
          "base_uri": "https://localhost:8080/",
          "height": 34
        },
        "outputId": "138052ac-9ab9-49b6-d17f-0b7252b55ea2"
      },
      "source": [
        "continuas"
      ],
      "execution_count": 137,
      "outputs": [
        {
          "output_type": "execute_result",
          "data": {
            "text/plain": [
              "['Distancia casa-trabalho', 'Idade', 'Pontuação teste']"
            ]
          },
          "metadata": {
            "tags": []
          },
          "execution_count": 137
        }
      ]
    },
    {
      "cell_type": "code",
      "metadata": {
        "id": "We7sBfiHaDMy",
        "colab_type": "code",
        "colab": {
          "base_uri": "https://localhost:8080/",
          "height": 221
        },
        "outputId": "b572d7f1-73ea-4d81-f025-a02015c33c3c"
      },
      "source": [
        "algar.Educacao"
      ],
      "execution_count": 138,
      "outputs": [
        {
          "output_type": "execute_result",
          "data": {
            "text/plain": [
              "0                       Médio completo\n",
              "1       Superior incompleto - cursando\n",
              "2                       Médio completo\n",
              "3                  Superior incompleto\n",
              "4                    Superior completo\n",
              "                     ...              \n",
              "1365                 Superior completo\n",
              "1366    Superior incompleto - cursando\n",
              "1367               Superior incompleto\n",
              "1368    Superior incompleto - cursando\n",
              "1369                 Superior completo\n",
              "Name: Educacao, Length: 1370, dtype: object"
            ]
          },
          "metadata": {
            "tags": []
          },
          "execution_count": 138
        }
      ]
    },
    {
      "cell_type": "code",
      "metadata": {
        "id": "I5x5snngaInt",
        "colab_type": "code",
        "colab": {}
      },
      "source": [
        "categoricas.append('Educacao')"
      ],
      "execution_count": 139,
      "outputs": []
    },
    {
      "cell_type": "code",
      "metadata": {
        "id": "pckpTnD7aZI_",
        "colab_type": "code",
        "colab": {
          "base_uri": "https://localhost:8080/",
          "height": 35
        },
        "outputId": "7782a4e3-cb24-4c91-c6fe-88c4600278df"
      },
      "source": [
        "colunas_faltantes.pop(0)"
      ],
      "execution_count": 141,
      "outputs": [
        {
          "output_type": "execute_result",
          "data": {
            "application/vnd.google.colaboratory.intrinsic+json": {
              "type": "string"
            },
            "text/plain": [
              "'Distancia casa-trabalho'"
            ]
          },
          "metadata": {
            "tags": []
          },
          "execution_count": 141
        }
      ]
    },
    {
      "cell_type": "code",
      "metadata": {
        "id": "RcrF7pA6ac4Q",
        "colab_type": "code",
        "colab": {
          "base_uri": "https://localhost:8080/",
          "height": 35
        },
        "outputId": "47efe886-3cc6-4a95-e0ec-1aaf58520016"
      },
      "source": [
        "colunas_faltantes.pop(0)"
      ],
      "execution_count": 142,
      "outputs": [
        {
          "output_type": "execute_result",
          "data": {
            "application/vnd.google.colaboratory.intrinsic+json": {
              "type": "string"
            },
            "text/plain": [
              "'Educacao'"
            ]
          },
          "metadata": {
            "tags": []
          },
          "execution_count": 142
        }
      ]
    },
    {
      "cell_type": "code",
      "metadata": {
        "id": "R8a4DQ6dahYI",
        "colab_type": "code",
        "colab": {
          "base_uri": "https://localhost:8080/",
          "height": 510
        },
        "outputId": "6ffef668-2eae-4987-99ed-dbf2fc10ea52"
      },
      "source": [
        "colunas_faltantes"
      ],
      "execution_count": 143,
      "outputs": [
        {
          "output_type": "execute_result",
          "data": {
            "text/plain": [
              "['Area',\n",
              " 'Possui carro',\n",
              " 'Subordinado',\n",
              " 'Satisfação com o ambiente no emprego atual',\n",
              " 'Genero',\n",
              " 'Horas voluntariado',\n",
              " 'Envolvimento com trabalho',\n",
              " 'Posicao',\n",
              " 'Cargo',\n",
              " 'Satisfação com emprego',\n",
              " 'Estado civil',\n",
              " 'Renda',\n",
              " 'Bonus de performance',\n",
              " 'Quantidade de empresas que trabalho',\n",
              " 'Maior de idade',\n",
              " 'Necessita de hora extra',\n",
              " 'Aumento de salario%',\n",
              " 'Performance na entrevista',\n",
              " 'Satisfação com a relação',\n",
              " 'Horas de trabalho padrão',\n",
              " 'Beneficios',\n",
              " 'Anos de experiencia',\n",
              " 'Horas de treinamento ultimo ano',\n",
              " 'Estilo de vida',\n",
              " 'Anos na última empresa',\n",
              " 'Anos na posição atual',\n",
              " 'Anos desde última promoção',\n",
              " 'Anos com a mesma gerência',\n",
              " 'Contratar']"
            ]
          },
          "metadata": {
            "tags": []
          },
          "execution_count": 143
        }
      ]
    },
    {
      "cell_type": "code",
      "metadata": {
        "id": "5i0AEuSpajHg",
        "colab_type": "code",
        "colab": {
          "base_uri": "https://localhost:8080/",
          "height": 221
        },
        "outputId": "5af4cc0e-e8f2-4d0e-b916-d8f7e78082d9"
      },
      "source": [
        "algar.Area"
      ],
      "execution_count": 144,
      "outputs": [
        {
          "output_type": "execute_result",
          "data": {
            "text/plain": [
              "0       Ciências das natureza\n",
              "1       Ciências das natureza\n",
              "2                    Medicina\n",
              "3       Ciências das natureza\n",
              "4                    Medicina\n",
              "                ...          \n",
              "1365                Marketing\n",
              "1366                 Medicina\n",
              "1367        Faculdade Técnica\n",
              "1368    Ciências das natureza\n",
              "1369                Marketing\n",
              "Name: Area, Length: 1370, dtype: object"
            ]
          },
          "metadata": {
            "tags": []
          },
          "execution_count": 144
        }
      ]
    },
    {
      "cell_type": "code",
      "metadata": {
        "id": "QX5CrdAeal0g",
        "colab_type": "code",
        "colab": {
          "base_uri": "https://localhost:8080/",
          "height": 35
        },
        "outputId": "b7cd7cd2-1f67-48e7-8c5b-0534b958804a"
      },
      "source": [
        "nominais.append('Area')\n",
        "colunas_faltantes.pop(0)"
      ],
      "execution_count": 145,
      "outputs": [
        {
          "output_type": "execute_result",
          "data": {
            "application/vnd.google.colaboratory.intrinsic+json": {
              "type": "string"
            },
            "text/plain": [
              "'Area'"
            ]
          },
          "metadata": {
            "tags": []
          },
          "execution_count": 145
        }
      ]
    },
    {
      "cell_type": "code",
      "metadata": {
        "id": "s0JnsZLoa6vA",
        "colab_type": "code",
        "colab": {
          "base_uri": "https://localhost:8080/",
          "height": 493
        },
        "outputId": "7577ec85-52b7-4c2d-b06d-9c26ceaa9714"
      },
      "source": [
        "colunas_faltantes"
      ],
      "execution_count": 147,
      "outputs": [
        {
          "output_type": "execute_result",
          "data": {
            "text/plain": [
              "['Possui carro',\n",
              " 'Subordinado',\n",
              " 'Satisfação com o ambiente no emprego atual',\n",
              " 'Genero',\n",
              " 'Horas voluntariado',\n",
              " 'Envolvimento com trabalho',\n",
              " 'Posicao',\n",
              " 'Cargo',\n",
              " 'Satisfação com emprego',\n",
              " 'Estado civil',\n",
              " 'Renda',\n",
              " 'Bonus de performance',\n",
              " 'Quantidade de empresas que trabalho',\n",
              " 'Maior de idade',\n",
              " 'Necessita de hora extra',\n",
              " 'Aumento de salario%',\n",
              " 'Performance na entrevista',\n",
              " 'Satisfação com a relação',\n",
              " 'Horas de trabalho padrão',\n",
              " 'Beneficios',\n",
              " 'Anos de experiencia',\n",
              " 'Horas de treinamento ultimo ano',\n",
              " 'Estilo de vida',\n",
              " 'Anos na última empresa',\n",
              " 'Anos na posição atual',\n",
              " 'Anos desde última promoção',\n",
              " 'Anos com a mesma gerência',\n",
              " 'Contratar']"
            ]
          },
          "metadata": {
            "tags": []
          },
          "execution_count": 147
        }
      ]
    },
    {
      "cell_type": "code",
      "metadata": {
        "id": "w64vWSzRa8Ln",
        "colab_type": "code",
        "colab": {
          "base_uri": "https://localhost:8080/",
          "height": 35
        },
        "outputId": "a5bd0373-af65-4855-ebeb-055c6e9db986"
      },
      "source": [
        "flag.append('Possui carro')\n",
        "colunas_faltantes.pop(0)"
      ],
      "execution_count": 149,
      "outputs": [
        {
          "output_type": "execute_result",
          "data": {
            "application/vnd.google.colaboratory.intrinsic+json": {
              "type": "string"
            },
            "text/plain": [
              "'Possui carro'"
            ]
          },
          "metadata": {
            "tags": []
          },
          "execution_count": 149
        }
      ]
    },
    {
      "cell_type": "code",
      "metadata": {
        "id": "yK6SKpULbN2_",
        "colab_type": "code",
        "colab": {
          "base_uri": "https://localhost:8080/",
          "height": 476
        },
        "outputId": "5a24d868-a27a-43a1-cb0f-6a7946239314"
      },
      "source": [
        "colunas_faltantes"
      ],
      "execution_count": 150,
      "outputs": [
        {
          "output_type": "execute_result",
          "data": {
            "text/plain": [
              "['Subordinado',\n",
              " 'Satisfação com o ambiente no emprego atual',\n",
              " 'Genero',\n",
              " 'Horas voluntariado',\n",
              " 'Envolvimento com trabalho',\n",
              " 'Posicao',\n",
              " 'Cargo',\n",
              " 'Satisfação com emprego',\n",
              " 'Estado civil',\n",
              " 'Renda',\n",
              " 'Bonus de performance',\n",
              " 'Quantidade de empresas que trabalho',\n",
              " 'Maior de idade',\n",
              " 'Necessita de hora extra',\n",
              " 'Aumento de salario%',\n",
              " 'Performance na entrevista',\n",
              " 'Satisfação com a relação',\n",
              " 'Horas de trabalho padrão',\n",
              " 'Beneficios',\n",
              " 'Anos de experiencia',\n",
              " 'Horas de treinamento ultimo ano',\n",
              " 'Estilo de vida',\n",
              " 'Anos na última empresa',\n",
              " 'Anos na posição atual',\n",
              " 'Anos desde última promoção',\n",
              " 'Anos com a mesma gerência',\n",
              " 'Contratar']"
            ]
          },
          "metadata": {
            "tags": []
          },
          "execution_count": 150
        }
      ]
    },
    {
      "cell_type": "code",
      "metadata": {
        "id": "Pj5X5YpmbWl2",
        "colab_type": "code",
        "colab": {
          "base_uri": "https://localhost:8080/",
          "height": 300
        },
        "outputId": "c9781ebd-6f22-47c1-dc8d-fe0d0bacb795"
      },
      "source": [
        "sns.distplot(algar.Subordinado)"
      ],
      "execution_count": 152,
      "outputs": [
        {
          "output_type": "execute_result",
          "data": {
            "text/plain": [
              "<matplotlib.axes._subplots.AxesSubplot at 0x7fd9f52d9710>"
            ]
          },
          "metadata": {
            "tags": []
          },
          "execution_count": 152
        },
        {
          "output_type": "display_data",
          "data": {
            "image/png": "[encoded data removed]",
            "text/plain": [
              "<Figure size 432x288 with 1 Axes>"
            ]
          },
          "metadata": {
            "tags": [],
            "needs_background": "light"
          }
        }
      ]
    },
    {
      "cell_type": "markdown",
      "metadata": {
        "id": "WfMuM7rObmxg",
        "colab_type": "text"
      },
      "source": [
        "flag = []\n",
        "continuas = []\n",
        "nominais = []\n",
        "ordinais = []\n",
        "categoricas = []\n",
        "typeless = []\n"
      ]
    },
    {
      "cell_type": "code",
      "metadata": {
        "id": "SkiKbok9basP",
        "colab_type": "code",
        "colab": {
          "base_uri": "https://localhost:8080/",
          "height": 35
        },
        "outputId": "8c8e31dd-eb35-4fe1-a5b0-0496a53a2e45"
      },
      "source": [
        "continuas.append('Subordinado')\n",
        "colunas_faltantes.pop(0)"
      ],
      "execution_count": 155,
      "outputs": [
        {
          "output_type": "execute_result",
          "data": {
            "application/vnd.google.colaboratory.intrinsic+json": {
              "type": "string"
            },
            "text/plain": [
              "'Subordinado'"
            ]
          },
          "metadata": {
            "tags": []
          },
          "execution_count": 155
        }
      ]
    },
    {
      "cell_type": "code",
      "metadata": {
        "id": "CFIFPPTPbsum",
        "colab_type": "code",
        "colab": {
          "base_uri": "https://localhost:8080/",
          "height": 221
        },
        "outputId": "3e2627e1-75c1-4e9c-c92e-7648ad649d5a"
      },
      "source": [
        "algar['Satisfação com o ambiente no emprego atual']"
      ],
      "execution_count": 156,
      "outputs": [
        {
          "output_type": "execute_result",
          "data": {
            "text/plain": [
              "0       3\n",
              "1       4\n",
              "2       1\n",
              "3       4\n",
              "4       3\n",
              "       ..\n",
              "1365    4\n",
              "1366    1\n",
              "1367    4\n",
              "1368    2\n",
              "1369    4\n",
              "Name: Satisfação com o ambiente no emprego atual, Length: 1370, dtype: int64"
            ]
          },
          "metadata": {
            "tags": []
          },
          "execution_count": 156
        }
      ]
    },
    {
      "cell_type": "code",
      "metadata": {
        "id": "Hp3ucvMDcAm9",
        "colab_type": "code",
        "colab": {
          "base_uri": "https://localhost:8080/",
          "height": 35
        },
        "outputId": "5054f9c7-c77c-4303-acf1-e3f1b7ce6627"
      },
      "source": [
        "ordinais.append('Satisfação com o ambiente no emprego atual')\n",
        "colunas_faltantes.pop(0)"
      ],
      "execution_count": 157,
      "outputs": [
        {
          "output_type": "execute_result",
          "data": {
            "application/vnd.google.colaboratory.intrinsic+json": {
              "type": "string"
            },
            "text/plain": [
              "'Satisfação com o ambiente no emprego atual'"
            ]
          },
          "metadata": {
            "tags": []
          },
          "execution_count": 157
        }
      ]
    },
    {
      "cell_type": "code",
      "metadata": {
        "id": "YzDDk1HJcI6N",
        "colab_type": "code",
        "colab": {
          "base_uri": "https://localhost:8080/",
          "height": 442
        },
        "outputId": "3c6219d9-0f82-40c1-eaf7-84ff6c0b580c"
      },
      "source": [
        "colunas_faltantes"
      ],
      "execution_count": 158,
      "outputs": [
        {
          "output_type": "execute_result",
          "data": {
            "text/plain": [
              "['Genero',\n",
              " 'Horas voluntariado',\n",
              " 'Envolvimento com trabalho',\n",
              " 'Posicao',\n",
              " 'Cargo',\n",
              " 'Satisfação com emprego',\n",
              " 'Estado civil',\n",
              " 'Renda',\n",
              " 'Bonus de performance',\n",
              " 'Quantidade de empresas que trabalho',\n",
              " 'Maior de idade',\n",
              " 'Necessita de hora extra',\n",
              " 'Aumento de salario%',\n",
              " 'Performance na entrevista',\n",
              " 'Satisfação com a relação',\n",
              " 'Horas de trabalho padrão',\n",
              " 'Beneficios',\n",
              " 'Anos de experiencia',\n",
              " 'Horas de treinamento ultimo ano',\n",
              " 'Estilo de vida',\n",
              " 'Anos na última empresa',\n",
              " 'Anos na posição atual',\n",
              " 'Anos desde última promoção',\n",
              " 'Anos com a mesma gerência',\n",
              " 'Contratar']"
            ]
          },
          "metadata": {
            "tags": []
          },
          "execution_count": 158
        }
      ]
    },
    {
      "cell_type": "code",
      "metadata": {
        "id": "dDK43uEKcbe9",
        "colab_type": "code",
        "colab": {
          "base_uri": "https://localhost:8080/",
          "height": 221
        },
        "outputId": "158504e8-8768-4289-b742-43a2c4fde7b8"
      },
      "source": [
        "algar.Genero"
      ],
      "execution_count": 159,
      "outputs": [
        {
          "output_type": "execute_result",
          "data": {
            "text/plain": [
              "0       M\n",
              "1       F\n",
              "2       M\n",
              "3       M\n",
              "4       F\n",
              "       ..\n",
              "1365    M\n",
              "1366    M\n",
              "1367    M\n",
              "1368    M\n",
              "1369    M\n",
              "Name: Genero, Length: 1370, dtype: object"
            ]
          },
          "metadata": {
            "tags": []
          },
          "execution_count": 159
        }
      ]
    },
    {
      "cell_type": "code",
      "metadata": {
        "id": "IXarL9WxcmKM",
        "colab_type": "code",
        "colab": {
          "base_uri": "https://localhost:8080/",
          "height": 35
        },
        "outputId": "09bdcea8-7abf-431d-dea4-dbedfa6cde5f"
      },
      "source": [
        "nominais.append('Genero')\n",
        "colunas_faltantes.pop(0)"
      ],
      "execution_count": 160,
      "outputs": [
        {
          "output_type": "execute_result",
          "data": {
            "application/vnd.google.colaboratory.intrinsic+json": {
              "type": "string"
            },
            "text/plain": [
              "'Genero'"
            ]
          },
          "metadata": {
            "tags": []
          },
          "execution_count": 160
        }
      ]
    },
    {
      "cell_type": "code",
      "metadata": {
        "id": "nNZcjNntdCs8",
        "colab_type": "code",
        "colab": {
          "base_uri": "https://localhost:8080/",
          "height": 425
        },
        "outputId": "b3938fa5-21c6-4a0f-b207-e7ee3aa45c3a"
      },
      "source": [
        "colunas_faltantes"
      ],
      "execution_count": 161,
      "outputs": [
        {
          "output_type": "execute_result",
          "data": {
            "text/plain": [
              "['Horas voluntariado',\n",
              " 'Envolvimento com trabalho',\n",
              " 'Posicao',\n",
              " 'Cargo',\n",
              " 'Satisfação com emprego',\n",
              " 'Estado civil',\n",
              " 'Renda',\n",
              " 'Bonus de performance',\n",
              " 'Quantidade de empresas que trabalho',\n",
              " 'Maior de idade',\n",
              " 'Necessita de hora extra',\n",
              " 'Aumento de salario%',\n",
              " 'Performance na entrevista',\n",
              " 'Satisfação com a relação',\n",
              " 'Horas de trabalho padrão',\n",
              " 'Beneficios',\n",
              " 'Anos de experiencia',\n",
              " 'Horas de treinamento ultimo ano',\n",
              " 'Estilo de vida',\n",
              " 'Anos na última empresa',\n",
              " 'Anos na posição atual',\n",
              " 'Anos desde última promoção',\n",
              " 'Anos com a mesma gerência',\n",
              " 'Contratar']"
            ]
          },
          "metadata": {
            "tags": []
          },
          "execution_count": 161
        }
      ]
    },
    {
      "cell_type": "code",
      "metadata": {
        "id": "odDlNo3bdE1D",
        "colab_type": "code",
        "colab": {
          "base_uri": "https://localhost:8080/",
          "height": 296
        },
        "outputId": "61bfec54-bf96-447f-ad89-2afc35e86c17"
      },
      "source": [
        "sns.distplot(algar['Horas voluntariado'])"
      ],
      "execution_count": 164,
      "outputs": [
        {
          "output_type": "execute_result",
          "data": {
            "text/plain": [
              "<matplotlib.axes._subplots.AxesSubplot at 0x7fd9f51ad908>"
            ]
          },
          "metadata": {
            "tags": []
          },
          "execution_count": 164
        },
        {
          "output_type": "display_data",
          "data": {
            "image/png": "[encoded data removed]",
            "text/plain": [
              "<Figure size 432x288 with 1 Axes>"
            ]
          },
          "metadata": {
            "tags": [],
            "needs_background": "light"
          }
        }
      ]
    },
    {
      "cell_type": "code",
      "metadata": {
        "id": "ZAw0Uw9_dSRq",
        "colab_type": "code",
        "colab": {
          "base_uri": "https://localhost:8080/",
          "height": 34
        },
        "outputId": "1e9f3a1a-09a3-48dd-e90f-b860343eed98"
      },
      "source": [
        "algar['Horas voluntariado'].max()"
      ],
      "execution_count": 168,
      "outputs": [
        {
          "output_type": "execute_result",
          "data": {
            "text/plain": [
              "100"
            ]
          },
          "metadata": {
            "tags": []
          },
          "execution_count": 168
        }
      ]
    },
    {
      "cell_type": "code",
      "metadata": {
        "id": "i34nEXxsduaV",
        "colab_type": "code",
        "colab": {
          "base_uri": "https://localhost:8080/",
          "height": 35
        },
        "outputId": "a943efa1-ac5a-4cd2-98c1-a9d7ffef6062"
      },
      "source": [
        "continuas.append('Horas voluntariado')\n",
        "colunas_faltantes.pop(0)"
      ],
      "execution_count": 169,
      "outputs": [
        {
          "output_type": "execute_result",
          "data": {
            "application/vnd.google.colaboratory.intrinsic+json": {
              "type": "string"
            },
            "text/plain": [
              "'Horas voluntariado'"
            ]
          },
          "metadata": {
            "tags": []
          },
          "execution_count": 169
        }
      ]
    },
    {
      "cell_type": "code",
      "metadata": {
        "id": "KZhdKSwzd5_p",
        "colab_type": "code",
        "colab": {
          "base_uri": "https://localhost:8080/",
          "height": 408
        },
        "outputId": "04a99c52-24d8-4719-ac8a-f647700f1ec6"
      },
      "source": [
        "colunas_faltantes"
      ],
      "execution_count": 170,
      "outputs": [
        {
          "output_type": "execute_result",
          "data": {
            "text/plain": [
              "['Envolvimento com trabalho',\n",
              " 'Posicao',\n",
              " 'Cargo',\n",
              " 'Satisfação com emprego',\n",
              " 'Estado civil',\n",
              " 'Renda',\n",
              " 'Bonus de performance',\n",
              " 'Quantidade de empresas que trabalho',\n",
              " 'Maior de idade',\n",
              " 'Necessita de hora extra',\n",
              " 'Aumento de salario%',\n",
              " 'Performance na entrevista',\n",
              " 'Satisfação com a relação',\n",
              " 'Horas de trabalho padrão',\n",
              " 'Beneficios',\n",
              " 'Anos de experiencia',\n",
              " 'Horas de treinamento ultimo ano',\n",
              " 'Estilo de vida',\n",
              " 'Anos na última empresa',\n",
              " 'Anos na posição atual',\n",
              " 'Anos desde última promoção',\n",
              " 'Anos com a mesma gerência',\n",
              " 'Contratar']"
            ]
          },
          "metadata": {
            "tags": []
          },
          "execution_count": 170
        }
      ]
    },
    {
      "cell_type": "code",
      "metadata": {
        "id": "-5OQeLyEd-Ip",
        "colab_type": "code",
        "colab": {
          "base_uri": "https://localhost:8080/",
          "height": 296
        },
        "outputId": "24087fc0-ac16-4ed7-9fb9-497185b51c8a"
      },
      "source": [
        "sns.countplot(algar['Envolvimento com trabalho'])"
      ],
      "execution_count": 177,
      "outputs": [
        {
          "output_type": "execute_result",
          "data": {
            "text/plain": [
              "<matplotlib.axes._subplots.AxesSubplot at 0x7fd9f5586860>"
            ]
          },
          "metadata": {
            "tags": []
          },
          "execution_count": 177
        },
        {
          "output_type": "display_data",
          "data": {
            "image/png": "[encoded data removed]",
            "text/plain": [
              "<Figure size 432x288 with 1 Axes>"
            ]
          },
          "metadata": {
            "tags": [],
            "needs_background": "light"
          }
        }
      ]
    },
    {
      "cell_type": "code",
      "metadata": {
        "id": "8a2jj-PFeEx6",
        "colab_type": "code",
        "colab": {
          "base_uri": "https://localhost:8080/",
          "height": 35
        },
        "outputId": "f64a3b69-207b-4fc7-cbed-f3792fa8f902"
      },
      "source": [
        "ordinais.append('Envolvimento com trabalho')\n",
        "colunas_faltantes.pop(0)"
      ],
      "execution_count": 178,
      "outputs": [
        {
          "output_type": "execute_result",
          "data": {
            "application/vnd.google.colaboratory.intrinsic+json": {
              "type": "string"
            },
            "text/plain": [
              "'Envolvimento com trabalho'"
            ]
          },
          "metadata": {
            "tags": []
          },
          "execution_count": 178
        }
      ]
    },
    {
      "cell_type": "code",
      "metadata": {
        "id": "1774Invsezvg",
        "colab_type": "code",
        "colab": {
          "base_uri": "https://localhost:8080/",
          "height": 391
        },
        "outputId": "a0adb770-231c-434b-ccbe-a02370501643"
      },
      "source": [
        "colunas_faltantes"
      ],
      "execution_count": 179,
      "outputs": [
        {
          "output_type": "execute_result",
          "data": {
            "text/plain": [
              "['Posicao',\n",
              " 'Cargo',\n",
              " 'Satisfação com emprego',\n",
              " 'Estado civil',\n",
              " 'Renda',\n",
              " 'Bonus de performance',\n",
              " 'Quantidade de empresas que trabalho',\n",
              " 'Maior de idade',\n",
              " 'Necessita de hora extra',\n",
              " 'Aumento de salario%',\n",
              " 'Performance na entrevista',\n",
              " 'Satisfação com a relação',\n",
              " 'Horas de trabalho padrão',\n",
              " 'Beneficios',\n",
              " 'Anos de experiencia',\n",
              " 'Horas de treinamento ultimo ano',\n",
              " 'Estilo de vida',\n",
              " 'Anos na última empresa',\n",
              " 'Anos na posição atual',\n",
              " 'Anos desde última promoção',\n",
              " 'Anos com a mesma gerência',\n",
              " 'Contratar']"
            ]
          },
          "metadata": {
            "tags": []
          },
          "execution_count": 179
        }
      ]
    },
    {
      "cell_type": "code",
      "metadata": {
        "id": "IGNGYz-we2qQ",
        "colab_type": "code",
        "colab": {
          "base_uri": "https://localhost:8080/",
          "height": 296
        },
        "outputId": "a88b19e6-d30e-4a81-9dae-acc803680c2f"
      },
      "source": [
        "sns.countplot(algar.Posicao)"
      ],
      "execution_count": 181,
      "outputs": [
        {
          "output_type": "execute_result",
          "data": {
            "text/plain": [
              "<matplotlib.axes._subplots.AxesSubplot at 0x7fd9f5ed4e10>"
            ]
          },
          "metadata": {
            "tags": []
          },
          "execution_count": 181
        },
        {
          "output_type": "display_data",
          "data": {
            "image/png": "[encoded data removed]",
            "text/plain": [
              "<Figure size 432x288 with 1 Axes>"
            ]
          },
          "metadata": {
            "tags": [],
            "needs_background": "light"
          }
        }
      ]
    },
    {
      "cell_type": "code",
      "metadata": {
        "id": "F0XSwsXCe5I4",
        "colab_type": "code",
        "colab": {
          "base_uri": "https://localhost:8080/",
          "height": 35
        },
        "outputId": "1a84a1c9-bd23-45dc-ba19-41f7520c2b3e"
      },
      "source": [
        " ordinais.append('Posicao')\n",
        " colunas_faltantes.pop(0)"
      ],
      "execution_count": 182,
      "outputs": [
        {
          "output_type": "execute_result",
          "data": {
            "application/vnd.google.colaboratory.intrinsic+json": {
              "type": "string"
            },
            "text/plain": [
              "'Posicao'"
            ]
          },
          "metadata": {
            "tags": []
          },
          "execution_count": 182
        }
      ]
    },
    {
      "cell_type": "code",
      "metadata": {
        "id": "0qqyVFOGfJ5J",
        "colab_type": "code",
        "colab": {
          "base_uri": "https://localhost:8080/",
          "height": 374
        },
        "outputId": "1e72270b-aa2e-4f83-fbd5-b0dfed603e30"
      },
      "source": [
        "colunas_faltantes"
      ],
      "execution_count": 183,
      "outputs": [
        {
          "output_type": "execute_result",
          "data": {
            "text/plain": [
              "['Cargo',\n",
              " 'Satisfação com emprego',\n",
              " 'Estado civil',\n",
              " 'Renda',\n",
              " 'Bonus de performance',\n",
              " 'Quantidade de empresas que trabalho',\n",
              " 'Maior de idade',\n",
              " 'Necessita de hora extra',\n",
              " 'Aumento de salario%',\n",
              " 'Performance na entrevista',\n",
              " 'Satisfação com a relação',\n",
              " 'Horas de trabalho padrão',\n",
              " 'Beneficios',\n",
              " 'Anos de experiencia',\n",
              " 'Horas de treinamento ultimo ano',\n",
              " 'Estilo de vida',\n",
              " 'Anos na última empresa',\n",
              " 'Anos na posição atual',\n",
              " 'Anos desde última promoção',\n",
              " 'Anos com a mesma gerência',\n",
              " 'Contratar']"
            ]
          },
          "metadata": {
            "tags": []
          },
          "execution_count": 183
        }
      ]
    },
    {
      "cell_type": "code",
      "metadata": {
        "id": "UilKx3fIfT7o",
        "colab_type": "code",
        "colab": {
          "base_uri": "https://localhost:8080/",
          "height": 221
        },
        "outputId": "4310412a-22f2-4db6-8edb-af2138c31f2e"
      },
      "source": [
        "algar.Cargo"
      ],
      "execution_count": 184,
      "outputs": [
        {
          "output_type": "execute_result",
          "data": {
            "text/plain": [
              "0            Engenheiro\n",
              "1            Engenheiro\n",
              "2               Tecnico\n",
              "3               Tecnico\n",
              "4               Tecnico\n",
              "             ...       \n",
              "1365    Vendedor junior\n",
              "1366         Engenheiro\n",
              "1367            Tecnico\n",
              "1368     Vendedo senior\n",
              "1369     Vendedo senior\n",
              "Name: Cargo, Length: 1370, dtype: object"
            ]
          },
          "metadata": {
            "tags": []
          },
          "execution_count": 184
        }
      ]
    },
    {
      "cell_type": "code",
      "metadata": {
        "id": "td26l6byfV5u",
        "colab_type": "code",
        "colab": {}
      },
      "source": [
        "nominais.append('Cargo')"
      ],
      "execution_count": 185,
      "outputs": []
    },
    {
      "cell_type": "code",
      "metadata": {
        "id": "3OqcO5ZyfaoA",
        "colab_type": "code",
        "colab": {
          "base_uri": "https://localhost:8080/",
          "height": 35
        },
        "outputId": "c2073391-99c7-4099-f6ae-0581c0716ee3"
      },
      "source": [
        "colunas_faltantes.pop(0)"
      ],
      "execution_count": 186,
      "outputs": [
        {
          "output_type": "execute_result",
          "data": {
            "application/vnd.google.colaboratory.intrinsic+json": {
              "type": "string"
            },
            "text/plain": [
              "'Cargo'"
            ]
          },
          "metadata": {
            "tags": []
          },
          "execution_count": 186
        }
      ]
    },
    {
      "cell_type": "code",
      "metadata": {
        "id": "71qrGBjBfiiP",
        "colab_type": "code",
        "colab": {
          "base_uri": "https://localhost:8080/",
          "height": 357
        },
        "outputId": "84d11918-59ca-4d46-c9fd-2f553ad8fb88"
      },
      "source": [
        "colunas_faltantes"
      ],
      "execution_count": 187,
      "outputs": [
        {
          "output_type": "execute_result",
          "data": {
            "text/plain": [
              "['Satisfação com emprego',\n",
              " 'Estado civil',\n",
              " 'Renda',\n",
              " 'Bonus de performance',\n",
              " 'Quantidade de empresas que trabalho',\n",
              " 'Maior de idade',\n",
              " 'Necessita de hora extra',\n",
              " 'Aumento de salario%',\n",
              " 'Performance na entrevista',\n",
              " 'Satisfação com a relação',\n",
              " 'Horas de trabalho padrão',\n",
              " 'Beneficios',\n",
              " 'Anos de experiencia',\n",
              " 'Horas de treinamento ultimo ano',\n",
              " 'Estilo de vida',\n",
              " 'Anos na última empresa',\n",
              " 'Anos na posição atual',\n",
              " 'Anos desde última promoção',\n",
              " 'Anos com a mesma gerência',\n",
              " 'Contratar']"
            ]
          },
          "metadata": {
            "tags": []
          },
          "execution_count": 187
        }
      ]
    },
    {
      "cell_type": "code",
      "metadata": {
        "id": "d7ONHZqIfj0-",
        "colab_type": "code",
        "colab": {
          "base_uri": "https://localhost:8080/",
          "height": 296
        },
        "outputId": "97883e7b-686d-4491-cca3-9f59bc71546e"
      },
      "source": [
        "sns.countplot(algar['Satisfação com emprego'])"
      ],
      "execution_count": 189,
      "outputs": [
        {
          "output_type": "execute_result",
          "data": {
            "text/plain": [
              "<matplotlib.axes._subplots.AxesSubplot at 0x7fd9f8c43278>"
            ]
          },
          "metadata": {
            "tags": []
          },
          "execution_count": 189
        },
        {
          "output_type": "display_data",
          "data": {
            "image/png": "[encoded data removed]",
            "text/plain": [
              "<Figure size 432x288 with 1 Axes>"
            ]
          },
          "metadata": {
            "tags": [],
            "needs_background": "light"
          }
        }
      ]
    },
    {
      "cell_type": "code",
      "metadata": {
        "id": "X-XaaNumfucc",
        "colab_type": "code",
        "colab": {
          "base_uri": "https://localhost:8080/",
          "height": 35
        },
        "outputId": "e4100d4c-3b08-4eec-f2a0-4593e2bf13b1"
      },
      "source": [
        "ordinais.append('Satisfação com emprego')\n",
        "colunas_faltantes.pop(0)"
      ],
      "execution_count": 190,
      "outputs": [
        {
          "output_type": "execute_result",
          "data": {
            "application/vnd.google.colaboratory.intrinsic+json": {
              "type": "string"
            },
            "text/plain": [
              "'Satisfação com emprego'"
            ]
          },
          "metadata": {
            "tags": []
          },
          "execution_count": 190
        }
      ]
    },
    {
      "cell_type": "code",
      "metadata": {
        "id": "ul9S7_FLgTm9",
        "colab_type": "code",
        "colab": {
          "base_uri": "https://localhost:8080/",
          "height": 340
        },
        "outputId": "5488d69f-b69f-4b7a-9bcd-e9167ed794ba"
      },
      "source": [
        "colunas_faltantes"
      ],
      "execution_count": 191,
      "outputs": [
        {
          "output_type": "execute_result",
          "data": {
            "text/plain": [
              "['Estado civil',\n",
              " 'Renda',\n",
              " 'Bonus de performance',\n",
              " 'Quantidade de empresas que trabalho',\n",
              " 'Maior de idade',\n",
              " 'Necessita de hora extra',\n",
              " 'Aumento de salario%',\n",
              " 'Performance na entrevista',\n",
              " 'Satisfação com a relação',\n",
              " 'Horas de trabalho padrão',\n",
              " 'Beneficios',\n",
              " 'Anos de experiencia',\n",
              " 'Horas de treinamento ultimo ano',\n",
              " 'Estilo de vida',\n",
              " 'Anos na última empresa',\n",
              " 'Anos na posição atual',\n",
              " 'Anos desde última promoção',\n",
              " 'Anos com a mesma gerência',\n",
              " 'Contratar']"
            ]
          },
          "metadata": {
            "tags": []
          },
          "execution_count": 191
        }
      ]
    },
    {
      "cell_type": "code",
      "metadata": {
        "id": "5w-goD1MgVBk",
        "colab_type": "code",
        "colab": {}
      },
      "source": [
        "nominais.append('Estado civil')"
      ],
      "execution_count": 193,
      "outputs": []
    },
    {
      "cell_type": "code",
      "metadata": {
        "id": "kY7XhSgMgc2t",
        "colab_type": "code",
        "colab": {
          "base_uri": "https://localhost:8080/",
          "height": 35
        },
        "outputId": "ea8fdb43-6d99-4280-afda-4c3e16378ff1"
      },
      "source": [
        "colunas_faltantes.pop(0)"
      ],
      "execution_count": 194,
      "outputs": [
        {
          "output_type": "execute_result",
          "data": {
            "application/vnd.google.colaboratory.intrinsic+json": {
              "type": "string"
            },
            "text/plain": [
              "'Estado civil'"
            ]
          },
          "metadata": {
            "tags": []
          },
          "execution_count": 194
        }
      ]
    },
    {
      "cell_type": "code",
      "metadata": {
        "id": "R-afoWj1guMN",
        "colab_type": "code",
        "colab": {
          "base_uri": "https://localhost:8080/",
          "height": 323
        },
        "outputId": "597486a9-d7ff-42dd-e15d-4a855f5c6490"
      },
      "source": [
        "colunas_faltantes"
      ],
      "execution_count": 195,
      "outputs": [
        {
          "output_type": "execute_result",
          "data": {
            "text/plain": [
              "['Renda',\n",
              " 'Bonus de performance',\n",
              " 'Quantidade de empresas que trabalho',\n",
              " 'Maior de idade',\n",
              " 'Necessita de hora extra',\n",
              " 'Aumento de salario%',\n",
              " 'Performance na entrevista',\n",
              " 'Satisfação com a relação',\n",
              " 'Horas de trabalho padrão',\n",
              " 'Beneficios',\n",
              " 'Anos de experiencia',\n",
              " 'Horas de treinamento ultimo ano',\n",
              " 'Estilo de vida',\n",
              " 'Anos na última empresa',\n",
              " 'Anos na posição atual',\n",
              " 'Anos desde última promoção',\n",
              " 'Anos com a mesma gerência',\n",
              " 'Contratar']"
            ]
          },
          "metadata": {
            "tags": []
          },
          "execution_count": 195
        }
      ]
    },
    {
      "cell_type": "code",
      "metadata": {
        "id": "5GBuZASagxQu",
        "colab_type": "code",
        "colab": {
          "base_uri": "https://localhost:8080/",
          "height": 221
        },
        "outputId": "ed611cf1-fd95-4a4b-cae6-efb392c11068"
      },
      "source": [
        "algar.Renda"
      ],
      "execution_count": 196,
      "outputs": [
        {
          "output_type": "execute_result",
          "data": {
            "text/plain": [
              "0        5130\n",
              "1        2909\n",
              "2        3468\n",
              "3        3068\n",
              "4        2670\n",
              "        ...  \n",
              "1365     1790\n",
              "1366     4787\n",
              "1367     2339\n",
              "1368     6728\n",
              "1369    10854\n",
              "Name: Renda, Length: 1370, dtype: int64"
            ]
          },
          "metadata": {
            "tags": []
          },
          "execution_count": 196
        }
      ]
    },
    {
      "cell_type": "code",
      "metadata": {
        "id": "i7oP84SJg0FE",
        "colab_type": "code",
        "colab": {}
      },
      "source": [
        "continuas.append('Renda')"
      ],
      "execution_count": 197,
      "outputs": []
    },
    {
      "cell_type": "code",
      "metadata": {
        "id": "7I1y3Sgtg3Ds",
        "colab_type": "code",
        "colab": {
          "base_uri": "https://localhost:8080/",
          "height": 35
        },
        "outputId": "32e712fb-136f-4439-c660-9e3a63a10ed8"
      },
      "source": [
        "colunas_faltantes.pop(0)"
      ],
      "execution_count": 198,
      "outputs": [
        {
          "output_type": "execute_result",
          "data": {
            "application/vnd.google.colaboratory.intrinsic+json": {
              "type": "string"
            },
            "text/plain": [
              "'Renda'"
            ]
          },
          "metadata": {
            "tags": []
          },
          "execution_count": 198
        }
      ]
    },
    {
      "cell_type": "code",
      "metadata": {
        "id": "8Wupl3hrg5Y9",
        "colab_type": "code",
        "colab": {
          "base_uri": "https://localhost:8080/",
          "height": 35
        },
        "outputId": "8c4e2df8-6010-4ff2-d354-283894f62138"
      },
      "source": [
        "flag.append('Contratar')\n",
        "colunas_faltantes.pop()"
      ],
      "execution_count": 199,
      "outputs": [
        {
          "output_type": "execute_result",
          "data": {
            "application/vnd.google.colaboratory.intrinsic+json": {
              "type": "string"
            },
            "text/plain": [
              "'Contratar'"
            ]
          },
          "metadata": {
            "tags": []
          },
          "execution_count": 199
        }
      ]
    },
    {
      "cell_type": "code",
      "metadata": {
        "id": "D4CeDZFnhBbE",
        "colab_type": "code",
        "colab": {
          "base_uri": "https://localhost:8080/",
          "height": 289
        },
        "outputId": "4e48797f-c865-46bf-bd08-6fa3769131cd"
      },
      "source": [
        "colunas_faltantes"
      ],
      "execution_count": 200,
      "outputs": [
        {
          "output_type": "execute_result",
          "data": {
            "text/plain": [
              "['Bonus de performance',\n",
              " 'Quantidade de empresas que trabalho',\n",
              " 'Maior de idade',\n",
              " 'Necessita de hora extra',\n",
              " 'Aumento de salario%',\n",
              " 'Performance na entrevista',\n",
              " 'Satisfação com a relação',\n",
              " 'Horas de trabalho padrão',\n",
              " 'Beneficios',\n",
              " 'Anos de experiencia',\n",
              " 'Horas de treinamento ultimo ano',\n",
              " 'Estilo de vida',\n",
              " 'Anos na última empresa',\n",
              " 'Anos na posição atual',\n",
              " 'Anos desde última promoção',\n",
              " 'Anos com a mesma gerência']"
            ]
          },
          "metadata": {
            "tags": []
          },
          "execution_count": 200
        }
      ]
    },
    {
      "cell_type": "code",
      "metadata": {
        "id": "534F3DORhCxc",
        "colab_type": "code",
        "colab": {}
      },
      "source": [
        "continuas.append('Bonus de performance')"
      ],
      "execution_count": 202,
      "outputs": []
    },
    {
      "cell_type": "code",
      "metadata": {
        "id": "qDiopZmfhNys",
        "colab_type": "code",
        "colab": {
          "base_uri": "https://localhost:8080/",
          "height": 35
        },
        "outputId": "7a65eb97-a894-45ca-9e4a-8a83bc887c0f"
      },
      "source": [
        "colunas_faltantes.pop(0)"
      ],
      "execution_count": 203,
      "outputs": [
        {
          "output_type": "execute_result",
          "data": {
            "application/vnd.google.colaboratory.intrinsic+json": {
              "type": "string"
            },
            "text/plain": [
              "'Bonus de performance'"
            ]
          },
          "metadata": {
            "tags": []
          },
          "execution_count": 203
        }
      ]
    },
    {
      "cell_type": "code",
      "metadata": {
        "id": "hkaBNk_Fhama",
        "colab_type": "code",
        "colab": {
          "base_uri": "https://localhost:8080/",
          "height": 272
        },
        "outputId": "c4866015-2821-446f-be14-71908cd16ea0"
      },
      "source": [
        "colunas_faltantes"
      ],
      "execution_count": 204,
      "outputs": [
        {
          "output_type": "execute_result",
          "data": {
            "text/plain": [
              "['Quantidade de empresas que trabalho',\n",
              " 'Maior de idade',\n",
              " 'Necessita de hora extra',\n",
              " 'Aumento de salario%',\n",
              " 'Performance na entrevista',\n",
              " 'Satisfação com a relação',\n",
              " 'Horas de trabalho padrão',\n",
              " 'Beneficios',\n",
              " 'Anos de experiencia',\n",
              " 'Horas de treinamento ultimo ano',\n",
              " 'Estilo de vida',\n",
              " 'Anos na última empresa',\n",
              " 'Anos na posição atual',\n",
              " 'Anos desde última promoção',\n",
              " 'Anos com a mesma gerência']"
            ]
          },
          "metadata": {
            "tags": []
          },
          "execution_count": 204
        }
      ]
    },
    {
      "cell_type": "code",
      "metadata": {
        "id": "nYWWNbO5hc5L",
        "colab_type": "code",
        "colab": {
          "base_uri": "https://localhost:8080/",
          "height": 34
        },
        "outputId": "b7c3eba9-c67f-4ed1-88a5-7cdcec62d04b"
      },
      "source": [
        "algar['Maior de idade'].unique()"
      ],
      "execution_count": 206,
      "outputs": [
        {
          "output_type": "execute_result",
          "data": {
            "text/plain": [
              "array([1])"
            ]
          },
          "metadata": {
            "tags": []
          },
          "execution_count": 206
        }
      ]
    },
    {
      "cell_type": "code",
      "metadata": {
        "id": "RrBPSCWfhier",
        "colab_type": "code",
        "colab": {
          "base_uri": "https://localhost:8080/",
          "height": 35
        },
        "outputId": "d3d25da4-bd33-45b2-bb67-cbf1714ad5d7"
      },
      "source": [
        "flag.append('Maior de idade')\n",
        "colunas_faltantes.pop(1)"
      ],
      "execution_count": 208,
      "outputs": [
        {
          "output_type": "execute_result",
          "data": {
            "application/vnd.google.colaboratory.intrinsic+json": {
              "type": "string"
            },
            "text/plain": [
              "'Maior de idade'"
            ]
          },
          "metadata": {
            "tags": []
          },
          "execution_count": 208
        }
      ]
    },
    {
      "cell_type": "code",
      "metadata": {
        "id": "eQZWRX5whuIS",
        "colab_type": "code",
        "colab": {
          "base_uri": "https://localhost:8080/",
          "height": 255
        },
        "outputId": "3468c26c-8926-46b6-f1b9-c1b8c275bd93"
      },
      "source": [
        "colunas_faltantes"
      ],
      "execution_count": 209,
      "outputs": [
        {
          "output_type": "execute_result",
          "data": {
            "text/plain": [
              "['Quantidade de empresas que trabalho',\n",
              " 'Necessita de hora extra',\n",
              " 'Aumento de salario%',\n",
              " 'Performance na entrevista',\n",
              " 'Satisfação com a relação',\n",
              " 'Horas de trabalho padrão',\n",
              " 'Beneficios',\n",
              " 'Anos de experiencia',\n",
              " 'Horas de treinamento ultimo ano',\n",
              " 'Estilo de vida',\n",
              " 'Anos na última empresa',\n",
              " 'Anos na posição atual',\n",
              " 'Anos desde última promoção',\n",
              " 'Anos com a mesma gerência']"
            ]
          },
          "metadata": {
            "tags": []
          },
          "execution_count": 209
        }
      ]
    },
    {
      "cell_type": "code",
      "metadata": {
        "id": "hmlOe9ZxhyVa",
        "colab_type": "code",
        "colab": {
          "base_uri": "https://localhost:8080/",
          "height": 34
        },
        "outputId": "e3815875-02c6-45a7-a38c-ca8f47f67ddc"
      },
      "source": [
        "algar['Necessita de hora extra'].unique()"
      ],
      "execution_count": 210,
      "outputs": [
        {
          "output_type": "execute_result",
          "data": {
            "text/plain": [
              "array(['Não', 'Sim'], dtype=object)"
            ]
          },
          "metadata": {
            "tags": []
          },
          "execution_count": 210
        }
      ]
    },
    {
      "cell_type": "code",
      "metadata": {
        "id": "40Ymjz9MiLO5",
        "colab_type": "code",
        "colab": {
          "base_uri": "https://localhost:8080/",
          "height": 35
        },
        "outputId": "526379b7-eddb-4285-847c-bd12a13e8ae5"
      },
      "source": [
        "flag.append('Necessita de hora extra')\n",
        "colunas_faltantes.pop(1)"
      ],
      "execution_count": 211,
      "outputs": [
        {
          "output_type": "execute_result",
          "data": {
            "application/vnd.google.colaboratory.intrinsic+json": {
              "type": "string"
            },
            "text/plain": [
              "'Necessita de hora extra'"
            ]
          },
          "metadata": {
            "tags": []
          },
          "execution_count": 211
        }
      ]
    },
    {
      "cell_type": "code",
      "metadata": {
        "id": "T7ja44ABiO0K",
        "colab_type": "code",
        "colab": {
          "base_uri": "https://localhost:8080/",
          "height": 34
        },
        "outputId": "214b3d41-b809-49ef-a0c7-8bf75099e900"
      },
      "source": [
        "algar['Quantidade de empresas que trabalho'].unique()"
      ],
      "execution_count": 213,
      "outputs": [
        {
          "output_type": "execute_result",
          "data": {
            "text/plain": [
              "array([1, 9, 0, 4, 6, 2, 5, 3, 7, 8])"
            ]
          },
          "metadata": {
            "tags": []
          },
          "execution_count": 213
        }
      ]
    },
    {
      "cell_type": "code",
      "metadata": {
        "id": "CfRfSUQHi4gB",
        "colab_type": "code",
        "colab": {
          "base_uri": "https://localhost:8080/",
          "height": 35
        },
        "outputId": "d955c1ab-1109-437a-fd96-0ddef780fd4b"
      },
      "source": [
        "continuas.append('Quantidade de empresas que trabalho')\n",
        "colunas_faltantes.pop(0)"
      ],
      "execution_count": 214,
      "outputs": [
        {
          "output_type": "execute_result",
          "data": {
            "application/vnd.google.colaboratory.intrinsic+json": {
              "type": "string"
            },
            "text/plain": [
              "'Quantidade de empresas que trabalho'"
            ]
          },
          "metadata": {
            "tags": []
          },
          "execution_count": 214
        }
      ]
    },
    {
      "cell_type": "code",
      "metadata": {
        "id": "yxwdNVd9jS3J",
        "colab_type": "code",
        "colab": {
          "base_uri": "https://localhost:8080/",
          "height": 221
        },
        "outputId": "8ac49ef4-0e80-434f-a410-0f0a03292bac"
      },
      "source": [
        "colunas_faltantes"
      ],
      "execution_count": 215,
      "outputs": [
        {
          "output_type": "execute_result",
          "data": {
            "text/plain": [
              "['Aumento de salario%',\n",
              " 'Performance na entrevista',\n",
              " 'Satisfação com a relação',\n",
              " 'Horas de trabalho padrão',\n",
              " 'Beneficios',\n",
              " 'Anos de experiencia',\n",
              " 'Horas de treinamento ultimo ano',\n",
              " 'Estilo de vida',\n",
              " 'Anos na última empresa',\n",
              " 'Anos na posição atual',\n",
              " 'Anos desde última promoção',\n",
              " 'Anos com a mesma gerência']"
            ]
          },
          "metadata": {
            "tags": []
          },
          "execution_count": 215
        }
      ]
    },
    {
      "cell_type": "code",
      "metadata": {
        "id": "y6b53C9yjUU4",
        "colab_type": "code",
        "colab": {
          "base_uri": "https://localhost:8080/",
          "height": 296
        },
        "outputId": "e32951f8-bf1d-485f-ba8f-02238d1d2b03"
      },
      "source": [
        "sns.boxplot(algar['Aumento de salario%'])"
      ],
      "execution_count": 216,
      "outputs": [
        {
          "output_type": "execute_result",
          "data": {
            "text/plain": [
              "<matplotlib.axes._subplots.AxesSubplot at 0x7fd9f5a29198>"
            ]
          },
          "metadata": {
            "tags": []
          },
          "execution_count": 216
        },
        {
          "output_type": "display_data",
          "data": {
            "image/png": "[encoded data removed]",
            "text/plain": [
              "<Figure size 432x288 with 1 Axes>"
            ]
          },
          "metadata": {
            "tags": [],
            "needs_background": "light"
          }
        }
      ]
    },
    {
      "cell_type": "code",
      "metadata": {
        "id": "Jpw9DNF3jb_X",
        "colab_type": "code",
        "colab": {
          "base_uri": "https://localhost:8080/",
          "height": 35
        },
        "outputId": "57a10b33-9788-4807-e65b-5c1898792479"
      },
      "source": [
        "continuas.append('Aumento de salario%')\n",
        "colunas_faltantes.pop(0)"
      ],
      "execution_count": 217,
      "outputs": [
        {
          "output_type": "execute_result",
          "data": {
            "application/vnd.google.colaboratory.intrinsic+json": {
              "type": "string"
            },
            "text/plain": [
              "'Aumento de salario%'"
            ]
          },
          "metadata": {
            "tags": []
          },
          "execution_count": 217
        }
      ]
    },
    {
      "cell_type": "code",
      "metadata": {
        "id": "QekwGxyGjk62",
        "colab_type": "code",
        "colab": {
          "base_uri": "https://localhost:8080/",
          "height": 204
        },
        "outputId": "f362d6d6-47e2-4f63-be1a-740ad167a288"
      },
      "source": [
        "colunas_faltantes"
      ],
      "execution_count": 218,
      "outputs": [
        {
          "output_type": "execute_result",
          "data": {
            "text/plain": [
              "['Performance na entrevista',\n",
              " 'Satisfação com a relação',\n",
              " 'Horas de trabalho padrão',\n",
              " 'Beneficios',\n",
              " 'Anos de experiencia',\n",
              " 'Horas de treinamento ultimo ano',\n",
              " 'Estilo de vida',\n",
              " 'Anos na última empresa',\n",
              " 'Anos na posição atual',\n",
              " 'Anos desde última promoção',\n",
              " 'Anos com a mesma gerência']"
            ]
          },
          "metadata": {
            "tags": []
          },
          "execution_count": 218
        }
      ]
    },
    {
      "cell_type": "code",
      "metadata": {
        "id": "WxDrYk_ijnD-",
        "colab_type": "code",
        "colab": {
          "base_uri": "https://localhost:8080/",
          "height": 34
        },
        "outputId": "5c468776-5828-4862-afef-fca9d23b5eb8"
      },
      "source": [
        "algar['Performance na entrevista'].unique()"
      ],
      "execution_count": 220,
      "outputs": [
        {
          "output_type": "execute_result",
          "data": {
            "text/plain": [
              "array([4, 3])"
            ]
          },
          "metadata": {
            "tags": []
          },
          "execution_count": 220
        }
      ]
    },
    {
      "cell_type": "code",
      "metadata": {
        "id": "iWcKoV0zjya3",
        "colab_type": "code",
        "colab": {
          "base_uri": "https://localhost:8080/",
          "height": 35
        },
        "outputId": "75b6914f-b72b-4497-e6da-8aef5fdfb474"
      },
      "source": [
        "ordinais.append('Performance na entrevista')\n",
        "colunas_faltantes.pop(0)"
      ],
      "execution_count": 222,
      "outputs": [
        {
          "output_type": "execute_result",
          "data": {
            "application/vnd.google.colaboratory.intrinsic+json": {
              "type": "string"
            },
            "text/plain": [
              "'Performance na entrevista'"
            ]
          },
          "metadata": {
            "tags": []
          },
          "execution_count": 222
        }
      ]
    },
    {
      "cell_type": "code",
      "metadata": {
        "id": "zf2003zvkCwu",
        "colab_type": "code",
        "colab": {
          "base_uri": "https://localhost:8080/",
          "height": 35
        },
        "outputId": "1412cf97-fdef-4353-fcab-1f6cc774dca7"
      },
      "source": [
        "ordinais.append('Satisfação com a relação')\n",
        "colunas_faltantes.pop(0)"
      ],
      "execution_count": 226,
      "outputs": [
        {
          "output_type": "execute_result",
          "data": {
            "application/vnd.google.colaboratory.intrinsic+json": {
              "type": "string"
            },
            "text/plain": [
              "'Satisfação com a relação'"
            ]
          },
          "metadata": {
            "tags": []
          },
          "execution_count": 226
        }
      ]
    },
    {
      "cell_type": "code",
      "metadata": {
        "id": "RAijZkYgkJA_",
        "colab_type": "code",
        "colab": {
          "base_uri": "https://localhost:8080/",
          "height": 170
        },
        "outputId": "e18ba70b-fa9a-40a1-c883-fd176b52b916"
      },
      "source": [
        "colunas_faltantes"
      ],
      "execution_count": 227,
      "outputs": [
        {
          "output_type": "execute_result",
          "data": {
            "text/plain": [
              "['Horas de trabalho padrão',\n",
              " 'Beneficios',\n",
              " 'Anos de experiencia',\n",
              " 'Horas de treinamento ultimo ano',\n",
              " 'Estilo de vida',\n",
              " 'Anos na última empresa',\n",
              " 'Anos na posição atual',\n",
              " 'Anos desde última promoção',\n",
              " 'Anos com a mesma gerência']"
            ]
          },
          "metadata": {
            "tags": []
          },
          "execution_count": 227
        }
      ]
    },
    {
      "cell_type": "code",
      "metadata": {
        "id": "g8O3fj7dkYc9",
        "colab_type": "code",
        "colab": {
          "base_uri": "https://localhost:8080/",
          "height": 34
        },
        "outputId": "afa95d9d-1ac9-4b4a-fd87-db6b534cac9a"
      },
      "source": [
        "algar['Estilo de vida'].unique()"
      ],
      "execution_count": 228,
      "outputs": [
        {
          "output_type": "execute_result",
          "data": {
            "text/plain": [
              "array([3, 2, 4, 1])"
            ]
          },
          "metadata": {
            "tags": []
          },
          "execution_count": 228
        }
      ]
    },
    {
      "cell_type": "code",
      "metadata": {
        "id": "xC1B9gT0kf6N",
        "colab_type": "code",
        "colab": {
          "base_uri": "https://localhost:8080/",
          "height": 35
        },
        "outputId": "a0f6dde2-7e9e-4548-a2ed-bba9633cb646"
      },
      "source": [
        "categoricas.append('Estilo de vida')\n",
        "colunas_faltantes.pop(4)"
      ],
      "execution_count": 229,
      "outputs": [
        {
          "output_type": "execute_result",
          "data": {
            "application/vnd.google.colaboratory.intrinsic+json": {
              "type": "string"
            },
            "text/plain": [
              "'Estilo de vida'"
            ]
          },
          "metadata": {
            "tags": []
          },
          "execution_count": 229
        }
      ]
    },
    {
      "cell_type": "code",
      "metadata": {
        "id": "dzIXxZ3Zkud9",
        "colab_type": "code",
        "colab": {
          "base_uri": "https://localhost:8080/",
          "height": 153
        },
        "outputId": "5eaf83b7-54d2-4126-85dd-35e4bce6016c"
      },
      "source": [
        "colunas_faltantes"
      ],
      "execution_count": 230,
      "outputs": [
        {
          "output_type": "execute_result",
          "data": {
            "text/plain": [
              "['Horas de trabalho padrão',\n",
              " 'Beneficios',\n",
              " 'Anos de experiencia',\n",
              " 'Horas de treinamento ultimo ano',\n",
              " 'Anos na última empresa',\n",
              " 'Anos na posição atual',\n",
              " 'Anos desde última promoção',\n",
              " 'Anos com a mesma gerência']"
            ]
          },
          "metadata": {
            "tags": []
          },
          "execution_count": 230
        }
      ]
    },
    {
      "cell_type": "code",
      "metadata": {
        "id": "HpxTTXW9kvyM",
        "colab_type": "code",
        "colab": {
          "base_uri": "https://localhost:8080/",
          "height": 34
        },
        "outputId": "1f43c4c6-fe2f-4bd0-b1aa-6cfff39e0d1b"
      },
      "source": [
        "algar['Horas de trabalho padrão'].unique()"
      ],
      "execution_count": 232,
      "outputs": [
        {
          "output_type": "execute_result",
          "data": {
            "text/plain": [
              "array([80])"
            ]
          },
          "metadata": {
            "tags": []
          },
          "execution_count": 232
        }
      ]
    },
    {
      "cell_type": "code",
      "metadata": {
        "id": "4u1_SjP3lAck",
        "colab_type": "code",
        "colab": {
          "base_uri": "https://localhost:8080/",
          "height": 34
        },
        "outputId": "e43fafbe-11be-4f93-a366-3ca1ead0af17"
      },
      "source": [
        "algar['Beneficios'].unique()"
      ],
      "execution_count": 234,
      "outputs": [
        {
          "output_type": "execute_result",
          "data": {
            "text/plain": [
              "array([1, 0, 3, 2])"
            ]
          },
          "metadata": {
            "tags": []
          },
          "execution_count": 234
        }
      ]
    },
    {
      "cell_type": "code",
      "metadata": {
        "id": "pNu2mX0dlJ5k",
        "colab_type": "code",
        "colab": {
          "base_uri": "https://localhost:8080/",
          "height": 35
        },
        "outputId": "a7c67086-8db0-478f-c485-4a2292ac59c1"
      },
      "source": [
        "categoricas.append('Beneficios')\n",
        "continuas.append('Horas de trabalho padrão')\n",
        "colunas_faltantes.pop(0)"
      ],
      "execution_count": 235,
      "outputs": [
        {
          "output_type": "execute_result",
          "data": {
            "application/vnd.google.colaboratory.intrinsic+json": {
              "type": "string"
            },
            "text/plain": [
              "'Horas de trabalho padrão'"
            ]
          },
          "metadata": {
            "tags": []
          },
          "execution_count": 235
        }
      ]
    },
    {
      "cell_type": "code",
      "metadata": {
        "id": "oenihTI8lZgb",
        "colab_type": "code",
        "colab": {
          "base_uri": "https://localhost:8080/",
          "height": 35
        },
        "outputId": "f3251496-01f4-4e27-b0f8-344ad4adcef8"
      },
      "source": [
        "colunas_faltantes.pop(0)"
      ],
      "execution_count": 236,
      "outputs": [
        {
          "output_type": "execute_result",
          "data": {
            "application/vnd.google.colaboratory.intrinsic+json": {
              "type": "string"
            },
            "text/plain": [
              "'Beneficios'"
            ]
          },
          "metadata": {
            "tags": []
          },
          "execution_count": 236
        }
      ]
    },
    {
      "cell_type": "code",
      "metadata": {
        "id": "xNF418oLlbhc",
        "colab_type": "code",
        "colab": {
          "base_uri": "https://localhost:8080/",
          "height": 34
        },
        "outputId": "0e8f7fe9-da8b-4e9b-a1c4-e3d864abad3b"
      },
      "source": [
        "algar['Horas de treinamento ultimo ano'].unique()"
      ],
      "execution_count": 238,
      "outputs": [
        {
          "output_type": "execute_result",
          "data": {
            "text/plain": [
              "array([3, 2, 5, 1, 4, 6, 0])"
            ]
          },
          "metadata": {
            "tags": []
          },
          "execution_count": 238
        }
      ]
    },
    {
      "cell_type": "code",
      "metadata": {
        "id": "Qv8jYKhLlies",
        "colab_type": "code",
        "colab": {}
      },
      "source": [
        "continuas = continuas + colunas_faltantes"
      ],
      "execution_count": 239,
      "outputs": []
    },
    {
      "cell_type": "code",
      "metadata": {
        "id": "sbHSQhlXl-yC",
        "colab_type": "code",
        "colab": {
          "base_uri": "https://localhost:8080/",
          "height": 323
        },
        "outputId": "9a34dc4f-d8c6-4f88-9904-b74031bae55c"
      },
      "source": [
        "continuas"
      ],
      "execution_count": 240,
      "outputs": [
        {
          "output_type": "execute_result",
          "data": {
            "text/plain": [
              "['Distancia casa-trabalho',\n",
              " 'Idade',\n",
              " 'Pontuação teste',\n",
              " 'Subordinado',\n",
              " 'Subordinado',\n",
              " 'Subordinado',\n",
              " 'Horas voluntariado',\n",
              " 'Renda',\n",
              " 'Bonus de performance',\n",
              " 'Quantidade de empresas que trabalho',\n",
              " 'Aumento de salario%',\n",
              " 'Horas de trabalho padrão',\n",
              " 'Anos de experiencia',\n",
              " 'Horas de treinamento ultimo ano',\n",
              " 'Anos na última empresa',\n",
              " 'Anos na posição atual',\n",
              " 'Anos desde última promoção',\n",
              " 'Anos com a mesma gerência']"
            ]
          },
          "metadata": {
            "tags": []
          },
          "execution_count": 240
        }
      ]
    },
    {
      "cell_type": "code",
      "metadata": {
        "id": "MRN5ZopSmAMm",
        "colab_type": "code",
        "colab": {}
      },
      "source": [
        "continuas = set(continuas)"
      ],
      "execution_count": 241,
      "outputs": []
    },
    {
      "cell_type": "code",
      "metadata": {
        "id": "HY7iNJwdmGAy",
        "colab_type": "code",
        "colab": {
          "base_uri": "https://localhost:8080/",
          "height": 289
        },
        "outputId": "ca0d9afa-1f1f-41ef-9bda-270987bbeaa3"
      },
      "source": [
        "continuas"
      ],
      "execution_count": 242,
      "outputs": [
        {
          "output_type": "execute_result",
          "data": {
            "text/plain": [
              "{'Anos com a mesma gerência',\n",
              " 'Anos de experiencia',\n",
              " 'Anos desde última promoção',\n",
              " 'Anos na posição atual',\n",
              " 'Anos na última empresa',\n",
              " 'Aumento de salario%',\n",
              " 'Bonus de performance',\n",
              " 'Distancia casa-trabalho',\n",
              " 'Horas de trabalho padrão',\n",
              " 'Horas de treinamento ultimo ano',\n",
              " 'Horas voluntariado',\n",
              " 'Idade',\n",
              " 'Pontuação teste',\n",
              " 'Quantidade de empresas que trabalho',\n",
              " 'Renda',\n",
              " 'Subordinado'}"
            ]
          },
          "metadata": {
            "tags": []
          },
          "execution_count": 242
        }
      ]
    },
    {
      "cell_type": "code",
      "metadata": {
        "id": "5SEF7UgCmG8p",
        "colab_type": "code",
        "colab": {}
      },
      "source": [
        "ordinais = set(ordinais)"
      ],
      "execution_count": 245,
      "outputs": []
    },
    {
      "cell_type": "code",
      "metadata": {
        "id": "yAJmdQRjmRgS",
        "colab_type": "code",
        "colab": {}
      },
      "source": [
        "flag = set(flag)"
      ],
      "execution_count": 247,
      "outputs": []
    },
    {
      "cell_type": "code",
      "metadata": {
        "id": "uFqlIxBcmSqx",
        "colab_type": "code",
        "colab": {
          "base_uri": "https://localhost:8080/",
          "height": 35
        },
        "outputId": "089e3a37-f58e-4e53-d76c-ce0b1c3957ed"
      },
      "source": [
        "nominais.pop(1)"
      ],
      "execution_count": 251,
      "outputs": [
        {
          "output_type": "execute_result",
          "data": {
            "application/vnd.google.colaboratory.intrinsic+json": {
              "type": "string"
            },
            "text/plain": [
              "'Departamento'"
            ]
          },
          "metadata": {
            "tags": []
          },
          "execution_count": 251
        }
      ]
    },
    {
      "cell_type": "code",
      "metadata": {
        "id": "vx_5Z8R8mgaK",
        "colab_type": "code",
        "colab": {
          "base_uri": "https://localhost:8080/",
          "height": 238
        },
        "outputId": "616e3068-aacf-4bc2-b48a-be6fda406cd2"
      },
      "source": [
        "algar.columns"
      ],
      "execution_count": 250,
      "outputs": [
        {
          "output_type": "execute_result",
          "data": {
            "text/plain": [
              "Index(['Idade', 'Local de trabalho', 'Pontuação teste', 'Departmento',\n",
              "       'Distancia casa-trabalho', 'Educacao', 'Area', 'Possui carro',\n",
              "       'Subordinado', 'Satisfação com o ambiente no emprego atual', 'Genero',\n",
              "       'Horas voluntariado', 'Envolvimento com trabalho', 'Posicao', 'Cargo',\n",
              "       'Satisfação com emprego', 'Estado civil', 'Renda',\n",
              "       'Bonus de performance', 'Quantidade de empresas que trabalho',\n",
              "       'Maior de idade', 'Necessita de hora extra', 'Aumento de salario%',\n",
              "       'Performance na entrevista', 'Satisfação com a relação',\n",
              "       'Horas de trabalho padrão', 'Beneficios', 'Anos de experiencia',\n",
              "       'Horas de treinamento ultimo ano', 'Estilo de vida',\n",
              "       'Anos na última empresa', 'Anos na posição atual',\n",
              "       'Anos desde última promoção', 'Anos com a mesma gerência', 'Contratar'],\n",
              "      dtype='object')"
            ]
          },
          "metadata": {
            "tags": []
          },
          "execution_count": 250
        }
      ]
    },
    {
      "cell_type": "code",
      "metadata": {
        "id": "_CQbFa-0mkaC",
        "colab_type": "code",
        "colab": {}
      },
      "source": [
        "nominais.append('Departmento')"
      ],
      "execution_count": 252,
      "outputs": []
    },
    {
      "cell_type": "code",
      "metadata": {
        "id": "xiw-tq8dm06C",
        "colab_type": "code",
        "colab": {
          "base_uri": "https://localhost:8080/",
          "height": 419
        },
        "outputId": "2b913e9d-d30c-40fb-ad9b-c795948f86e9"
      },
      "source": [
        "algar[nominais]"
      ],
      "execution_count": 253,
      "outputs": [
        {
          "output_type": "execute_result",
          "data": {
            "text/html": [
              "<div>\n",
              "<style scoped>\n",
              "    .dataframe tbody tr th:only-of-type {\n",
              "        vertical-align: middle;\n",
              "    }\n",
              "\n",
              "    .dataframe tbody tr th {\n",
              "        vertical-align: top;\n",
              "    }\n",
              "\n",
              "    .dataframe thead th {\n",
              "        text-align: right;\n",
              "    }\n",
              "</style>\n",
              "<table border=\"1\" class=\"dataframe\">\n",
              "  <thead>\n",
              "    <tr style=\"text-align: right;\">\n",
              "      <th></th>\n",
              "      <th>Local de trabalho</th>\n",
              "      <th>Area</th>\n",
              "      <th>Genero</th>\n",
              "      <th>Cargo</th>\n",
              "      <th>Estado civil</th>\n",
              "      <th>Departmento</th>\n",
              "    </tr>\n",
              "  </thead>\n",
              "  <tbody>\n",
              "    <tr>\n",
              "      <th>0</th>\n",
              "      <td>Cliente</td>\n",
              "      <td>Ciências das natureza</td>\n",
              "      <td>M</td>\n",
              "      <td>Engenheiro</td>\n",
              "      <td>Casado</td>\n",
              "      <td>Engenharia</td>\n",
              "    </tr>\n",
              "    <tr>\n",
              "      <th>1</th>\n",
              "      <td>Misto</td>\n",
              "      <td>Ciências das natureza</td>\n",
              "      <td>F</td>\n",
              "      <td>Engenheiro</td>\n",
              "      <td>Casado</td>\n",
              "      <td>Engenharia</td>\n",
              "    </tr>\n",
              "    <tr>\n",
              "      <th>2</th>\n",
              "      <td>Cliente</td>\n",
              "      <td>Medicina</td>\n",
              "      <td>M</td>\n",
              "      <td>Tecnico</td>\n",
              "      <td>Casado</td>\n",
              "      <td>Engenharia</td>\n",
              "    </tr>\n",
              "    <tr>\n",
              "      <th>3</th>\n",
              "      <td>Misto</td>\n",
              "      <td>Ciências das natureza</td>\n",
              "      <td>M</td>\n",
              "      <td>Tecnico</td>\n",
              "      <td>Solteiro</td>\n",
              "      <td>Engenharia</td>\n",
              "    </tr>\n",
              "    <tr>\n",
              "      <th>4</th>\n",
              "      <td>Misto</td>\n",
              "      <td>Medicina</td>\n",
              "      <td>F</td>\n",
              "      <td>Tecnico</td>\n",
              "      <td>Casado</td>\n",
              "      <td>Engenharia</td>\n",
              "    </tr>\n",
              "    <tr>\n",
              "      <th>...</th>\n",
              "      <td>...</td>\n",
              "      <td>...</td>\n",
              "      <td>...</td>\n",
              "      <td>...</td>\n",
              "      <td>...</td>\n",
              "      <td>...</td>\n",
              "    </tr>\n",
              "    <tr>\n",
              "      <th>1365</th>\n",
              "      <td>Misto</td>\n",
              "      <td>Marketing</td>\n",
              "      <td>M</td>\n",
              "      <td>Vendedor junior</td>\n",
              "      <td>Casado</td>\n",
              "      <td>Vendas</td>\n",
              "    </tr>\n",
              "    <tr>\n",
              "      <th>1366</th>\n",
              "      <td>Misto</td>\n",
              "      <td>Medicina</td>\n",
              "      <td>M</td>\n",
              "      <td>Engenheiro</td>\n",
              "      <td>Casado</td>\n",
              "      <td>Engenharia</td>\n",
              "    </tr>\n",
              "    <tr>\n",
              "      <th>1367</th>\n",
              "      <td>Cliente</td>\n",
              "      <td>Faculdade Técnica</td>\n",
              "      <td>M</td>\n",
              "      <td>Tecnico</td>\n",
              "      <td>Casado</td>\n",
              "      <td>Engenharia</td>\n",
              "    </tr>\n",
              "    <tr>\n",
              "      <th>1368</th>\n",
              "      <td>Misto</td>\n",
              "      <td>Ciências das natureza</td>\n",
              "      <td>M</td>\n",
              "      <td>Vendedo senior</td>\n",
              "      <td>Divorciado</td>\n",
              "      <td>Vendas</td>\n",
              "    </tr>\n",
              "    <tr>\n",
              "      <th>1369</th>\n",
              "      <td>Cliente</td>\n",
              "      <td>Marketing</td>\n",
              "      <td>M</td>\n",
              "      <td>Vendedo senior</td>\n",
              "      <td>Divorciado</td>\n",
              "      <td>Vendas</td>\n",
              "    </tr>\n",
              "  </tbody>\n",
              "</table>\n",
              "<p>1370 rows × 6 columns</p>\n",
              "</div>"
            ],
            "text/plain": [
              "     Local de trabalho                   Area  ... Estado civil Departmento\n",
              "0              Cliente  Ciências das natureza  ...       Casado  Engenharia\n",
              "1                Misto  Ciências das natureza  ...       Casado  Engenharia\n",
              "2              Cliente               Medicina  ...       Casado  Engenharia\n",
              "3                Misto  Ciências das natureza  ...     Solteiro  Engenharia\n",
              "4                Misto               Medicina  ...       Casado  Engenharia\n",
              "...                ...                    ...  ...          ...         ...\n",
              "1365             Misto              Marketing  ...       Casado      Vendas\n",
              "1366             Misto               Medicina  ...       Casado  Engenharia\n",
              "1367           Cliente      Faculdade Técnica  ...       Casado  Engenharia\n",
              "1368             Misto  Ciências das natureza  ...   Divorciado      Vendas\n",
              "1369           Cliente              Marketing  ...   Divorciado      Vendas\n",
              "\n",
              "[1370 rows x 6 columns]"
            ]
          },
          "metadata": {
            "tags": []
          },
          "execution_count": 253
        }
      ]
    },
    {
      "cell_type": "code",
      "metadata": {
        "id": "k1X55ezUm21x",
        "colab_type": "code",
        "colab": {
          "base_uri": "https://localhost:8080/",
          "height": 173
        },
        "outputId": "5874102e-24dc-4e80-e096-f424b4aa43f2"
      },
      "source": [
        "pd.crosstab(algar.Departmento, algar.Genero)"
      ],
      "execution_count": 254,
      "outputs": [
        {
          "output_type": "execute_result",
          "data": {
            "text/html": [
              "<div>\n",
              "<style scoped>\n",
              "    .dataframe tbody tr th:only-of-type {\n",
              "        vertical-align: middle;\n",
              "    }\n",
              "\n",
              "    .dataframe tbody tr th {\n",
              "        vertical-align: top;\n",
              "    }\n",
              "\n",
              "    .dataframe thead th {\n",
              "        text-align: right;\n",
              "    }\n",
              "</style>\n",
              "<table border=\"1\" class=\"dataframe\">\n",
              "  <thead>\n",
              "    <tr style=\"text-align: right;\">\n",
              "      <th>Genero</th>\n",
              "      <th>F</th>\n",
              "      <th>M</th>\n",
              "    </tr>\n",
              "    <tr>\n",
              "      <th>Departmento</th>\n",
              "      <th></th>\n",
              "      <th></th>\n",
              "    </tr>\n",
              "  </thead>\n",
              "  <tbody>\n",
              "    <tr>\n",
              "      <th>Engenharia</th>\n",
              "      <td>361</td>\n",
              "      <td>535</td>\n",
              "    </tr>\n",
              "    <tr>\n",
              "      <th>RH</th>\n",
              "      <td>18</td>\n",
              "      <td>42</td>\n",
              "    </tr>\n",
              "    <tr>\n",
              "      <th>Vendas</th>\n",
              "      <td>173</td>\n",
              "      <td>241</td>\n",
              "    </tr>\n",
              "  </tbody>\n",
              "</table>\n",
              "</div>"
            ],
            "text/plain": [
              "Genero         F    M\n",
              "Departmento          \n",
              "Engenharia   361  535\n",
              "RH            18   42\n",
              "Vendas       173  241"
            ]
          },
          "metadata": {
            "tags": []
          },
          "execution_count": 254
        }
      ]
    },
    {
      "cell_type": "code",
      "metadata": {
        "id": "3oAu7TcjnAdA",
        "colab_type": "code",
        "colab": {
          "base_uri": "https://localhost:8080/",
          "height": 266
        },
        "outputId": "a53c2ac2-a1c2-4ca2-f6b2-38ad12a9173f"
      },
      "source": [
        "pd.crosstab(algar.Area, algar.Genero, values=algar['Renda'], aggfunc='mean')"
      ],
      "execution_count": 256,
      "outputs": [
        {
          "output_type": "execute_result",
          "data": {
            "text/html": [
              "<div>\n",
              "<style scoped>\n",
              "    .dataframe tbody tr th:only-of-type {\n",
              "        vertical-align: middle;\n",
              "    }\n",
              "\n",
              "    .dataframe tbody tr th {\n",
              "        vertical-align: top;\n",
              "    }\n",
              "\n",
              "    .dataframe thead th {\n",
              "        text-align: right;\n",
              "    }\n",
              "</style>\n",
              "<table border=\"1\" class=\"dataframe\">\n",
              "  <thead>\n",
              "    <tr style=\"text-align: right;\">\n",
              "      <th>Genero</th>\n",
              "      <th>F</th>\n",
              "      <th>M</th>\n",
              "    </tr>\n",
              "    <tr>\n",
              "      <th>Area</th>\n",
              "      <th></th>\n",
              "      <th></th>\n",
              "    </tr>\n",
              "  </thead>\n",
              "  <tbody>\n",
              "    <tr>\n",
              "      <th>Ciências das natureza</th>\n",
              "      <td>6467.163717</td>\n",
              "      <td>6542.979228</td>\n",
              "    </tr>\n",
              "    <tr>\n",
              "      <th>Ciências humanas</th>\n",
              "      <td>10621.857143</td>\n",
              "      <td>6494.333333</td>\n",
              "    </tr>\n",
              "    <tr>\n",
              "      <th>Faculdade Técnica</th>\n",
              "      <td>7084.938776</td>\n",
              "      <td>4978.723684</td>\n",
              "    </tr>\n",
              "    <tr>\n",
              "      <th>Marketing</th>\n",
              "      <td>7613.639344</td>\n",
              "      <td>7319.953488</td>\n",
              "    </tr>\n",
              "    <tr>\n",
              "      <th>Medicina</th>\n",
              "      <td>6488.098901</td>\n",
              "      <td>6639.964143</td>\n",
              "    </tr>\n",
              "    <tr>\n",
              "      <th>Outros</th>\n",
              "      <td>6275.777778</td>\n",
              "      <td>6209.120000</td>\n",
              "    </tr>\n",
              "  </tbody>\n",
              "</table>\n",
              "</div>"
            ],
            "text/plain": [
              "Genero                            F            M\n",
              "Area                                            \n",
              "Ciências das natureza   6467.163717  6542.979228\n",
              "Ciências humanas       10621.857143  6494.333333\n",
              "Faculdade Técnica       7084.938776  4978.723684\n",
              "Marketing               7613.639344  7319.953488\n",
              "Medicina                6488.098901  6639.964143\n",
              "Outros                  6275.777778  6209.120000"
            ]
          },
          "metadata": {
            "tags": []
          },
          "execution_count": 256
        }
      ]
    },
    {
      "cell_type": "code",
      "metadata": {
        "id": "6jmh5RwnnRXI",
        "colab_type": "code",
        "colab": {
          "base_uri": "https://localhost:8080/",
          "height": 497
        },
        "outputId": "2d60b857-7fb8-4479-ec16-80d0b8912ba4"
      },
      "source": [
        "plt.figure(figsize=(15,8))\n",
        "sns.boxplot(algar['Renda'], algar['Genero']);"
      ],
      "execution_count": 258,
      "outputs": [
        {
          "output_type": "display_data",
          "data": {
            "image/png": "[encoded data removed]",
            "text/plain": [
              "<Figure size 1080x576 with 1 Axes>"
            ]
          },
          "metadata": {
            "tags": [],
            "needs_background": "light"
          }
        }
      ]
    },
    {
      "cell_type": "code",
      "metadata": {
        "id": "9W8Us0NcnzdP",
        "colab_type": "code",
        "colab": {
          "base_uri": "https://localhost:8080/",
          "height": 105
        },
        "outputId": "c46d2f6c-74cc-487f-de0d-091c4189a083"
      },
      "source": [
        "print(nominais)\n",
        "print(ordinais)\n",
        "print(flag)\n",
        "print(continuas)"
      ],
      "execution_count": 259,
      "outputs": [
        {
          "output_type": "stream",
          "text": [
            "['Local de trabalho', 'Area', 'Genero', 'Cargo', 'Estado civil', 'Departmento']\n",
            "{'Envolvimento com trabalho', 'Posicao', 'Satisfação com emprego', 'Satisfação com a relação', 'Satisfação com o ambiente no emprego atual', 'Performance na entrevista'}\n",
            "{'Maior de idade', 'Possui carro', 'Necessita de hora extra', 'Contratar'}\n",
            "{'Horas de trabalho padrão', 'Horas voluntariado', 'Aumento de salario%', 'Pontuação teste', 'Bonus de performance', 'Quantidade de empresas que trabalho', 'Anos de experiencia', 'Horas de treinamento ultimo ano', 'Renda', 'Idade', 'Anos desde última promoção', 'Anos com a mesma gerência', 'Anos na última empresa', 'Distancia casa-trabalho', 'Subordinado', 'Anos na posição atual'}\n"
          ],
          "name": "stdout"
        }
      ]
    },
    {
      "cell_type": "code",
      "metadata": {
        "id": "XiShZzvOopqE",
        "colab_type": "code",
        "colab": {
          "base_uri": "https://localhost:8080/",
          "height": 173
        },
        "outputId": "ff576bd8-173d-464f-ada7-3869fd95ba25"
      },
      "source": [
        "pd.crosstab(nao_contratados['Estado civil'], nao_contratados.Genero)"
      ],
      "execution_count": 272,
      "outputs": [
        {
          "output_type": "execute_result",
          "data": {
            "text/html": [
              "<div>\n",
              "<style scoped>\n",
              "    .dataframe tbody tr th:only-of-type {\n",
              "        vertical-align: middle;\n",
              "    }\n",
              "\n",
              "    .dataframe tbody tr th {\n",
              "        vertical-align: top;\n",
              "    }\n",
              "\n",
              "    .dataframe thead th {\n",
              "        text-align: right;\n",
              "    }\n",
              "</style>\n",
              "<table border=\"1\" class=\"dataframe\">\n",
              "  <thead>\n",
              "    <tr style=\"text-align: right;\">\n",
              "      <th>Genero</th>\n",
              "      <th>F</th>\n",
              "      <th>M</th>\n",
              "    </tr>\n",
              "    <tr>\n",
              "      <th>Estado civil</th>\n",
              "      <th></th>\n",
              "      <th></th>\n",
              "    </tr>\n",
              "  </thead>\n",
              "  <tbody>\n",
              "    <tr>\n",
              "      <th>Casado</th>\n",
              "      <td>226</td>\n",
              "      <td>332</td>\n",
              "    </tr>\n",
              "    <tr>\n",
              "      <th>Divorciado</th>\n",
              "      <td>106</td>\n",
              "      <td>179</td>\n",
              "    </tr>\n",
              "    <tr>\n",
              "      <th>Solteiro</th>\n",
              "      <td>147</td>\n",
              "      <td>188</td>\n",
              "    </tr>\n",
              "  </tbody>\n",
              "</table>\n",
              "</div>"
            ],
            "text/plain": [
              "Genero          F    M\n",
              "Estado civil          \n",
              "Casado        226  332\n",
              "Divorciado    106  179\n",
              "Solteiro      147  188"
            ]
          },
          "metadata": {
            "tags": []
          },
          "execution_count": 272
        }
      ]
    },
    {
      "cell_type": "code",
      "metadata": {
        "id": "B9cZ5cP_o7cl",
        "colab_type": "code",
        "colab": {
          "base_uri": "https://localhost:8080/",
          "height": 497
        },
        "outputId": "08c567c5-47f2-4093-ddf8-a981c0ff208e"
      },
      "source": [
        "plt.figure(figsize=(15,8))\n",
        "eixo1 = sns.distplot(contratados.Idade)\n",
        "eixo2 = sns.distplot(nao_contratados.Idade)\n",
        "eixo1.axvline(nao_contratados['Idade'].mean(), color= 'k', linestyle='--')\n",
        "eixo1.axvline(contratados['Idade'].mean(), color= 'r', linestyle='--');\n"
      ],
      "execution_count": 269,
      "outputs": [
        {
          "output_type": "display_data",
          "data": {
            "image/png": "[encoded data removed]",
            "text/plain": [
              "<Figure size 1080x576 with 1 Axes>"
            ]
          },
          "metadata": {
            "tags": [],
            "needs_background": "light"
          }
        }
      ]
    },
    {
      "cell_type": "code",
      "metadata": {
        "id": "VFhEjZx0pxyn",
        "colab_type": "code",
        "colab": {
          "base_uri": "https://localhost:8080/",
          "height": 497
        },
        "outputId": "bfd42556-9c42-449e-a513-bc600bbfbca1"
      },
      "source": [
        "plt.figure(figsize=(15,8))\n",
        "eixo1 = sns.distplot(contratados.Renda)\n",
        "eixo2 = sns.distplot(nao_contratados.Renda)\n",
        "eixo1.axvline(nao_contratados['Renda'].median(), color= 'k', linestyle='--')\n",
        "eixo1.axvline(contratados['Renda'].median(), color= 'r', linestyle='--');"
      ],
      "execution_count": 271,
      "outputs": [
        {
          "output_type": "display_data",
          "data": {
            "image/png": "[encoded data removed]",
            "text/plain": [
              "<Figure size 1080x576 with 1 Axes>"
            ]
          },
          "metadata": {
            "tags": [],
            "needs_background": "light"
          }
        }
      ]
    },
    {
      "cell_type": "code",
      "metadata": {
        "id": "ohNXxBlFq7s6",
        "colab_type": "code",
        "colab": {
          "base_uri": "https://localhost:8080/",
          "height": 173
        },
        "outputId": "aee5684c-6fb3-46af-adc6-77c556a22f15"
      },
      "source": [
        "pd.crosstab(contratados['Local de trabalho'], contratados.Genero)"
      ],
      "execution_count": 274,
      "outputs": [
        {
          "output_type": "execute_result",
          "data": {
            "text/html": [
              "<div>\n",
              "<style scoped>\n",
              "    .dataframe tbody tr th:only-of-type {\n",
              "        vertical-align: middle;\n",
              "    }\n",
              "\n",
              "    .dataframe tbody tr th {\n",
              "        vertical-align: top;\n",
              "    }\n",
              "\n",
              "    .dataframe thead th {\n",
              "        text-align: right;\n",
              "    }\n",
              "</style>\n",
              "<table border=\"1\" class=\"dataframe\">\n",
              "  <thead>\n",
              "    <tr style=\"text-align: right;\">\n",
              "      <th>Genero</th>\n",
              "      <th>F</th>\n",
              "      <th>M</th>\n",
              "    </tr>\n",
              "    <tr>\n",
              "      <th>Local de trabalho</th>\n",
              "      <th></th>\n",
              "      <th></th>\n",
              "    </tr>\n",
              "  </thead>\n",
              "  <tbody>\n",
              "    <tr>\n",
              "      <th>Cliente</th>\n",
              "      <td>23</td>\n",
              "      <td>38</td>\n",
              "    </tr>\n",
              "    <tr>\n",
              "      <th>Escritório</th>\n",
              "      <td>4</td>\n",
              "      <td>7</td>\n",
              "    </tr>\n",
              "    <tr>\n",
              "      <th>Misto</th>\n",
              "      <td>46</td>\n",
              "      <td>74</td>\n",
              "    </tr>\n",
              "  </tbody>\n",
              "</table>\n",
              "</div>"
            ],
            "text/plain": [
              "Genero              F   M\n",
              "Local de trabalho        \n",
              "Cliente            23  38\n",
              "Escritório          4   7\n",
              "Misto              46  74"
            ]
          },
          "metadata": {
            "tags": []
          },
          "execution_count": 274
        }
      ]
    },
    {
      "cell_type": "code",
      "metadata": {
        "id": "npoE6N-pr6Wi",
        "colab_type": "code",
        "colab": {
          "base_uri": "https://localhost:8080/",
          "height": 34
        },
        "outputId": "fe8a8f40-f0fd-47d4-fe01-add121f3d97d"
      },
      "source": [
        "type(ordinais)"
      ],
      "execution_count": 275,
      "outputs": [
        {
          "output_type": "execute_result",
          "data": {
            "text/plain": [
              "set"
            ]
          },
          "metadata": {
            "tags": []
          },
          "execution_count": 275
        }
      ]
    },
    {
      "cell_type": "code",
      "metadata": {
        "id": "W4LbZPNusOW1",
        "colab_type": "code",
        "colab": {}
      },
      "source": [
        "ordinais = list(ordinais)"
      ],
      "execution_count": 276,
      "outputs": []
    },
    {
      "cell_type": "code",
      "metadata": {
        "id": "RHKjoFmJsaHP",
        "colab_type": "code",
        "colab": {
          "base_uri": "https://localhost:8080/",
          "height": 34
        },
        "outputId": "9a813112-1e43-4850-bc7f-899a5a6a1b9c"
      },
      "source": [
        "type(ordinais)"
      ],
      "execution_count": 277,
      "outputs": [
        {
          "output_type": "execute_result",
          "data": {
            "text/plain": [
              "list"
            ]
          },
          "metadata": {
            "tags": []
          },
          "execution_count": 277
        }
      ]
    },
    {
      "cell_type": "code",
      "metadata": {
        "id": "5Dn1_uTOsepW",
        "colab_type": "code",
        "colab": {
          "base_uri": "https://localhost:8080/",
          "height": 419
        },
        "outputId": "06c2b8a0-1e61-4632-a713-aa53832319f4"
      },
      "source": [
        "algar[ordinais]"
      ],
      "execution_count": 278,
      "outputs": [
        {
          "output_type": "execute_result",
          "data": {
            "text/html": [
              "<div>\n",
              "<style scoped>\n",
              "    .dataframe tbody tr th:only-of-type {\n",
              "        vertical-align: middle;\n",
              "    }\n",
              "\n",
              "    .dataframe tbody tr th {\n",
              "        vertical-align: top;\n",
              "    }\n",
              "\n",
              "    .dataframe thead th {\n",
              "        text-align: right;\n",
              "    }\n",
              "</style>\n",
              "<table border=\"1\" class=\"dataframe\">\n",
              "  <thead>\n",
              "    <tr style=\"text-align: right;\">\n",
              "      <th></th>\n",
              "      <th>Envolvimento com trabalho</th>\n",
              "      <th>Posicao</th>\n",
              "      <th>Satisfação com emprego</th>\n",
              "      <th>Satisfação com a relação</th>\n",
              "      <th>Satisfação com o ambiente no emprego atual</th>\n",
              "      <th>Performance na entrevista</th>\n",
              "    </tr>\n",
              "  </thead>\n",
              "  <tbody>\n",
              "    <tr>\n",
              "      <th>0</th>\n",
              "      <td>2</td>\n",
              "      <td>2</td>\n",
              "      <td>2</td>\n",
              "      <td>4</td>\n",
              "      <td>3</td>\n",
              "      <td>4</td>\n",
              "    </tr>\n",
              "    <tr>\n",
              "      <th>1</th>\n",
              "      <td>3</td>\n",
              "      <td>1</td>\n",
              "      <td>3</td>\n",
              "      <td>3</td>\n",
              "      <td>4</td>\n",
              "      <td>3</td>\n",
              "    </tr>\n",
              "    <tr>\n",
              "      <th>2</th>\n",
              "      <td>3</td>\n",
              "      <td>1</td>\n",
              "      <td>2</td>\n",
              "      <td>4</td>\n",
              "      <td>1</td>\n",
              "      <td>3</td>\n",
              "    </tr>\n",
              "    <tr>\n",
              "      <th>3</th>\n",
              "      <td>3</td>\n",
              "      <td>1</td>\n",
              "      <td>4</td>\n",
              "      <td>3</td>\n",
              "      <td>4</td>\n",
              "      <td>3</td>\n",
              "    </tr>\n",
              "    <tr>\n",
              "      <th>4</th>\n",
              "      <td>4</td>\n",
              "      <td>1</td>\n",
              "      <td>1</td>\n",
              "      <td>1</td>\n",
              "      <td>3</td>\n",
              "      <td>4</td>\n",
              "    </tr>\n",
              "    <tr>\n",
              "      <th>...</th>\n",
              "      <td>...</td>\n",
              "      <td>...</td>\n",
              "      <td>...</td>\n",
              "      <td>...</td>\n",
              "      <td>...</td>\n",
              "      <td>...</td>\n",
              "    </tr>\n",
              "    <tr>\n",
              "      <th>1365</th>\n",
              "      <td>3</td>\n",
              "      <td>1</td>\n",
              "      <td>1</td>\n",
              "      <td>1</td>\n",
              "      <td>4</td>\n",
              "      <td>3</td>\n",
              "    </tr>\n",
              "    <tr>\n",
              "      <th>1366</th>\n",
              "      <td>3</td>\n",
              "      <td>1</td>\n",
              "      <td>4</td>\n",
              "      <td>2</td>\n",
              "      <td>1</td>\n",
              "      <td>3</td>\n",
              "    </tr>\n",
              "    <tr>\n",
              "      <th>1367</th>\n",
              "      <td>3</td>\n",
              "      <td>1</td>\n",
              "      <td>3</td>\n",
              "      <td>4</td>\n",
              "      <td>4</td>\n",
              "      <td>3</td>\n",
              "    </tr>\n",
              "    <tr>\n",
              "      <th>1368</th>\n",
              "      <td>3</td>\n",
              "      <td>2</td>\n",
              "      <td>3</td>\n",
              "      <td>4</td>\n",
              "      <td>2</td>\n",
              "      <td>3</td>\n",
              "    </tr>\n",
              "    <tr>\n",
              "      <th>1369</th>\n",
              "      <td>2</td>\n",
              "      <td>3</td>\n",
              "      <td>1</td>\n",
              "      <td>2</td>\n",
              "      <td>4</td>\n",
              "      <td>3</td>\n",
              "    </tr>\n",
              "  </tbody>\n",
              "</table>\n",
              "<p>1370 rows × 6 columns</p>\n",
              "</div>"
            ],
            "text/plain": [
              "      Envolvimento com trabalho  ...  Performance na entrevista\n",
              "0                             2  ...                          4\n",
              "1                             3  ...                          3\n",
              "2                             3  ...                          3\n",
              "3                             3  ...                          3\n",
              "4                             4  ...                          4\n",
              "...                         ...  ...                        ...\n",
              "1365                          3  ...                          3\n",
              "1366                          3  ...                          3\n",
              "1367                          3  ...                          3\n",
              "1368                          3  ...                          3\n",
              "1369                          2  ...                          3\n",
              "\n",
              "[1370 rows x 6 columns]"
            ]
          },
          "metadata": {
            "tags": []
          },
          "execution_count": 278
        }
      ]
    },
    {
      "cell_type": "code",
      "metadata": {
        "id": "gVPLMe7ushyv",
        "colab_type": "code",
        "colab": {}
      },
      "source": [
        "continuas = list(continuas)"
      ],
      "execution_count": 279,
      "outputs": []
    },
    {
      "cell_type": "code",
      "metadata": {
        "id": "BqJwcjrYs5Y2",
        "colab_type": "code",
        "colab": {}
      },
      "source": [
        "dados = algar[continuas]"
      ],
      "execution_count": 281,
      "outputs": []
    },
    {
      "cell_type": "code",
      "metadata": {
        "id": "4YjCHqK4s_8d",
        "colab_type": "code",
        "colab": {
          "base_uri": "https://localhost:8080/",
          "height": 828
        },
        "outputId": "ac1f00e3-02ff-472d-db19-7201fd00718e"
      },
      "source": [
        "criar_heatmap(dados.corr())"
      ],
      "execution_count": 282,
      "outputs": [
        {
          "output_type": "display_data",
          "data": {
            "image/png": "[encoded data removed]",
            "text/plain": [
              "<Figure size 1296x792 with 2 Axes>"
            ]
          },
          "metadata": {
            "tags": [],
            "needs_background": "light"
          }
        }
      ]
    },
    {
      "cell_type": "code",
      "metadata": {
        "id": "HAXafL5JtdUL",
        "colab_type": "code",
        "colab": {
          "base_uri": "https://localhost:8080/",
          "height": 85
        },
        "outputId": "29b9a841-fef2-4d01-ee46-d516721062cb"
      },
      "source": [
        "#comparando a Renda\n",
        "algar.groupby(by=[\"Contratar\"]).mean()['Renda']"
      ],
      "execution_count": 298,
      "outputs": [
        {
          "output_type": "execute_result",
          "data": {
            "text/plain": [
              "Contratar\n",
              "Não    6869.691851\n",
              "Sim    4750.921875\n",
              "Name: Renda, dtype: float64"
            ]
          },
          "metadata": {
            "tags": []
          },
          "execution_count": 298
        }
      ]
    },
    {
      "cell_type": "code",
      "metadata": {
        "id": "MEs0DXdmtjvm",
        "colab_type": "code",
        "colab": {
          "base_uri": "https://localhost:8080/",
          "height": 230
        },
        "outputId": "1c477599-1711-4f03-f577-ca77a22e2354"
      },
      "source": [
        "algar.groupby(by=[\"Contratar\"]).median()"
      ],
      "execution_count": 301,
      "outputs": [
        {
          "output_type": "execute_result",
          "data": {
            "text/html": [
              "<div>\n",
              "<style scoped>\n",
              "    .dataframe tbody tr th:only-of-type {\n",
              "        vertical-align: middle;\n",
              "    }\n",
              "\n",
              "    .dataframe tbody tr th {\n",
              "        vertical-align: top;\n",
              "    }\n",
              "\n",
              "    .dataframe thead th {\n",
              "        text-align: right;\n",
              "    }\n",
              "</style>\n",
              "<table border=\"1\" class=\"dataframe\">\n",
              "  <thead>\n",
              "    <tr style=\"text-align: right;\">\n",
              "      <th></th>\n",
              "      <th>Idade</th>\n",
              "      <th>Pontuação teste</th>\n",
              "      <th>Distancia casa-trabalho</th>\n",
              "      <th>Possui carro</th>\n",
              "      <th>Subordinado</th>\n",
              "      <th>Satisfação com o ambiente no emprego atual</th>\n",
              "      <th>Horas voluntariado</th>\n",
              "      <th>Envolvimento com trabalho</th>\n",
              "      <th>Posicao</th>\n",
              "      <th>Satisfação com emprego</th>\n",
              "      <th>Renda</th>\n",
              "      <th>Bonus de performance</th>\n",
              "      <th>Quantidade de empresas que trabalho</th>\n",
              "      <th>Maior de idade</th>\n",
              "      <th>Aumento de salario%</th>\n",
              "      <th>Performance na entrevista</th>\n",
              "      <th>Satisfação com a relação</th>\n",
              "      <th>Horas de trabalho padrão</th>\n",
              "      <th>Beneficios</th>\n",
              "      <th>Anos de experiencia</th>\n",
              "      <th>Horas de treinamento ultimo ano</th>\n",
              "      <th>Estilo de vida</th>\n",
              "      <th>Anos na última empresa</th>\n",
              "      <th>Anos na posição atual</th>\n",
              "      <th>Anos desde última promoção</th>\n",
              "      <th>Anos com a mesma gerência</th>\n",
              "    </tr>\n",
              "    <tr>\n",
              "      <th>Contratar</th>\n",
              "      <th></th>\n",
              "      <th></th>\n",
              "      <th></th>\n",
              "      <th></th>\n",
              "      <th></th>\n",
              "      <th></th>\n",
              "      <th></th>\n",
              "      <th></th>\n",
              "      <th></th>\n",
              "      <th></th>\n",
              "      <th></th>\n",
              "      <th></th>\n",
              "      <th></th>\n",
              "      <th></th>\n",
              "      <th></th>\n",
              "      <th></th>\n",
              "      <th></th>\n",
              "      <th></th>\n",
              "      <th></th>\n",
              "      <th></th>\n",
              "      <th></th>\n",
              "      <th></th>\n",
              "      <th></th>\n",
              "      <th></th>\n",
              "      <th></th>\n",
              "      <th></th>\n",
              "    </tr>\n",
              "  </thead>\n",
              "  <tbody>\n",
              "    <tr>\n",
              "      <th>Não</th>\n",
              "      <td>37.625637</td>\n",
              "      <td>816.495756</td>\n",
              "      <td>8.890492</td>\n",
              "      <td>1.0</td>\n",
              "      <td>981.062818</td>\n",
              "      <td>2.774194</td>\n",
              "      <td>65.868421</td>\n",
              "      <td>2.775042</td>\n",
              "      <td>2.154499</td>\n",
              "      <td>2.775042</td>\n",
              "      <td>6869.691851</td>\n",
              "      <td>14294.518676</td>\n",
              "      <td>2.663837</td>\n",
              "      <td>1.0</td>\n",
              "      <td>15.213073</td>\n",
              "      <td>3.152801</td>\n",
              "      <td>2.747029</td>\n",
              "      <td>80.0</td>\n",
              "      <td>0.842954</td>\n",
              "      <td>11.903226</td>\n",
              "      <td>2.832767</td>\n",
              "      <td>2.783531</td>\n",
              "      <td>7.348048</td>\n",
              "      <td>4.463497</td>\n",
              "      <td>2.245331</td>\n",
              "      <td>4.356537</td>\n",
              "    </tr>\n",
              "    <tr>\n",
              "      <th>Sim</th>\n",
              "      <td>33.380208</td>\n",
              "      <td>750.520833</td>\n",
              "      <td>10.421875</td>\n",
              "      <td>1.0</td>\n",
              "      <td>1203.786458</td>\n",
              "      <td>2.458333</td>\n",
              "      <td>65.432292</td>\n",
              "      <td>2.567708</td>\n",
              "      <td>1.635417</td>\n",
              "      <td>2.406250</td>\n",
              "      <td>4750.921875</td>\n",
              "      <td>14308.223958</td>\n",
              "      <td>2.947917</td>\n",
              "      <td>1.0</td>\n",
              "      <td>14.937500</td>\n",
              "      <td>3.135417</td>\n",
              "      <td>2.557292</td>\n",
              "      <td>80.0</td>\n",
              "      <td>0.567708</td>\n",
              "      <td>8.010417</td>\n",
              "      <td>2.604167</td>\n",
              "      <td>2.682292</td>\n",
              "      <td>5.088542</td>\n",
              "      <td>2.901042</td>\n",
              "      <td>1.968750</td>\n",
              "      <td>2.822917</td>\n",
              "    </tr>\n",
              "  </tbody>\n",
              "</table>\n",
              "</div>"
            ],
            "text/plain": [
              "               Idade  ...  Anos com a mesma gerência\n",
              "Contratar             ...                           \n",
              "Não        37.625637  ...                   4.356537\n",
              "Sim        33.380208  ...                   2.822917\n",
              "\n",
              "[2 rows x 26 columns]"
            ]
          },
          "metadata": {
            "tags": []
          },
          "execution_count": 301
        }
      ]
    },
    {
      "cell_type": "code",
      "metadata": {
        "id": "NJturIHCwTZY",
        "colab_type": "code",
        "colab": {}
      },
      "source": [
        "continuas.append('Contratar')"
      ],
      "execution_count": 302,
      "outputs": []
    },
    {
      "cell_type": "code",
      "metadata": {
        "id": "4fxH077Gwz3u",
        "colab_type": "code",
        "colab": {}
      },
      "source": [
        "dados = algar[continuas]"
      ],
      "execution_count": 304,
      "outputs": []
    },
    {
      "cell_type": "code",
      "metadata": {
        "id": "BT9dy5KYw2qu",
        "colab_type": "code",
        "colab": {
          "base_uri": "https://localhost:8080/",
          "height": 193
        },
        "outputId": "83892f76-b0ca-437e-ca15-d193d1ccf776"
      },
      "source": [
        "dados.groupby(by=[\"Contratar\"]).median()"
      ],
      "execution_count": 309,
      "outputs": [
        {
          "output_type": "execute_result",
          "data": {
            "text/html": [
              "<div>\n",
              "<style scoped>\n",
              "    .dataframe tbody tr th:only-of-type {\n",
              "        vertical-align: middle;\n",
              "    }\n",
              "\n",
              "    .dataframe tbody tr th {\n",
              "        vertical-align: top;\n",
              "    }\n",
              "\n",
              "    .dataframe thead th {\n",
              "        text-align: right;\n",
              "    }\n",
              "</style>\n",
              "<table border=\"1\" class=\"dataframe\">\n",
              "  <thead>\n",
              "    <tr style=\"text-align: right;\">\n",
              "      <th></th>\n",
              "      <th>Horas de trabalho padrão</th>\n",
              "      <th>Horas voluntariado</th>\n",
              "      <th>Aumento de salario%</th>\n",
              "      <th>Pontuação teste</th>\n",
              "      <th>Bonus de performance</th>\n",
              "      <th>Quantidade de empresas que trabalho</th>\n",
              "      <th>Anos de experiencia</th>\n",
              "      <th>Horas de treinamento ultimo ano</th>\n",
              "      <th>Renda</th>\n",
              "      <th>Idade</th>\n",
              "      <th>Anos desde última promoção</th>\n",
              "      <th>Anos com a mesma gerência</th>\n",
              "      <th>Anos na última empresa</th>\n",
              "      <th>Distancia casa-trabalho</th>\n",
              "      <th>Subordinado</th>\n",
              "      <th>Anos na posição atual</th>\n",
              "    </tr>\n",
              "    <tr>\n",
              "      <th>Contratar</th>\n",
              "      <th></th>\n",
              "      <th></th>\n",
              "      <th></th>\n",
              "      <th></th>\n",
              "      <th></th>\n",
              "      <th></th>\n",
              "      <th></th>\n",
              "      <th></th>\n",
              "      <th></th>\n",
              "      <th></th>\n",
              "      <th></th>\n",
              "      <th></th>\n",
              "      <th></th>\n",
              "      <th></th>\n",
              "      <th></th>\n",
              "      <th></th>\n",
              "    </tr>\n",
              "  </thead>\n",
              "  <tbody>\n",
              "    <tr>\n",
              "      <th>Não</th>\n",
              "      <td>80.0</td>\n",
              "      <td>66.0</td>\n",
              "      <td>14.0</td>\n",
              "      <td>822.0</td>\n",
              "      <td>14220.0</td>\n",
              "      <td>2.0</td>\n",
              "      <td>10.0</td>\n",
              "      <td>3.0</td>\n",
              "      <td>5207.5</td>\n",
              "      <td>36.0</td>\n",
              "      <td>1.0</td>\n",
              "      <td>3.0</td>\n",
              "      <td>5.5</td>\n",
              "      <td>7.0</td>\n",
              "      <td>978.5</td>\n",
              "      <td>3.0</td>\n",
              "    </tr>\n",
              "    <tr>\n",
              "      <th>Sim</th>\n",
              "      <td>80.0</td>\n",
              "      <td>65.5</td>\n",
              "      <td>14.0</td>\n",
              "      <td>698.0</td>\n",
              "      <td>14318.5</td>\n",
              "      <td>1.0</td>\n",
              "      <td>6.5</td>\n",
              "      <td>2.0</td>\n",
              "      <td>3007.0</td>\n",
              "      <td>31.0</td>\n",
              "      <td>1.0</td>\n",
              "      <td>2.0</td>\n",
              "      <td>3.0</td>\n",
              "      <td>9.0</td>\n",
              "      <td>1162.5</td>\n",
              "      <td>2.0</td>\n",
              "    </tr>\n",
              "  </tbody>\n",
              "</table>\n",
              "</div>"
            ],
            "text/plain": [
              "           Horas de trabalho padrão  ...  Anos na posição atual\n",
              "Contratar                            ...                       \n",
              "Não                            80.0  ...                    3.0\n",
              "Sim                            80.0  ...                    2.0\n",
              "\n",
              "[2 rows x 16 columns]"
            ]
          },
          "metadata": {
            "tags": []
          },
          "execution_count": 309
        }
      ]
    },
    {
      "cell_type": "code",
      "metadata": {
        "id": "sCb9qumgw8NU",
        "colab_type": "code",
        "colab": {
          "base_uri": "https://localhost:8080/",
          "height": 497
        },
        "outputId": "2de9dcdb-36b3-42b8-fbd7-730b4fdc79d0"
      },
      "source": [
        "plt.figure(figsize=(15,8))\n",
        "eixo1 = sns.distplot(contratados['Quantidade de empresas que trabalho'])\n",
        "eixo2 = sns.distplot(nao_contratados['Quantidade de empresas que trabalho'])\n",
        "eixo1.axvline(nao_contratados['Quantidade de empresas que trabalho'].mean(), color= 'k', linestyle='--')\n",
        "eixo1.axvline(contratados['Quantidade de empresas que trabalho'].mean(), color= 'r', linestyle='--');"
      ],
      "execution_count": 311,
      "outputs": [
        {
          "output_type": "display_data",
          "data": {
            "image/png": "[encoded data removed]",
            "text/plain": [
              "<Figure size 1080x576 with 1 Axes>"
            ]
          },
          "metadata": {
            "tags": [],
            "needs_background": "light"
          }
        }
      ]
    },
    {
      "cell_type": "code",
      "metadata": {
        "id": "z3pg5vvkx29H",
        "colab_type": "code",
        "colab": {
          "base_uri": "https://localhost:8080/",
          "height": 105
        },
        "outputId": "07434fed-0e52-47cc-a270-62c5d09881e9"
      },
      "source": [
        "print(nominais)\n",
        "print(ordinais)\n",
        "print(flag)\n",
        "print(continuas)"
      ],
      "execution_count": 314,
      "outputs": [
        {
          "output_type": "stream",
          "text": [
            "['Local de trabalho', 'Area', 'Genero', 'Cargo', 'Estado civil', 'Departmento']\n",
            "['Envolvimento com trabalho', 'Posicao', 'Satisfação com emprego', 'Satisfação com a relação', 'Satisfação com o ambiente no emprego atual', 'Performance na entrevista']\n",
            "['Maior de idade', 'Possui carro', 'Necessita de hora extra', 'Contratar']\n",
            "['Horas de trabalho padrão', 'Horas voluntariado', 'Aumento de salario%', 'Pontuação teste', 'Bonus de performance', 'Quantidade de empresas que trabalho', 'Anos de experiencia', 'Horas de treinamento ultimo ano', 'Renda', 'Idade', 'Anos desde última promoção', 'Anos com a mesma gerência', 'Anos na última empresa', 'Distancia casa-trabalho', 'Subordinado', 'Anos na posição atual', 'Contratar']\n"
          ],
          "name": "stdout"
        }
      ]
    },
    {
      "cell_type": "code",
      "metadata": {
        "id": "W23dGb5W1Eqo",
        "colab_type": "code",
        "colab": {
          "base_uri": "https://localhost:8080/",
          "height": 35
        },
        "outputId": "f2bb8c8e-e3e0-4052-a2a4-6fdd6df44b1b"
      },
      "source": [
        "continuas.pop()"
      ],
      "execution_count": 326,
      "outputs": [
        {
          "output_type": "execute_result",
          "data": {
            "application/vnd.google.colaboratory.intrinsic+json": {
              "type": "string"
            },
            "text/plain": [
              "'Contratar'"
            ]
          },
          "metadata": {
            "tags": []
          },
          "execution_count": 326
        }
      ]
    },
    {
      "cell_type": "code",
      "metadata": {
        "id": "fFnYsaXLyhp6",
        "colab_type": "code",
        "colab": {}
      },
      "source": [
        "flag = list(flag)"
      ],
      "execution_count": 313,
      "outputs": []
    },
    {
      "cell_type": "markdown",
      "metadata": {
        "id": "iNdnRoMuzPEG",
        "colab_type": "text"
      },
      "source": [
        "# CRIANDO UM MODELINHO"
      ]
    },
    {
      "cell_type": "markdown",
      "metadata": {
        "id": "FKlnMslfzRuU",
        "colab_type": "text"
      },
      "source": [
        "### ESCOLHA DE FEATURES"
      ]
    },
    {
      "cell_type": "code",
      "metadata": {
        "id": "aVnFB33wylBb",
        "colab_type": "code",
        "colab": {}
      },
      "source": [
        "X = algar.drop(['Contratar'], axis=1)\n",
        "y = algar['Contratar']"
      ],
      "execution_count": 316,
      "outputs": []
    },
    {
      "cell_type": "code",
      "metadata": {
        "id": "iKk4mmc0zduJ",
        "colab_type": "code",
        "colab": {}
      },
      "source": [
        "from sklearn.feature_selection import RFECV\n",
        "from sklearn.ensemble import RandomForestClassifier\n",
        "modelo =  RandomForestClassifier(n_estimators=100, max_depth=2, random_state=0)"
      ],
      "execution_count": 323,
      "outputs": []
    },
    {
      "cell_type": "code",
      "metadata": {
        "id": "j2zRVoRozi6I",
        "colab_type": "code",
        "colab": {}
      },
      "source": [
        "rfe = RFECV(estimator=modelo)"
      ],
      "execution_count": 324,
      "outputs": []
    },
    {
      "cell_type": "code",
      "metadata": {
        "id": "2DLVWVAK0Q20",
        "colab_type": "code",
        "colab": {
          "base_uri": "https://localhost:8080/",
          "height": 238
        },
        "outputId": "b2a40260-d385-4b9d-d1af-108223ab1945"
      },
      "source": [
        "#ajustar aos dados\n",
        "rfe.fit(X[continuas], y)"
      ],
      "execution_count": 327,
      "outputs": [
        {
          "output_type": "execute_result",
          "data": {
            "text/plain": [
              "RFECV(cv=None,\n",
              "      estimator=RandomForestClassifier(bootstrap=True, ccp_alpha=0.0,\n",
              "                                       class_weight=None, criterion='gini',\n",
              "                                       max_depth=2, max_features='auto',\n",
              "                                       max_leaf_nodes=None, max_samples=None,\n",
              "                                       min_impurity_decrease=0.0,\n",
              "                                       min_impurity_split=None,\n",
              "                                       min_samples_leaf=1, min_samples_split=2,\n",
              "                                       min_weight_fraction_leaf=0.0,\n",
              "                                       n_estimators=100, n_jobs=None,\n",
              "                                       oob_score=False, random_state=0,\n",
              "                                       verbose=0, warm_start=False),\n",
              "      min_features_to_select=1, n_jobs=None, scoring=None, step=1, verbose=0)"
            ]
          },
          "metadata": {
            "tags": []
          },
          "execution_count": 327
        }
      ]
    },
    {
      "cell_type": "code",
      "metadata": {
        "id": "MLmSCTGC0uai",
        "colab_type": "code",
        "colab": {}
      },
      "source": [
        "#criando um Dataframe com duas colunas: uma composta pelas colunas de x, a outra pelo rfe.support_\n",
        "colunas2 = pd.DataFrame({'coluna':X[continuas].columns,\n",
        "              'bool': rfe.support_})"
      ],
      "execution_count": 328,
      "outputs": []
    },
    {
      "cell_type": "code",
      "metadata": {
        "id": "40Xw00iG1dYV",
        "colab_type": "code",
        "colab": {
          "base_uri": "https://localhost:8080/",
          "height": 328
        },
        "outputId": "ab806c68-743d-4497-d3a6-f48e96d1a137"
      },
      "source": [
        "colunas2.query('bool == True')"
      ],
      "execution_count": 330,
      "outputs": [
        {
          "output_type": "execute_result",
          "data": {
            "text/html": [
              "<div>\n",
              "<style scoped>\n",
              "    .dataframe tbody tr th:only-of-type {\n",
              "        vertical-align: middle;\n",
              "    }\n",
              "\n",
              "    .dataframe tbody tr th {\n",
              "        vertical-align: top;\n",
              "    }\n",
              "\n",
              "    .dataframe thead th {\n",
              "        text-align: right;\n",
              "    }\n",
              "</style>\n",
              "<table border=\"1\" class=\"dataframe\">\n",
              "  <thead>\n",
              "    <tr style=\"text-align: right;\">\n",
              "      <th></th>\n",
              "      <th>coluna</th>\n",
              "      <th>bool</th>\n",
              "    </tr>\n",
              "  </thead>\n",
              "  <tbody>\n",
              "    <tr>\n",
              "      <th>3</th>\n",
              "      <td>Pontuação teste</td>\n",
              "      <td>True</td>\n",
              "    </tr>\n",
              "    <tr>\n",
              "      <th>4</th>\n",
              "      <td>Bonus de performance</td>\n",
              "      <td>True</td>\n",
              "    </tr>\n",
              "    <tr>\n",
              "      <th>6</th>\n",
              "      <td>Anos de experiencia</td>\n",
              "      <td>True</td>\n",
              "    </tr>\n",
              "    <tr>\n",
              "      <th>8</th>\n",
              "      <td>Renda</td>\n",
              "      <td>True</td>\n",
              "    </tr>\n",
              "    <tr>\n",
              "      <th>9</th>\n",
              "      <td>Idade</td>\n",
              "      <td>True</td>\n",
              "    </tr>\n",
              "    <tr>\n",
              "      <th>11</th>\n",
              "      <td>Anos com a mesma gerência</td>\n",
              "      <td>True</td>\n",
              "    </tr>\n",
              "    <tr>\n",
              "      <th>12</th>\n",
              "      <td>Anos na última empresa</td>\n",
              "      <td>True</td>\n",
              "    </tr>\n",
              "    <tr>\n",
              "      <th>14</th>\n",
              "      <td>Subordinado</td>\n",
              "      <td>True</td>\n",
              "    </tr>\n",
              "    <tr>\n",
              "      <th>15</th>\n",
              "      <td>Anos na posição atual</td>\n",
              "      <td>True</td>\n",
              "    </tr>\n",
              "  </tbody>\n",
              "</table>\n",
              "</div>"
            ],
            "text/plain": [
              "                       coluna  bool\n",
              "3             Pontuação teste  True\n",
              "4        Bonus de performance  True\n",
              "6         Anos de experiencia  True\n",
              "8                       Renda  True\n",
              "9                       Idade  True\n",
              "11  Anos com a mesma gerência  True\n",
              "12     Anos na última empresa  True\n",
              "14                Subordinado  True\n",
              "15      Anos na posição atual  True"
            ]
          },
          "metadata": {
            "tags": []
          },
          "execution_count": 330
        }
      ]
    },
    {
      "cell_type": "code",
      "metadata": {
        "id": "NSZKy4ii1e8N",
        "colab_type": "code",
        "colab": {
          "base_uri": "https://localhost:8080/",
          "height": 266
        },
        "outputId": "6d8706db-edc1-4eaa-b3de-f632585e6024"
      },
      "source": [
        "colunas2.query('bool == False')"
      ],
      "execution_count": 331,
      "outputs": [
        {
          "output_type": "execute_result",
          "data": {
            "text/html": [
              "<div>\n",
              "<style scoped>\n",
              "    .dataframe tbody tr th:only-of-type {\n",
              "        vertical-align: middle;\n",
              "    }\n",
              "\n",
              "    .dataframe tbody tr th {\n",
              "        vertical-align: top;\n",
              "    }\n",
              "\n",
              "    .dataframe thead th {\n",
              "        text-align: right;\n",
              "    }\n",
              "</style>\n",
              "<table border=\"1\" class=\"dataframe\">\n",
              "  <thead>\n",
              "    <tr style=\"text-align: right;\">\n",
              "      <th></th>\n",
              "      <th>coluna</th>\n",
              "      <th>bool</th>\n",
              "    </tr>\n",
              "  </thead>\n",
              "  <tbody>\n",
              "    <tr>\n",
              "      <th>0</th>\n",
              "      <td>Horas de trabalho padrão</td>\n",
              "      <td>False</td>\n",
              "    </tr>\n",
              "    <tr>\n",
              "      <th>1</th>\n",
              "      <td>Horas voluntariado</td>\n",
              "      <td>False</td>\n",
              "    </tr>\n",
              "    <tr>\n",
              "      <th>2</th>\n",
              "      <td>Aumento de salario%</td>\n",
              "      <td>False</td>\n",
              "    </tr>\n",
              "    <tr>\n",
              "      <th>5</th>\n",
              "      <td>Quantidade de empresas que trabalho</td>\n",
              "      <td>False</td>\n",
              "    </tr>\n",
              "    <tr>\n",
              "      <th>7</th>\n",
              "      <td>Horas de treinamento ultimo ano</td>\n",
              "      <td>False</td>\n",
              "    </tr>\n",
              "    <tr>\n",
              "      <th>10</th>\n",
              "      <td>Anos desde última promoção</td>\n",
              "      <td>False</td>\n",
              "    </tr>\n",
              "    <tr>\n",
              "      <th>13</th>\n",
              "      <td>Distancia casa-trabalho</td>\n",
              "      <td>False</td>\n",
              "    </tr>\n",
              "  </tbody>\n",
              "</table>\n",
              "</div>"
            ],
            "text/plain": [
              "                                 coluna   bool\n",
              "0              Horas de trabalho padrão  False\n",
              "1                    Horas voluntariado  False\n",
              "2                   Aumento de salario%  False\n",
              "5   Quantidade de empresas que trabalho  False\n",
              "7       Horas de treinamento ultimo ano  False\n",
              "10           Anos desde última promoção  False\n",
              "13              Distancia casa-trabalho  False"
            ]
          },
          "metadata": {
            "tags": []
          },
          "execution_count": 331
        }
      ]
    },
    {
      "cell_type": "code",
      "metadata": {
        "id": "LxGj6dtx1vBW",
        "colab_type": "code",
        "colab": {}
      },
      "source": [
        "features = list(colunas2.coluna.values)"
      ],
      "execution_count": 333,
      "outputs": []
    },
    {
      "cell_type": "code",
      "metadata": {
        "id": "bj_Uj7Lv2ADU",
        "colab_type": "code",
        "colab": {
          "base_uri": "https://localhost:8080/",
          "height": 289
        },
        "outputId": "58e4e902-23eb-49b7-ad46-a01c33595339"
      },
      "source": [
        "features"
      ],
      "execution_count": 334,
      "outputs": [
        {
          "output_type": "execute_result",
          "data": {
            "text/plain": [
              "['Horas de trabalho padrão',\n",
              " 'Horas voluntariado',\n",
              " 'Aumento de salario%',\n",
              " 'Pontuação teste',\n",
              " 'Bonus de performance',\n",
              " 'Quantidade de empresas que trabalho',\n",
              " 'Anos de experiencia',\n",
              " 'Horas de treinamento ultimo ano',\n",
              " 'Renda',\n",
              " 'Idade',\n",
              " 'Anos desde última promoção',\n",
              " 'Anos com a mesma gerência',\n",
              " 'Anos na última empresa',\n",
              " 'Distancia casa-trabalho',\n",
              " 'Subordinado',\n",
              " 'Anos na posição atual']"
            ]
          },
          "metadata": {
            "tags": []
          },
          "execution_count": 334
        }
      ]
    },
    {
      "cell_type": "code",
      "metadata": {
        "id": "IZQ8MFMt2DSc",
        "colab_type": "code",
        "colab": {}
      },
      "source": [
        "from sklearn.model_selection import train_test_split"
      ],
      "execution_count": 335,
      "outputs": []
    },
    {
      "cell_type": "code",
      "metadata": {
        "id": "fIB6N66B2VQs",
        "colab_type": "code",
        "colab": {}
      },
      "source": [
        "X_train, X_test, y_train, y_test = train_test_split(X[features], y)"
      ],
      "execution_count": 336,
      "outputs": []
    },
    {
      "cell_type": "code",
      "metadata": {
        "id": "_N83UNL_2eEi",
        "colab_type": "code",
        "colab": {
          "base_uri": "https://localhost:8080/",
          "height": 68
        },
        "outputId": "fffcd29c-e6c1-428e-ddad-1ba4a99cf009"
      },
      "source": [
        "algar.Contratar.value_counts(normalize=True)"
      ],
      "execution_count": 337,
      "outputs": [
        {
          "output_type": "execute_result",
          "data": {
            "text/plain": [
              "Não    0.859854\n",
              "Sim    0.140146\n",
              "Name: Contratar, dtype: float64"
            ]
          },
          "metadata": {
            "tags": []
          },
          "execution_count": 337
        }
      ]
    },
    {
      "cell_type": "code",
      "metadata": {
        "id": "ENkzshKt2i4D",
        "colab_type": "code",
        "colab": {
          "base_uri": "https://localhost:8080/",
          "height": 153
        },
        "outputId": "83ef1aed-b28a-401d-9798-715b00ed2e5c"
      },
      "source": [
        "modelo.fit(X_train, y_train)"
      ],
      "execution_count": 338,
      "outputs": [
        {
          "output_type": "execute_result",
          "data": {
            "text/plain": [
              "RandomForestClassifier(bootstrap=True, ccp_alpha=0.0, class_weight=None,\n",
              "                       criterion='gini', max_depth=2, max_features='auto',\n",
              "                       max_leaf_nodes=None, max_samples=None,\n",
              "                       min_impurity_decrease=0.0, min_impurity_split=None,\n",
              "                       min_samples_leaf=1, min_samples_split=2,\n",
              "                       min_weight_fraction_leaf=0.0, n_estimators=100,\n",
              "                       n_jobs=None, oob_score=False, random_state=0, verbose=0,\n",
              "                       warm_start=False)"
            ]
          },
          "metadata": {
            "tags": []
          },
          "execution_count": 338
        }
      ]
    },
    {
      "cell_type": "code",
      "metadata": {
        "id": "gODPiYv_2q_i",
        "colab_type": "code",
        "colab": {}
      },
      "source": [
        "previsao = modelo.predict(X_test)"
      ],
      "execution_count": 339,
      "outputs": []
    },
    {
      "cell_type": "code",
      "metadata": {
        "id": "iWDl3zr-2u_T",
        "colab_type": "code",
        "colab": {}
      },
      "source": [
        "from sklearn.metrics import  accuracy_score, balanced_accuracy_score, confusion_matrix, classification_report"
      ],
      "execution_count": 340,
      "outputs": []
    },
    {
      "cell_type": "markdown",
      "metadata": {
        "id": "Yu5FTW303LcF",
        "colab_type": "text"
      },
      "source": [
        "### Medindo a Acurácia do modelo"
      ]
    },
    {
      "cell_type": "code",
      "metadata": {
        "id": "rs190XE-3Iwa",
        "colab_type": "code",
        "colab": {
          "base_uri": "https://localhost:8080/",
          "height": 34
        },
        "outputId": "aa47a132-d738-4526-e6d4-fc9bf6219cef"
      },
      "source": [
        "accuracy_score(y_test, previsao)"
      ],
      "execution_count": 341,
      "outputs": [
        {
          "output_type": "execute_result",
          "data": {
            "text/plain": [
              "0.8513119533527697"
            ]
          },
          "metadata": {
            "tags": []
          },
          "execution_count": 341
        }
      ]
    },
    {
      "cell_type": "code",
      "metadata": {
        "id": "TeI917Ta3S2Z",
        "colab_type": "code",
        "colab": {
          "base_uri": "https://localhost:8080/",
          "height": 34
        },
        "outputId": "1350023f-567f-40a2-bf22-b94f3b4c23df"
      },
      "source": [
        "balanced_accuracy_score(y_test, previsao)"
      ],
      "execution_count": 344,
      "outputs": [
        {
          "output_type": "execute_result",
          "data": {
            "text/plain": [
              "0.5"
            ]
          },
          "metadata": {
            "tags": []
          },
          "execution_count": 344
        }
      ]
    },
    {
      "cell_type": "code",
      "metadata": {
        "id": "ZPz84qsl3Zpi",
        "colab_type": "code",
        "colab": {
          "base_uri": "https://localhost:8080/",
          "height": 224
        },
        "outputId": "0ce5730c-5a7e-4156-b4f7-76d31252a33a"
      },
      "source": [
        "print(classification_report(y_test, previsao))"
      ],
      "execution_count": 346,
      "outputs": [
        {
          "output_type": "stream",
          "text": [
            "              precision    recall  f1-score   support\n",
            "\n",
            "         Não       0.85      1.00      0.92       292\n",
            "         Sim       0.00      0.00      0.00        51\n",
            "\n",
            "    accuracy                           0.85       343\n",
            "   macro avg       0.43      0.50      0.46       343\n",
            "weighted avg       0.72      0.85      0.78       343\n",
            "\n"
          ],
          "name": "stdout"
        },
        {
          "output_type": "stream",
          "text": [
            "/usr/local/lib/python3.6/dist-packages/sklearn/metrics/_classification.py:1272: UndefinedMetricWarning: Precision and F-score are ill-defined and being set to 0.0 in labels with no predicted samples. Use `zero_division` parameter to control this behavior.\n",
            "  _warn_prf(average, modifier, msg_start, len(result))\n"
          ],
          "name": "stderr"
        }
      ]
    },
    {
      "cell_type": "code",
      "metadata": {
        "id": "X_CHu7he3vaZ",
        "colab_type": "code",
        "colab": {}
      },
      "source": [
        "X_train, X_test, y_train, y_test = train_test_split(X, y)"
      ],
      "execution_count": 349,
      "outputs": []
    },
    {
      "cell_type": "code",
      "metadata": {
        "id": "VN1stTTV33mQ",
        "colab_type": "code",
        "colab": {}
      },
      "source": [
        "modelo =  RandomForestClassifier(n_estimators=100, max_depth=2, random_state=0)"
      ],
      "execution_count": 350,
      "outputs": []
    },
    {
      "cell_type": "code",
      "metadata": {
        "id": "m2E_dcBj4UM_",
        "colab_type": "code",
        "colab": {
          "base_uri": "https://localhost:8080/",
          "height": 34
        },
        "outputId": "a9bc3f52-40cb-40fc-ef2a-bc424291193e"
      },
      "source": [
        "nominais"
      ],
      "execution_count": 352,
      "outputs": [
        {
          "output_type": "execute_result",
          "data": {
            "text/plain": [
              "['Local de trabalho', 'Area', 'Genero', 'Cargo', 'Estado civil', 'Departmento']"
            ]
          },
          "metadata": {
            "tags": []
          },
          "execution_count": 352
        }
      ]
    },
    {
      "cell_type": "code",
      "metadata": {
        "id": "BM6FOnCs4-l-",
        "colab_type": "code",
        "colab": {
          "base_uri": "https://localhost:8080/",
          "height": 119
        },
        "outputId": "c8baa0db-d791-4a8c-9dbf-b06a63481c2a"
      },
      "source": [
        "ordinais"
      ],
      "execution_count": 353,
      "outputs": [
        {
          "output_type": "execute_result",
          "data": {
            "text/plain": [
              "['Envolvimento com trabalho',\n",
              " 'Posicao',\n",
              " 'Satisfação com emprego',\n",
              " 'Satisfação com a relação',\n",
              " 'Satisfação com o ambiente no emprego atual',\n",
              " 'Performance na entrevista']"
            ]
          },
          "metadata": {
            "tags": []
          },
          "execution_count": 353
        }
      ]
    },
    {
      "cell_type": "code",
      "metadata": {
        "id": "BKtpijPl5Cie",
        "colab_type": "code",
        "colab": {
          "base_uri": "https://localhost:8080/",
          "height": 289
        },
        "outputId": "1a67cb1a-dade-4c44-84e1-cf2d2d7bc3ce"
      },
      "source": [
        "continuas"
      ],
      "execution_count": 354,
      "outputs": [
        {
          "output_type": "execute_result",
          "data": {
            "text/plain": [
              "['Horas de trabalho padrão',\n",
              " 'Horas voluntariado',\n",
              " 'Aumento de salario%',\n",
              " 'Pontuação teste',\n",
              " 'Bonus de performance',\n",
              " 'Quantidade de empresas que trabalho',\n",
              " 'Anos de experiencia',\n",
              " 'Horas de treinamento ultimo ano',\n",
              " 'Renda',\n",
              " 'Idade',\n",
              " 'Anos desde última promoção',\n",
              " 'Anos com a mesma gerência',\n",
              " 'Anos na última empresa',\n",
              " 'Distancia casa-trabalho',\n",
              " 'Subordinado',\n",
              " 'Anos na posição atual']"
            ]
          },
          "metadata": {
            "tags": []
          },
          "execution_count": 354
        }
      ]
    },
    {
      "cell_type": "code",
      "metadata": {
        "id": "ivkXPW7p5FLA",
        "colab_type": "code",
        "colab": {
          "base_uri": "https://localhost:8080/",
          "height": 34
        },
        "outputId": "4e93fe15-9a6e-4588-dc5d-08a2b4fc787b"
      },
      "source": [
        "flag"
      ],
      "execution_count": 355,
      "outputs": [
        {
          "output_type": "execute_result",
          "data": {
            "text/plain": [
              "['Maior de idade', 'Possui carro', 'Necessita de hora extra', 'Contratar']"
            ]
          },
          "metadata": {
            "tags": []
          },
          "execution_count": 355
        }
      ]
    },
    {
      "cell_type": "code",
      "metadata": {
        "id": "gSwbuZIA5GMl",
        "colab_type": "code",
        "colab": {}
      },
      "source": [
        "from sklearn.preprocessing import OrdinalEncoder"
      ],
      "execution_count": 356,
      "outputs": []
    },
    {
      "cell_type": "code",
      "metadata": {
        "id": "CKt0-zaJ5Y6N",
        "colab_type": "code",
        "colab": {}
      },
      "source": [
        "encoder = OrdinalEncoder()"
      ],
      "execution_count": 357,
      "outputs": []
    },
    {
      "cell_type": "code",
      "metadata": {
        "id": "hsHvcHf15W5V",
        "colab_type": "code",
        "colab": {}
      },
      "source": [
        "novodf = algar.copy()"
      ],
      "execution_count": 358,
      "outputs": []
    },
    {
      "cell_type": "code",
      "metadata": {
        "id": "ARZtiqS55qFB",
        "colab_type": "code",
        "colab": {}
      },
      "source": [
        "novodf[nominais]  = encoder.fit_transform(novodf[nominais])"
      ],
      "execution_count": 360,
      "outputs": []
    },
    {
      "cell_type": "code",
      "metadata": {
        "id": "8WdCJ17A5059",
        "colab_type": "code",
        "colab": {
          "base_uri": "https://localhost:8080/",
          "height": 394
        },
        "outputId": "f5d84ce6-3459-4293-e37e-2f31e4604d25"
      },
      "source": [
        "novodf.head()"
      ],
      "execution_count": 362,
      "outputs": [
        {
          "output_type": "execute_result",
          "data": {
            "text/html": [
              "<div>\n",
              "<style scoped>\n",
              "    .dataframe tbody tr th:only-of-type {\n",
              "        vertical-align: middle;\n",
              "    }\n",
              "\n",
              "    .dataframe tbody tr th {\n",
              "        vertical-align: top;\n",
              "    }\n",
              "\n",
              "    .dataframe thead th {\n",
              "        text-align: right;\n",
              "    }\n",
              "</style>\n",
              "<table border=\"1\" class=\"dataframe\">\n",
              "  <thead>\n",
              "    <tr style=\"text-align: right;\">\n",
              "      <th></th>\n",
              "      <th>Idade</th>\n",
              "      <th>Local de trabalho</th>\n",
              "      <th>Pontuação teste</th>\n",
              "      <th>Departmento</th>\n",
              "      <th>Distancia casa-trabalho</th>\n",
              "      <th>Educacao</th>\n",
              "      <th>Area</th>\n",
              "      <th>Possui carro</th>\n",
              "      <th>Subordinado</th>\n",
              "      <th>Satisfação com o ambiente no emprego atual</th>\n",
              "      <th>Genero</th>\n",
              "      <th>Horas voluntariado</th>\n",
              "      <th>Envolvimento com trabalho</th>\n",
              "      <th>Posicao</th>\n",
              "      <th>Cargo</th>\n",
              "      <th>Satisfação com emprego</th>\n",
              "      <th>Estado civil</th>\n",
              "      <th>Renda</th>\n",
              "      <th>Bonus de performance</th>\n",
              "      <th>Quantidade de empresas que trabalho</th>\n",
              "      <th>Maior de idade</th>\n",
              "      <th>Necessita de hora extra</th>\n",
              "      <th>Aumento de salario%</th>\n",
              "      <th>Performance na entrevista</th>\n",
              "      <th>Satisfação com a relação</th>\n",
              "      <th>Horas de trabalho padrão</th>\n",
              "      <th>Beneficios</th>\n",
              "      <th>Anos de experiencia</th>\n",
              "      <th>Horas de treinamento ultimo ano</th>\n",
              "      <th>Estilo de vida</th>\n",
              "      <th>Anos na última empresa</th>\n",
              "      <th>Anos na posição atual</th>\n",
              "      <th>Anos desde última promoção</th>\n",
              "      <th>Anos com a mesma gerência</th>\n",
              "      <th>Contratar</th>\n",
              "    </tr>\n",
              "  </thead>\n",
              "  <tbody>\n",
              "    <tr>\n",
              "      <th>0</th>\n",
              "      <td>49</td>\n",
              "      <td>0.0</td>\n",
              "      <td>279</td>\n",
              "      <td>0.0</td>\n",
              "      <td>8</td>\n",
              "      <td>Médio completo</td>\n",
              "      <td>0.0</td>\n",
              "      <td>1</td>\n",
              "      <td>2</td>\n",
              "      <td>3</td>\n",
              "      <td>1.0</td>\n",
              "      <td>61</td>\n",
              "      <td>2</td>\n",
              "      <td>2</td>\n",
              "      <td>3.0</td>\n",
              "      <td>2</td>\n",
              "      <td>0.0</td>\n",
              "      <td>5130</td>\n",
              "      <td>24907</td>\n",
              "      <td>1</td>\n",
              "      <td>1</td>\n",
              "      <td>Não</td>\n",
              "      <td>23</td>\n",
              "      <td>4</td>\n",
              "      <td>4</td>\n",
              "      <td>80</td>\n",
              "      <td>1</td>\n",
              "      <td>10</td>\n",
              "      <td>3</td>\n",
              "      <td>3</td>\n",
              "      <td>10</td>\n",
              "      <td>7</td>\n",
              "      <td>1</td>\n",
              "      <td>7</td>\n",
              "      <td>Não</td>\n",
              "    </tr>\n",
              "    <tr>\n",
              "      <th>1</th>\n",
              "      <td>33</td>\n",
              "      <td>2.0</td>\n",
              "      <td>1392</td>\n",
              "      <td>0.0</td>\n",
              "      <td>3</td>\n",
              "      <td>Superior incompleto - cursando</td>\n",
              "      <td>0.0</td>\n",
              "      <td>1</td>\n",
              "      <td>5</td>\n",
              "      <td>4</td>\n",
              "      <td>0.0</td>\n",
              "      <td>56</td>\n",
              "      <td>3</td>\n",
              "      <td>1</td>\n",
              "      <td>3.0</td>\n",
              "      <td>3</td>\n",
              "      <td>0.0</td>\n",
              "      <td>2909</td>\n",
              "      <td>23159</td>\n",
              "      <td>1</td>\n",
              "      <td>1</td>\n",
              "      <td>Sim</td>\n",
              "      <td>11</td>\n",
              "      <td>3</td>\n",
              "      <td>3</td>\n",
              "      <td>80</td>\n",
              "      <td>0</td>\n",
              "      <td>8</td>\n",
              "      <td>3</td>\n",
              "      <td>3</td>\n",
              "      <td>8</td>\n",
              "      <td>7</td>\n",
              "      <td>3</td>\n",
              "      <td>0</td>\n",
              "      <td>Não</td>\n",
              "    </tr>\n",
              "    <tr>\n",
              "      <th>2</th>\n",
              "      <td>27</td>\n",
              "      <td>0.0</td>\n",
              "      <td>591</td>\n",
              "      <td>0.0</td>\n",
              "      <td>2</td>\n",
              "      <td>Médio completo</td>\n",
              "      <td>4.0</td>\n",
              "      <td>1</td>\n",
              "      <td>7</td>\n",
              "      <td>1</td>\n",
              "      <td>1.0</td>\n",
              "      <td>40</td>\n",
              "      <td>3</td>\n",
              "      <td>1</td>\n",
              "      <td>6.0</td>\n",
              "      <td>2</td>\n",
              "      <td>0.0</td>\n",
              "      <td>3468</td>\n",
              "      <td>16632</td>\n",
              "      <td>9</td>\n",
              "      <td>1</td>\n",
              "      <td>Não</td>\n",
              "      <td>12</td>\n",
              "      <td>3</td>\n",
              "      <td>4</td>\n",
              "      <td>80</td>\n",
              "      <td>1</td>\n",
              "      <td>6</td>\n",
              "      <td>3</td>\n",
              "      <td>3</td>\n",
              "      <td>2</td>\n",
              "      <td>2</td>\n",
              "      <td>2</td>\n",
              "      <td>2</td>\n",
              "      <td>Não</td>\n",
              "    </tr>\n",
              "    <tr>\n",
              "      <th>3</th>\n",
              "      <td>32</td>\n",
              "      <td>2.0</td>\n",
              "      <td>1005</td>\n",
              "      <td>0.0</td>\n",
              "      <td>2</td>\n",
              "      <td>Superior incompleto</td>\n",
              "      <td>0.0</td>\n",
              "      <td>1</td>\n",
              "      <td>8</td>\n",
              "      <td>4</td>\n",
              "      <td>1.0</td>\n",
              "      <td>79</td>\n",
              "      <td>3</td>\n",
              "      <td>1</td>\n",
              "      <td>6.0</td>\n",
              "      <td>4</td>\n",
              "      <td>2.0</td>\n",
              "      <td>3068</td>\n",
              "      <td>11864</td>\n",
              "      <td>0</td>\n",
              "      <td>1</td>\n",
              "      <td>Não</td>\n",
              "      <td>13</td>\n",
              "      <td>3</td>\n",
              "      <td>3</td>\n",
              "      <td>80</td>\n",
              "      <td>0</td>\n",
              "      <td>8</td>\n",
              "      <td>2</td>\n",
              "      <td>2</td>\n",
              "      <td>7</td>\n",
              "      <td>7</td>\n",
              "      <td>3</td>\n",
              "      <td>6</td>\n",
              "      <td>Não</td>\n",
              "    </tr>\n",
              "    <tr>\n",
              "      <th>4</th>\n",
              "      <td>59</td>\n",
              "      <td>2.0</td>\n",
              "      <td>1324</td>\n",
              "      <td>0.0</td>\n",
              "      <td>3</td>\n",
              "      <td>Superior completo</td>\n",
              "      <td>4.0</td>\n",
              "      <td>1</td>\n",
              "      <td>10</td>\n",
              "      <td>3</td>\n",
              "      <td>0.0</td>\n",
              "      <td>81</td>\n",
              "      <td>4</td>\n",
              "      <td>1</td>\n",
              "      <td>6.0</td>\n",
              "      <td>1</td>\n",
              "      <td>0.0</td>\n",
              "      <td>2670</td>\n",
              "      <td>9964</td>\n",
              "      <td>4</td>\n",
              "      <td>1</td>\n",
              "      <td>Sim</td>\n",
              "      <td>20</td>\n",
              "      <td>4</td>\n",
              "      <td>1</td>\n",
              "      <td>80</td>\n",
              "      <td>3</td>\n",
              "      <td>12</td>\n",
              "      <td>3</td>\n",
              "      <td>2</td>\n",
              "      <td>1</td>\n",
              "      <td>0</td>\n",
              "      <td>0</td>\n",
              "      <td>0</td>\n",
              "      <td>Não</td>\n",
              "    </tr>\n",
              "  </tbody>\n",
              "</table>\n",
              "</div>"
            ],
            "text/plain": [
              "   Idade  Local de trabalho  ...  Anos com a mesma gerência  Contratar\n",
              "0     49                0.0  ...                          7        Não\n",
              "1     33                2.0  ...                          0        Não\n",
              "2     27                0.0  ...                          2        Não\n",
              "3     32                2.0  ...                          6        Não\n",
              "4     59                2.0  ...                          0        Não\n",
              "\n",
              "[5 rows x 35 columns]"
            ]
          },
          "metadata": {
            "tags": []
          },
          "execution_count": 362
        }
      ]
    },
    {
      "cell_type": "code",
      "metadata": {
        "id": "YmEsLMrN6AeN",
        "colab_type": "code",
        "colab": {}
      },
      "source": [
        "novodf[categoricas]  = encoder.fit_transform(novodf[categoricas])"
      ],
      "execution_count": 365,
      "outputs": []
    },
    {
      "cell_type": "code",
      "metadata": {
        "id": "9aREm59S6JsM",
        "colab_type": "code",
        "colab": {
          "base_uri": "https://localhost:8080/",
          "height": 292
        },
        "outputId": "67ea7dd6-7fcf-4951-a706-767d9d821ca5"
      },
      "source": [
        "novodf.head()"
      ],
      "execution_count": 366,
      "outputs": [
        {
          "output_type": "execute_result",
          "data": {
            "text/html": [
              "<div>\n",
              "<style scoped>\n",
              "    .dataframe tbody tr th:only-of-type {\n",
              "        vertical-align: middle;\n",
              "    }\n",
              "\n",
              "    .dataframe tbody tr th {\n",
              "        vertical-align: top;\n",
              "    }\n",
              "\n",
              "    .dataframe thead th {\n",
              "        text-align: right;\n",
              "    }\n",
              "</style>\n",
              "<table border=\"1\" class=\"dataframe\">\n",
              "  <thead>\n",
              "    <tr style=\"text-align: right;\">\n",
              "      <th></th>\n",
              "      <th>Idade</th>\n",
              "      <th>Local de trabalho</th>\n",
              "      <th>Pontuação teste</th>\n",
              "      <th>Departmento</th>\n",
              "      <th>Distancia casa-trabalho</th>\n",
              "      <th>Educacao</th>\n",
              "      <th>Area</th>\n",
              "      <th>Possui carro</th>\n",
              "      <th>Subordinado</th>\n",
              "      <th>Satisfação com o ambiente no emprego atual</th>\n",
              "      <th>Genero</th>\n",
              "      <th>Horas voluntariado</th>\n",
              "      <th>Envolvimento com trabalho</th>\n",
              "      <th>Posicao</th>\n",
              "      <th>Cargo</th>\n",
              "      <th>Satisfação com emprego</th>\n",
              "      <th>Estado civil</th>\n",
              "      <th>Renda</th>\n",
              "      <th>Bonus de performance</th>\n",
              "      <th>Quantidade de empresas que trabalho</th>\n",
              "      <th>Maior de idade</th>\n",
              "      <th>Necessita de hora extra</th>\n",
              "      <th>Aumento de salario%</th>\n",
              "      <th>Performance na entrevista</th>\n",
              "      <th>Satisfação com a relação</th>\n",
              "      <th>Horas de trabalho padrão</th>\n",
              "      <th>Beneficios</th>\n",
              "      <th>Anos de experiencia</th>\n",
              "      <th>Horas de treinamento ultimo ano</th>\n",
              "      <th>Estilo de vida</th>\n",
              "      <th>Anos na última empresa</th>\n",
              "      <th>Anos na posição atual</th>\n",
              "      <th>Anos desde última promoção</th>\n",
              "      <th>Anos com a mesma gerência</th>\n",
              "      <th>Contratar</th>\n",
              "    </tr>\n",
              "  </thead>\n",
              "  <tbody>\n",
              "    <tr>\n",
              "      <th>0</th>\n",
              "      <td>49</td>\n",
              "      <td>0.0</td>\n",
              "      <td>279</td>\n",
              "      <td>0.0</td>\n",
              "      <td>8</td>\n",
              "      <td>0.0</td>\n",
              "      <td>0.0</td>\n",
              "      <td>1</td>\n",
              "      <td>2</td>\n",
              "      <td>2.0</td>\n",
              "      <td>1.0</td>\n",
              "      <td>61</td>\n",
              "      <td>1.0</td>\n",
              "      <td>1.0</td>\n",
              "      <td>3.0</td>\n",
              "      <td>1.0</td>\n",
              "      <td>0.0</td>\n",
              "      <td>5130</td>\n",
              "      <td>24907</td>\n",
              "      <td>1</td>\n",
              "      <td>1</td>\n",
              "      <td>Não</td>\n",
              "      <td>23</td>\n",
              "      <td>1.0</td>\n",
              "      <td>3.0</td>\n",
              "      <td>80</td>\n",
              "      <td>1.0</td>\n",
              "      <td>10</td>\n",
              "      <td>3</td>\n",
              "      <td>2.0</td>\n",
              "      <td>10</td>\n",
              "      <td>7</td>\n",
              "      <td>1</td>\n",
              "      <td>7</td>\n",
              "      <td>Não</td>\n",
              "    </tr>\n",
              "    <tr>\n",
              "      <th>1</th>\n",
              "      <td>33</td>\n",
              "      <td>2.0</td>\n",
              "      <td>1392</td>\n",
              "      <td>0.0</td>\n",
              "      <td>3</td>\n",
              "      <td>4.0</td>\n",
              "      <td>0.0</td>\n",
              "      <td>1</td>\n",
              "      <td>5</td>\n",
              "      <td>3.0</td>\n",
              "      <td>0.0</td>\n",
              "      <td>56</td>\n",
              "      <td>2.0</td>\n",
              "      <td>0.0</td>\n",
              "      <td>3.0</td>\n",
              "      <td>2.0</td>\n",
              "      <td>0.0</td>\n",
              "      <td>2909</td>\n",
              "      <td>23159</td>\n",
              "      <td>1</td>\n",
              "      <td>1</td>\n",
              "      <td>Sim</td>\n",
              "      <td>11</td>\n",
              "      <td>0.0</td>\n",
              "      <td>2.0</td>\n",
              "      <td>80</td>\n",
              "      <td>0.0</td>\n",
              "      <td>8</td>\n",
              "      <td>3</td>\n",
              "      <td>2.0</td>\n",
              "      <td>8</td>\n",
              "      <td>7</td>\n",
              "      <td>3</td>\n",
              "      <td>0</td>\n",
              "      <td>Não</td>\n",
              "    </tr>\n",
              "    <tr>\n",
              "      <th>2</th>\n",
              "      <td>27</td>\n",
              "      <td>0.0</td>\n",
              "      <td>591</td>\n",
              "      <td>0.0</td>\n",
              "      <td>2</td>\n",
              "      <td>0.0</td>\n",
              "      <td>4.0</td>\n",
              "      <td>1</td>\n",
              "      <td>7</td>\n",
              "      <td>0.0</td>\n",
              "      <td>1.0</td>\n",
              "      <td>40</td>\n",
              "      <td>2.0</td>\n",
              "      <td>0.0</td>\n",
              "      <td>6.0</td>\n",
              "      <td>1.0</td>\n",
              "      <td>0.0</td>\n",
              "      <td>3468</td>\n",
              "      <td>16632</td>\n",
              "      <td>9</td>\n",
              "      <td>1</td>\n",
              "      <td>Não</td>\n",
              "      <td>12</td>\n",
              "      <td>0.0</td>\n",
              "      <td>3.0</td>\n",
              "      <td>80</td>\n",
              "      <td>1.0</td>\n",
              "      <td>6</td>\n",
              "      <td>3</td>\n",
              "      <td>2.0</td>\n",
              "      <td>2</td>\n",
              "      <td>2</td>\n",
              "      <td>2</td>\n",
              "      <td>2</td>\n",
              "      <td>Não</td>\n",
              "    </tr>\n",
              "    <tr>\n",
              "      <th>3</th>\n",
              "      <td>32</td>\n",
              "      <td>2.0</td>\n",
              "      <td>1005</td>\n",
              "      <td>0.0</td>\n",
              "      <td>2</td>\n",
              "      <td>3.0</td>\n",
              "      <td>0.0</td>\n",
              "      <td>1</td>\n",
              "      <td>8</td>\n",
              "      <td>3.0</td>\n",
              "      <td>1.0</td>\n",
              "      <td>79</td>\n",
              "      <td>2.0</td>\n",
              "      <td>0.0</td>\n",
              "      <td>6.0</td>\n",
              "      <td>3.0</td>\n",
              "      <td>2.0</td>\n",
              "      <td>3068</td>\n",
              "      <td>11864</td>\n",
              "      <td>0</td>\n",
              "      <td>1</td>\n",
              "      <td>Não</td>\n",
              "      <td>13</td>\n",
              "      <td>0.0</td>\n",
              "      <td>2.0</td>\n",
              "      <td>80</td>\n",
              "      <td>0.0</td>\n",
              "      <td>8</td>\n",
              "      <td>2</td>\n",
              "      <td>1.0</td>\n",
              "      <td>7</td>\n",
              "      <td>7</td>\n",
              "      <td>3</td>\n",
              "      <td>6</td>\n",
              "      <td>Não</td>\n",
              "    </tr>\n",
              "    <tr>\n",
              "      <th>4</th>\n",
              "      <td>59</td>\n",
              "      <td>2.0</td>\n",
              "      <td>1324</td>\n",
              "      <td>0.0</td>\n",
              "      <td>3</td>\n",
              "      <td>2.0</td>\n",
              "      <td>4.0</td>\n",
              "      <td>1</td>\n",
              "      <td>10</td>\n",
              "      <td>2.0</td>\n",
              "      <td>0.0</td>\n",
              "      <td>81</td>\n",
              "      <td>3.0</td>\n",
              "      <td>0.0</td>\n",
              "      <td>6.0</td>\n",
              "      <td>0.0</td>\n",
              "      <td>0.0</td>\n",
              "      <td>2670</td>\n",
              "      <td>9964</td>\n",
              "      <td>4</td>\n",
              "      <td>1</td>\n",
              "      <td>Sim</td>\n",
              "      <td>20</td>\n",
              "      <td>1.0</td>\n",
              "      <td>0.0</td>\n",
              "      <td>80</td>\n",
              "      <td>3.0</td>\n",
              "      <td>12</td>\n",
              "      <td>3</td>\n",
              "      <td>1.0</td>\n",
              "      <td>1</td>\n",
              "      <td>0</td>\n",
              "      <td>0</td>\n",
              "      <td>0</td>\n",
              "      <td>Não</td>\n",
              "    </tr>\n",
              "  </tbody>\n",
              "</table>\n",
              "</div>"
            ],
            "text/plain": [
              "   Idade  Local de trabalho  ...  Anos com a mesma gerência  Contratar\n",
              "0     49                0.0  ...                          7        Não\n",
              "1     33                2.0  ...                          0        Não\n",
              "2     27                0.0  ...                          2        Não\n",
              "3     32                2.0  ...                          6        Não\n",
              "4     59                2.0  ...                          0        Não\n",
              "\n",
              "[5 rows x 35 columns]"
            ]
          },
          "metadata": {
            "tags": []
          },
          "execution_count": 366
        }
      ]
    },
    {
      "cell_type": "code",
      "metadata": {
        "id": "QMxL7tlU6MQl",
        "colab_type": "code",
        "colab": {}
      },
      "source": [
        "novodf['Necessita de hora extra'].replace({'Não':0, 'Sim':1}, inplace=True)"
      ],
      "execution_count": 369,
      "outputs": []
    },
    {
      "cell_type": "code",
      "metadata": {
        "id": "3hgfAjKl6n6t",
        "colab_type": "code",
        "colab": {
          "base_uri": "https://localhost:8080/",
          "height": 292
        },
        "outputId": "da7b1815-2235-4bb7-ede1-0d678cea459a"
      },
      "source": [
        "novodf.head()"
      ],
      "execution_count": 370,
      "outputs": [
        {
          "output_type": "execute_result",
          "data": {
            "text/html": [
              "<div>\n",
              "<style scoped>\n",
              "    .dataframe tbody tr th:only-of-type {\n",
              "        vertical-align: middle;\n",
              "    }\n",
              "\n",
              "    .dataframe tbody tr th {\n",
              "        vertical-align: top;\n",
              "    }\n",
              "\n",
              "    .dataframe thead th {\n",
              "        text-align: right;\n",
              "    }\n",
              "</style>\n",
              "<table border=\"1\" class=\"dataframe\">\n",
              "  <thead>\n",
              "    <tr style=\"text-align: right;\">\n",
              "      <th></th>\n",
              "      <th>Idade</th>\n",
              "      <th>Local de trabalho</th>\n",
              "      <th>Pontuação teste</th>\n",
              "      <th>Departmento</th>\n",
              "      <th>Distancia casa-trabalho</th>\n",
              "      <th>Educacao</th>\n",
              "      <th>Area</th>\n",
              "      <th>Possui carro</th>\n",
              "      <th>Subordinado</th>\n",
              "      <th>Satisfação com o ambiente no emprego atual</th>\n",
              "      <th>Genero</th>\n",
              "      <th>Horas voluntariado</th>\n",
              "      <th>Envolvimento com trabalho</th>\n",
              "      <th>Posicao</th>\n",
              "      <th>Cargo</th>\n",
              "      <th>Satisfação com emprego</th>\n",
              "      <th>Estado civil</th>\n",
              "      <th>Renda</th>\n",
              "      <th>Bonus de performance</th>\n",
              "      <th>Quantidade de empresas que trabalho</th>\n",
              "      <th>Maior de idade</th>\n",
              "      <th>Necessita de hora extra</th>\n",
              "      <th>Aumento de salario%</th>\n",
              "      <th>Performance na entrevista</th>\n",
              "      <th>Satisfação com a relação</th>\n",
              "      <th>Horas de trabalho padrão</th>\n",
              "      <th>Beneficios</th>\n",
              "      <th>Anos de experiencia</th>\n",
              "      <th>Horas de treinamento ultimo ano</th>\n",
              "      <th>Estilo de vida</th>\n",
              "      <th>Anos na última empresa</th>\n",
              "      <th>Anos na posição atual</th>\n",
              "      <th>Anos desde última promoção</th>\n",
              "      <th>Anos com a mesma gerência</th>\n",
              "      <th>Contratar</th>\n",
              "    </tr>\n",
              "  </thead>\n",
              "  <tbody>\n",
              "    <tr>\n",
              "      <th>0</th>\n",
              "      <td>49</td>\n",
              "      <td>0.0</td>\n",
              "      <td>279</td>\n",
              "      <td>0.0</td>\n",
              "      <td>8</td>\n",
              "      <td>0.0</td>\n",
              "      <td>0.0</td>\n",
              "      <td>1</td>\n",
              "      <td>2</td>\n",
              "      <td>2.0</td>\n",
              "      <td>1.0</td>\n",
              "      <td>61</td>\n",
              "      <td>1.0</td>\n",
              "      <td>1.0</td>\n",
              "      <td>3.0</td>\n",
              "      <td>1.0</td>\n",
              "      <td>0.0</td>\n",
              "      <td>5130</td>\n",
              "      <td>24907</td>\n",
              "      <td>1</td>\n",
              "      <td>1</td>\n",
              "      <td>0</td>\n",
              "      <td>23</td>\n",
              "      <td>1.0</td>\n",
              "      <td>3.0</td>\n",
              "      <td>80</td>\n",
              "      <td>1.0</td>\n",
              "      <td>10</td>\n",
              "      <td>3</td>\n",
              "      <td>2.0</td>\n",
              "      <td>10</td>\n",
              "      <td>7</td>\n",
              "      <td>1</td>\n",
              "      <td>7</td>\n",
              "      <td>Não</td>\n",
              "    </tr>\n",
              "    <tr>\n",
              "      <th>1</th>\n",
              "      <td>33</td>\n",
              "      <td>2.0</td>\n",
              "      <td>1392</td>\n",
              "      <td>0.0</td>\n",
              "      <td>3</td>\n",
              "      <td>4.0</td>\n",
              "      <td>0.0</td>\n",
              "      <td>1</td>\n",
              "      <td>5</td>\n",
              "      <td>3.0</td>\n",
              "      <td>0.0</td>\n",
              "      <td>56</td>\n",
              "      <td>2.0</td>\n",
              "      <td>0.0</td>\n",
              "      <td>3.0</td>\n",
              "      <td>2.0</td>\n",
              "      <td>0.0</td>\n",
              "      <td>2909</td>\n",
              "      <td>23159</td>\n",
              "      <td>1</td>\n",
              "      <td>1</td>\n",
              "      <td>1</td>\n",
              "      <td>11</td>\n",
              "      <td>0.0</td>\n",
              "      <td>2.0</td>\n",
              "      <td>80</td>\n",
              "      <td>0.0</td>\n",
              "      <td>8</td>\n",
              "      <td>3</td>\n",
              "      <td>2.0</td>\n",
              "      <td>8</td>\n",
              "      <td>7</td>\n",
              "      <td>3</td>\n",
              "      <td>0</td>\n",
              "      <td>Não</td>\n",
              "    </tr>\n",
              "    <tr>\n",
              "      <th>2</th>\n",
              "      <td>27</td>\n",
              "      <td>0.0</td>\n",
              "      <td>591</td>\n",
              "      <td>0.0</td>\n",
              "      <td>2</td>\n",
              "      <td>0.0</td>\n",
              "      <td>4.0</td>\n",
              "      <td>1</td>\n",
              "      <td>7</td>\n",
              "      <td>0.0</td>\n",
              "      <td>1.0</td>\n",
              "      <td>40</td>\n",
              "      <td>2.0</td>\n",
              "      <td>0.0</td>\n",
              "      <td>6.0</td>\n",
              "      <td>1.0</td>\n",
              "      <td>0.0</td>\n",
              "      <td>3468</td>\n",
              "      <td>16632</td>\n",
              "      <td>9</td>\n",
              "      <td>1</td>\n",
              "      <td>0</td>\n",
              "      <td>12</td>\n",
              "      <td>0.0</td>\n",
              "      <td>3.0</td>\n",
              "      <td>80</td>\n",
              "      <td>1.0</td>\n",
              "      <td>6</td>\n",
              "      <td>3</td>\n",
              "      <td>2.0</td>\n",
              "      <td>2</td>\n",
              "      <td>2</td>\n",
              "      <td>2</td>\n",
              "      <td>2</td>\n",
              "      <td>Não</td>\n",
              "    </tr>\n",
              "    <tr>\n",
              "      <th>3</th>\n",
              "      <td>32</td>\n",
              "      <td>2.0</td>\n",
              "      <td>1005</td>\n",
              "      <td>0.0</td>\n",
              "      <td>2</td>\n",
              "      <td>3.0</td>\n",
              "      <td>0.0</td>\n",
              "      <td>1</td>\n",
              "      <td>8</td>\n",
              "      <td>3.0</td>\n",
              "      <td>1.0</td>\n",
              "      <td>79</td>\n",
              "      <td>2.0</td>\n",
              "      <td>0.0</td>\n",
              "      <td>6.0</td>\n",
              "      <td>3.0</td>\n",
              "      <td>2.0</td>\n",
              "      <td>3068</td>\n",
              "      <td>11864</td>\n",
              "      <td>0</td>\n",
              "      <td>1</td>\n",
              "      <td>0</td>\n",
              "      <td>13</td>\n",
              "      <td>0.0</td>\n",
              "      <td>2.0</td>\n",
              "      <td>80</td>\n",
              "      <td>0.0</td>\n",
              "      <td>8</td>\n",
              "      <td>2</td>\n",
              "      <td>1.0</td>\n",
              "      <td>7</td>\n",
              "      <td>7</td>\n",
              "      <td>3</td>\n",
              "      <td>6</td>\n",
              "      <td>Não</td>\n",
              "    </tr>\n",
              "    <tr>\n",
              "      <th>4</th>\n",
              "      <td>59</td>\n",
              "      <td>2.0</td>\n",
              "      <td>1324</td>\n",
              "      <td>0.0</td>\n",
              "      <td>3</td>\n",
              "      <td>2.0</td>\n",
              "      <td>4.0</td>\n",
              "      <td>1</td>\n",
              "      <td>10</td>\n",
              "      <td>2.0</td>\n",
              "      <td>0.0</td>\n",
              "      <td>81</td>\n",
              "      <td>3.0</td>\n",
              "      <td>0.0</td>\n",
              "      <td>6.0</td>\n",
              "      <td>0.0</td>\n",
              "      <td>0.0</td>\n",
              "      <td>2670</td>\n",
              "      <td>9964</td>\n",
              "      <td>4</td>\n",
              "      <td>1</td>\n",
              "      <td>1</td>\n",
              "      <td>20</td>\n",
              "      <td>1.0</td>\n",
              "      <td>0.0</td>\n",
              "      <td>80</td>\n",
              "      <td>3.0</td>\n",
              "      <td>12</td>\n",
              "      <td>3</td>\n",
              "      <td>1.0</td>\n",
              "      <td>1</td>\n",
              "      <td>0</td>\n",
              "      <td>0</td>\n",
              "      <td>0</td>\n",
              "      <td>Não</td>\n",
              "    </tr>\n",
              "  </tbody>\n",
              "</table>\n",
              "</div>"
            ],
            "text/plain": [
              "   Idade  Local de trabalho  ...  Anos com a mesma gerência  Contratar\n",
              "0     49                0.0  ...                          7        Não\n",
              "1     33                2.0  ...                          0        Não\n",
              "2     27                0.0  ...                          2        Não\n",
              "3     32                2.0  ...                          6        Não\n",
              "4     59                2.0  ...                          0        Não\n",
              "\n",
              "[5 rows x 35 columns]"
            ]
          },
          "metadata": {
            "tags": []
          },
          "execution_count": 370
        }
      ]
    },
    {
      "cell_type": "code",
      "metadata": {
        "id": "EU0h3FmR6uY7",
        "colab_type": "code",
        "colab": {}
      },
      "source": [
        "X = novodf.drop('Contratar', axis=1)\n",
        "y = novodf['Contratar']"
      ],
      "execution_count": 372,
      "outputs": []
    },
    {
      "cell_type": "code",
      "metadata": {
        "id": "1z4zL3aJ7FNa",
        "colab_type": "code",
        "colab": {}
      },
      "source": [
        "X_train, X_test, y_train, y_test = train_test_split(X, y)"
      ],
      "execution_count": 374,
      "outputs": []
    },
    {
      "cell_type": "code",
      "metadata": {
        "id": "5hNJVM227Kca",
        "colab_type": "code",
        "colab": {
          "base_uri": "https://localhost:8080/",
          "height": 153
        },
        "outputId": "7ebf0ce0-7d00-4266-f57e-e44591988423"
      },
      "source": [
        "modelo.fit(X_train, y_train)"
      ],
      "execution_count": 375,
      "outputs": [
        {
          "output_type": "execute_result",
          "data": {
            "text/plain": [
              "RandomForestClassifier(bootstrap=True, ccp_alpha=0.0, class_weight=None,\n",
              "                       criterion='gini', max_depth=2, max_features='auto',\n",
              "                       max_leaf_nodes=None, max_samples=None,\n",
              "                       min_impurity_decrease=0.0, min_impurity_split=None,\n",
              "                       min_samples_leaf=1, min_samples_split=2,\n",
              "                       min_weight_fraction_leaf=0.0, n_estimators=100,\n",
              "                       n_jobs=None, oob_score=False, random_state=0, verbose=0,\n",
              "                       warm_start=False)"
            ]
          },
          "metadata": {
            "tags": []
          },
          "execution_count": 375
        }
      ]
    },
    {
      "cell_type": "code",
      "metadata": {
        "id": "nT2PgUKT7bPj",
        "colab_type": "code",
        "colab": {}
      },
      "source": [
        "nova_previsao = modelo.predict(X_test)"
      ],
      "execution_count": 376,
      "outputs": []
    },
    {
      "cell_type": "code",
      "metadata": {
        "id": "eyzPytlC7kK5",
        "colab_type": "code",
        "colab": {
          "base_uri": "https://localhost:8080/",
          "height": 34
        },
        "outputId": "0fc266d7-de0c-4936-9965-86a013f51ced"
      },
      "source": [
        "accuracy_score(y_test, nova_previsao)"
      ],
      "execution_count": 379,
      "outputs": [
        {
          "output_type": "execute_result",
          "data": {
            "text/plain": [
              "0.880466472303207"
            ]
          },
          "metadata": {
            "tags": []
          },
          "execution_count": 379
        }
      ]
    },
    {
      "cell_type": "code",
      "metadata": {
        "id": "OIXgjulv7t_S",
        "colab_type": "code",
        "colab": {
          "base_uri": "https://localhost:8080/",
          "height": 34
        },
        "outputId": "f1e5b50c-6984-4828-9b79-c8b7f5a887aa"
      },
      "source": [
        "balanced_accuracy_score(y_test, nova_previsao)"
      ],
      "execution_count": 380,
      "outputs": [
        {
          "output_type": "execute_result",
          "data": {
            "text/plain": [
              "0.5"
            ]
          },
          "metadata": {
            "tags": []
          },
          "execution_count": 380
        }
      ]
    },
    {
      "cell_type": "code",
      "metadata": {
        "id": "QxjWNdJ474IJ",
        "colab_type": "code",
        "colab": {
          "base_uri": "https://localhost:8080/",
          "height": 224
        },
        "outputId": "12438905-f41e-4311-ea08-de24f973f299"
      },
      "source": [
        "print(classification_report(y_test, nova_previsao))"
      ],
      "execution_count": 382,
      "outputs": [
        {
          "output_type": "stream",
          "text": [
            "              precision    recall  f1-score   support\n",
            "\n",
            "         Não       0.88      1.00      0.94       302\n",
            "         Sim       0.00      0.00      0.00        41\n",
            "\n",
            "    accuracy                           0.88       343\n",
            "   macro avg       0.44      0.50      0.47       343\n",
            "weighted avg       0.78      0.88      0.82       343\n",
            "\n"
          ],
          "name": "stdout"
        },
        {
          "output_type": "stream",
          "text": [
            "/usr/local/lib/python3.6/dist-packages/sklearn/metrics/_classification.py:1272: UndefinedMetricWarning: Precision and F-score are ill-defined and being set to 0.0 in labels with no predicted samples. Use `zero_division` parameter to control this behavior.\n",
            "  _warn_prf(average, modifier, msg_start, len(result))\n"
          ],
          "name": "stderr"
        }
      ]
    },
    {
      "cell_type": "code",
      "metadata": {
        "id": "GpeN3c_I77Cg",
        "colab_type": "code",
        "colab": {
          "base_uri": "https://localhost:8080/",
          "height": 51
        },
        "outputId": "d2c67a4e-44ae-46d3-911d-8d1aea8fb9cb"
      },
      "source": [
        "confusion_matrix(y_test, nova_previsao)"
      ],
      "execution_count": 383,
      "outputs": [
        {
          "output_type": "execute_result",
          "data": {
            "text/plain": [
              "array([[302,   0],\n",
              "       [ 41,   0]])"
            ]
          },
          "metadata": {
            "tags": []
          },
          "execution_count": 383
        }
      ]
    },
    {
      "cell_type": "code",
      "metadata": {
        "id": "dVO878Gm8PxX",
        "colab_type": "code",
        "colab": {
          "base_uri": "https://localhost:8080/",
          "height": 105
        },
        "outputId": "87374d66-74a1-46d2-de6e-2100b8eee86c"
      },
      "source": [
        "from imblearn.under_sampling import RandomUnderSampler"
      ],
      "execution_count": 384,
      "outputs": [
        {
          "output_type": "stream",
          "text": [
            "/usr/local/lib/python3.6/dist-packages/sklearn/externals/six.py:31: FutureWarning: The module is deprecated in version 0.21 and will be removed in version 0.23 since we've dropped support for Python 2.7. Please rely on the official version of six (https://pypi.org/project/six/).\n",
            "  \"(https://pypi.org/project/six/).\", FutureWarning)\n",
            "/usr/local/lib/python3.6/dist-packages/sklearn/utils/deprecation.py:144: FutureWarning: The sklearn.neighbors.base module is  deprecated in version 0.22 and will be removed in version 0.24. The corresponding classes / functions should instead be imported from sklearn.neighbors. Anything that cannot be imported from sklearn.neighbors is now part of the private API.\n",
            "  warnings.warn(message, FutureWarning)\n"
          ],
          "name": "stderr"
        }
      ]
    },
    {
      "cell_type": "code",
      "metadata": {
        "id": "nm9f6zv69MuC",
        "colab_type": "code",
        "colab": {}
      },
      "source": [
        "sampler = RandomUnderSampler(sampling_strategy='all')"
      ],
      "execution_count": 385,
      "outputs": []
    },
    {
      "cell_type": "code",
      "metadata": {
        "id": "kCM5Z0kC9jsP",
        "colab_type": "code",
        "colab": {
          "base_uri": "https://localhost:8080/",
          "height": 71
        },
        "outputId": "2bb26b1c-8305-4c7c-c8dc-53f78c30d425"
      },
      "source": [
        "X_train, y_train = sampler.fit_resample(X,y)"
      ],
      "execution_count": 388,
      "outputs": [
        {
          "output_type": "stream",
          "text": [
            "/usr/local/lib/python3.6/dist-packages/sklearn/utils/deprecation.py:87: FutureWarning: Function safe_indexing is deprecated; safe_indexing is deprecated in version 0.22 and will be removed in version 0.24.\n",
            "  warnings.warn(msg, category=FutureWarning)\n"
          ],
          "name": "stderr"
        }
      ]
    },
    {
      "cell_type": "code",
      "metadata": {
        "id": "4SVk6Rl49nR_",
        "colab_type": "code",
        "colab": {
          "base_uri": "https://localhost:8080/",
          "height": 153
        },
        "outputId": "9ad94334-3422-4a8e-9939-a752f86af068"
      },
      "source": [
        "modelo.fit(X_train,y_train)"
      ],
      "execution_count": 389,
      "outputs": [
        {
          "output_type": "execute_result",
          "data": {
            "text/plain": [
              "RandomForestClassifier(bootstrap=True, ccp_alpha=0.0, class_weight=None,\n",
              "                       criterion='gini', max_depth=2, max_features='auto',\n",
              "                       max_leaf_nodes=None, max_samples=None,\n",
              "                       min_impurity_decrease=0.0, min_impurity_split=None,\n",
              "                       min_samples_leaf=1, min_samples_split=2,\n",
              "                       min_weight_fraction_leaf=0.0, n_estimators=100,\n",
              "                       n_jobs=None, oob_score=False, random_state=0, verbose=0,\n",
              "                       warm_start=False)"
            ]
          },
          "metadata": {
            "tags": []
          },
          "execution_count": 389
        }
      ]
    },
    {
      "cell_type": "code",
      "metadata": {
        "id": "4d9moAea-Sqk",
        "colab_type": "code",
        "colab": {}
      },
      "source": [
        "previsao_balanceada = modelo.predict(X_test)"
      ],
      "execution_count": 390,
      "outputs": []
    },
    {
      "cell_type": "code",
      "metadata": {
        "id": "A1JsM0io-dGT",
        "colab_type": "code",
        "colab": {
          "base_uri": "https://localhost:8080/",
          "height": 34
        },
        "outputId": "1fc9df7e-c864-49af-b6e6-1105d5866559"
      },
      "source": [
        "accuracy_score(y_test, previsao_balanceada)"
      ],
      "execution_count": 391,
      "outputs": [
        {
          "output_type": "execute_result",
          "data": {
            "text/plain": [
              "0.7551020408163265"
            ]
          },
          "metadata": {
            "tags": []
          },
          "execution_count": 391
        }
      ]
    },
    {
      "cell_type": "code",
      "metadata": {
        "id": "Zp-pEOqN-krM",
        "colab_type": "code",
        "colab": {
          "base_uri": "https://localhost:8080/",
          "height": 170
        },
        "outputId": "362e6815-de1c-4975-a320-381877b4faa7"
      },
      "source": [
        "print(classification_report(y_test, previsao_balanceada))"
      ],
      "execution_count": 393,
      "outputs": [
        {
          "output_type": "stream",
          "text": [
            "              precision    recall  f1-score   support\n",
            "\n",
            "         Não       0.95      0.76      0.85       302\n",
            "         Sim       0.29      0.71      0.41        41\n",
            "\n",
            "    accuracy                           0.76       343\n",
            "   macro avg       0.62      0.73      0.63       343\n",
            "weighted avg       0.87      0.76      0.79       343\n",
            "\n"
          ],
          "name": "stdout"
        }
      ]
    },
    {
      "cell_type": "code",
      "metadata": {
        "id": "_FcND7UN-sV0",
        "colab_type": "code",
        "colab": {
          "base_uri": "https://localhost:8080/",
          "height": 544
        },
        "outputId": "3ec707bd-82b0-49d2-f065-7bc941d7ab88"
      },
      "source": [
        "pip install tpot"
      ],
      "execution_count": 394,
      "outputs": [
        {
          "output_type": "stream",
          "text": [
            "Collecting tpot\n",
            "\u001b[?25l  Downloading https://files.pythonhosted.org/packages/14/5e/cb87b0257033a7a396e533a634079ee151a239d180efe2a8b1d2e3584d23/TPOT-0.11.5-py3-none-any.whl (82kB)\n",
            "\r\u001b[K     |████                            | 10kB 17.7MB/s eta 0:00:01\r\u001b[K     |████████                        | 20kB 1.7MB/s eta 0:00:01\r\u001b[K     |████████████                    | 30kB 2.3MB/s eta 0:00:01\r\u001b[K     |████████████████                | 40kB 2.5MB/s eta 0:00:01\r\u001b[K     |████████████████████            | 51kB 2.0MB/s eta 0:00:01\r\u001b[K     |████████████████████████        | 61kB 2.2MB/s eta 0:00:01\r\u001b[K     |████████████████████████████    | 71kB 2.5MB/s eta 0:00:01\r\u001b[K     |███████████████████████████████▉| 81kB 2.7MB/s eta 0:00:01\r\u001b[K     |████████████████████████████████| 92kB 2.4MB/s \n",
            "\u001b[?25hRequirement already satisfied: scikit-learn>=0.22.0 in /usr/local/lib/python3.6/dist-packages (from tpot) (0.22.2.post1)\n",
            "Collecting deap>=1.2\n",
            "\u001b[?25l  Downloading https://files.pythonhosted.org/packages/0a/eb/2bd0a32e3ce757fb26264765abbaedd6d4d3640d90219a513aeabd08ee2b/deap-1.3.1-cp36-cp36m-manylinux2010_x86_64.whl (157kB)\n",
            "\u001b[K     |████████████████████████████████| 163kB 8.5MB/s \n",
            "\u001b[?25hCollecting stopit>=1.1.1\n",
            "  Downloading https://files.pythonhosted.org/packages/35/58/e8bb0b0fb05baf07bbac1450c447d753da65f9701f551dca79823ce15d50/stopit-1.1.2.tar.gz\n",
            "Requirement already satisfied: joblib>=0.13.2 in /usr/local/lib/python3.6/dist-packages (from tpot) (0.16.0)\n",
            "Collecting update-checker>=0.16\n",
            "  Downloading https://files.pythonhosted.org/packages/0c/ba/8dd7fa5f0b1c6a8ac62f8f57f7e794160c1f86f31c6d0fb00f582372a3e4/update_checker-0.18.0-py3-none-any.whl\n",
            "Requirement already satisfied: tqdm>=4.36.1 in /usr/local/lib/python3.6/dist-packages (from tpot) (4.41.1)\n",
            "Requirement already satisfied: scipy>=1.3.1 in /usr/local/lib/python3.6/dist-packages (from tpot) (1.4.1)\n",
            "Requirement already satisfied: pandas>=0.24.2 in /usr/local/lib/python3.6/dist-packages (from tpot) (1.0.5)\n",
            "Requirement already satisfied: numpy>=1.16.3 in /usr/local/lib/python3.6/dist-packages (from tpot) (1.18.5)\n",
            "Requirement already satisfied: requests>=2.3.0 in /usr/local/lib/python3.6/dist-packages (from update-checker>=0.16->tpot) (2.23.0)\n",
            "Requirement already satisfied: python-dateutil>=2.6.1 in /usr/local/lib/python3.6/dist-packages (from pandas>=0.24.2->tpot) (2.8.1)\n",
            "Requirement already satisfied: pytz>=2017.2 in /usr/local/lib/python3.6/dist-packages (from pandas>=0.24.2->tpot) (2018.9)\n",
            "Requirement already satisfied: certifi>=2017.4.17 in /usr/local/lib/python3.6/dist-packages (from requests>=2.3.0->update-checker>=0.16->tpot) (2020.6.20)\n",
            "Requirement already satisfied: idna<3,>=2.5 in /usr/local/lib/python3.6/dist-packages (from requests>=2.3.0->update-checker>=0.16->tpot) (2.10)\n",
            "Requirement already satisfied: chardet<4,>=3.0.2 in /usr/local/lib/python3.6/dist-packages (from requests>=2.3.0->update-checker>=0.16->tpot) (3.0.4)\n",
            "Requirement already satisfied: urllib3!=1.25.0,!=1.25.1,<1.26,>=1.21.1 in /usr/local/lib/python3.6/dist-packages (from requests>=2.3.0->update-checker>=0.16->tpot) (1.24.3)\n",
            "Requirement already satisfied: six>=1.5 in /usr/local/lib/python3.6/dist-packages (from python-dateutil>=2.6.1->pandas>=0.24.2->tpot) (1.15.0)\n",
            "Building wheels for collected packages: stopit\n",
            "  Building wheel for stopit (setup.py) ... \u001b[?25l\u001b[?25hdone\n",
            "  Created wheel for stopit: filename=stopit-1.1.2-cp36-none-any.whl size=11956 sha256=bdf4cc63f7dcae6dd66b6d10752d1dbd3e58fce0f11445bd5ff32ed9be10a90d\n",
            "  Stored in directory: /root/.cache/pip/wheels/3c/85/2b/2580190404636bfc63e8de3dff629c03bb795021e1983a6cc7\n",
            "Successfully built stopit\n",
            "Installing collected packages: deap, stopit, update-checker, tpot\n",
            "Successfully installed deap-1.3.1 stopit-1.1.2 tpot-0.11.5 update-checker-0.18.0\n"
          ],
          "name": "stdout"
        }
      ]
    },
    {
      "cell_type": "code",
      "metadata": {
        "id": "0Q75YbDg-4jL",
        "colab_type": "code",
        "colab": {}
      },
      "source": [
        "from tpot import TPOTClassifier"
      ],
      "execution_count": 396,
      "outputs": []
    },
    {
      "cell_type": "code",
      "metadata": {
        "id": "I45WYnSv--ei",
        "colab_type": "code",
        "colab": {}
      },
      "source": [
        "tp = TPOTClassifier(generations=5, verbosity=2)"
      ],
      "execution_count": 397,
      "outputs": []
    },
    {
      "cell_type": "code",
      "metadata": {
        "id": "hRUBYC4N_RwT",
        "colab_type": "code",
        "colab": {
          "base_uri": "https://localhost:8080/",
          "height": 153
        },
        "outputId": "13132f9b-e0e9-405b-cbf4-9064f4a57434"
      },
      "source": [
        "tp.fit(X_train, y_train)"
      ],
      "execution_count": 398,
      "outputs": [
        {
          "output_type": "execute_result",
          "data": {
            "text/plain": [
              "TPOTClassifier(config_dict=None, crossover_rate=0.1, cv=5,\n",
              "               disable_update_check=False, early_stop=None, generations=5,\n",
              "               log_file=<ipykernel.iostream.OutStream object at 0x7fda1465f9e8>,\n",
              "               max_eval_time_mins=5, max_time_mins=None, memory=None,\n",
              "               mutation_rate=0.9, n_jobs=1, offspring_size=None,\n",
              "               periodic_checkpoint_folder=None, population_size=100,\n",
              "               random_state=None, scoring=None, subsample=1.0, template=None,\n",
              "               use_dask=False, verbosity=0, warm_start=False)"
            ]
          },
          "metadata": {
            "tags": []
          },
          "execution_count": 398
        }
      ]
    },
    {
      "cell_type": "code",
      "metadata": {
        "id": "E2OtQ5SH_Z6i",
        "colab_type": "code",
        "colab": {}
      },
      "source": [
        "tp.export('tpot_live')"
      ],
      "execution_count": 399,
      "outputs": []
    },
    {
      "cell_type": "code",
      "metadata": {
        "id": "RtH72--zCVzX",
        "colab_type": "code",
        "colab": {}
      },
      "source": [
        "from sklearn.ensemble import GradientBoostingClassifier\n",
        "automodelo = GradientBoostingClassifier(learning_rate=0.1, max_depth=2, max_features=0.3, min_samples_leaf=8, min_samples_split=7, n_estimators=100, subsample=0.4)"
      ],
      "execution_count": 400,
      "outputs": []
    },
    {
      "cell_type": "code",
      "metadata": {
        "id": "6ZTp-KcQC3ja",
        "colab_type": "code",
        "colab": {
          "base_uri": "https://localhost:8080/",
          "height": 187
        },
        "outputId": "65a99e7f-452e-4fb7-d281-e33d7142dfb9"
      },
      "source": [
        "automodelo.fit(X_train, y_train)"
      ],
      "execution_count": 401,
      "outputs": [
        {
          "output_type": "execute_result",
          "data": {
            "text/plain": [
              "GradientBoostingClassifier(ccp_alpha=0.0, criterion='friedman_mse', init=None,\n",
              "                           learning_rate=0.1, loss='deviance', max_depth=2,\n",
              "                           max_features=0.3, max_leaf_nodes=None,\n",
              "                           min_impurity_decrease=0.0, min_impurity_split=None,\n",
              "                           min_samples_leaf=8, min_samples_split=7,\n",
              "                           min_weight_fraction_leaf=0.0, n_estimators=100,\n",
              "                           n_iter_no_change=None, presort='deprecated',\n",
              "                           random_state=None, subsample=0.4, tol=0.0001,\n",
              "                           validation_fraction=0.1, verbose=0,\n",
              "                           warm_start=False)"
            ]
          },
          "metadata": {
            "tags": []
          },
          "execution_count": 401
        }
      ]
    },
    {
      "cell_type": "code",
      "metadata": {
        "id": "00xpGxGGC7RL",
        "colab_type": "code",
        "colab": {}
      },
      "source": [
        "prev_tpot = automodelo.predict(X_test)"
      ],
      "execution_count": 402,
      "outputs": []
    },
    {
      "cell_type": "code",
      "metadata": {
        "id": "P1Y46VrnDRpz",
        "colab_type": "code",
        "colab": {
          "base_uri": "https://localhost:8080/",
          "height": 170
        },
        "outputId": "1e9995ed-5b34-4d98-c748-f36d80575122"
      },
      "source": [
        "print(classification_report(y_test, prev_tpot))"
      ],
      "execution_count": 403,
      "outputs": [
        {
          "output_type": "stream",
          "text": [
            "              precision    recall  f1-score   support\n",
            "\n",
            "         Não       0.98      0.71      0.82       302\n",
            "         Sim       0.29      0.90      0.44        41\n",
            "\n",
            "    accuracy                           0.73       343\n",
            "   macro avg       0.64      0.80      0.63       343\n",
            "weighted avg       0.90      0.73      0.78       343\n",
            "\n"
          ],
          "name": "stdout"
        }
      ]
    },
    {
      "cell_type": "code",
      "metadata": {
        "id": "4TnZgLyADa3D",
        "colab_type": "code",
        "colab": {
          "base_uri": "https://localhost:8080/",
          "height": 34
        },
        "outputId": "3c6072e5-dad6-4538-8344-00f2e58e02c9"
      },
      "source": [
        "accuracy_score(y_test, prev_tpot)"
      ],
      "execution_count": 404,
      "outputs": [
        {
          "output_type": "execute_result",
          "data": {
            "text/plain": [
              "0.7288629737609329"
            ]
          },
          "metadata": {
            "tags": []
          },
          "execution_count": 404
        }
      ]
    },
    {
      "cell_type": "code",
      "metadata": {
        "id": "8KoKXWfWDgL6",
        "colab_type": "code",
        "colab": {
          "base_uri": "https://localhost:8080/",
          "height": 51
        },
        "outputId": "66e0799b-6d0e-4597-f699-5c7feafda989"
      },
      "source": [
        "confusion_matrix(y_test, prev_tpot)"
      ],
      "execution_count": 405,
      "outputs": [
        {
          "output_type": "execute_result",
          "data": {
            "text/plain": [
              "array([[213,  89],\n",
              "       [  4,  37]])"
            ]
          },
          "metadata": {
            "tags": []
          },
          "execution_count": 405
        }
      ]
    },
    {
      "cell_type": "code",
      "metadata": {
        "id": "4O_nqBXBDkeR",
        "colab_type": "code",
        "colab": {}
      },
      "source": [
        ""
      ],
      "execution_count": null,
      "outputs": []
    }
  ]
}